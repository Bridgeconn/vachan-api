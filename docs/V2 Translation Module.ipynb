{
 "cells": [
  {
   "cell_type": "markdown",
   "id": "97e7a5db",
   "metadata": {
    "heading_collapsed": true
   },
   "source": [
    "# Translation Module Workflow "
   ]
  },
  {
   "cell_type": "markdown",
   "id": "131a3af2",
   "metadata": {
    "hidden": true
   },
   "source": [
    "To be able to run the examples in this notebook\n",
    "- Need to pull the code from https://github.com/Bridgeconn/vachan-api/ version-2 branch\n",
    "- [set up the app locally](https://github.com/Bridgeconn/vachan-api/tree/version-2#how-to-set-up-locally-for-development-and-testing)\n",
    "- Use the apps venv\n",
    "- start the app from the vachan-api/app folder\n",
    "    ```\n",
    "    >>>uvicorn main:app\n",
    "    ```"
   ]
  },
  {
   "cell_type": "markdown",
   "id": "261ef812",
   "metadata": {
    "heading_collapsed": true,
    "hidden": true
   },
   "source": [
    "### Upload a bible to be used as source/reference"
   ]
  },
  {
   "cell_type": "markdown",
   "id": "c9758ba3",
   "metadata": {
    "hidden": true
   },
   "source": [
    "NB: It is not mandatory that the Bible be uploaded like this to the server. If a user of the translation app wants to user a USFM file of his own as source/reference in his project, it is possible. It is demostarted below. This Bible upload is to show that a user can make use of a Bible that is available on the cloud as his source too."
   ]
  },
  {
   "cell_type": "code",
   "execution_count": 2,
   "id": "519283ce",
   "metadata": {
    "hidden": true
   },
   "outputs": [],
   "source": [
    "import json\n",
    "import requests\n",
    "\n",
    "BASE_URL = \"http://127.0.0.1:8000/v2/\"\n",
    "headers = {\"contentType\": \"application/json\", \"accept\": \"application/json\"}"
   ]
  },
  {
   "cell_type": "code",
   "execution_count": 2,
   "id": "d3a775e4",
   "metadata": {
    "hidden": true
   },
   "outputs": [],
   "source": [
    "ver_data = {\n",
    "    \"versionAbbreviation\": \"XYZ\",\n",
    "    \"versionName\": \"Xyz version to test\",\n",
    "    \"revision\": \"1\",\n",
    "    \"metaData\": {\"owner\": \"someone\", \"access-key\": \"123xyz\"}\n",
    "}\n",
    "\n",
    "src_data = {\n",
    "    \"contentType\": \"bible\",\n",
    "    \"language\": \"hi\",\n",
    "    \"version\": \"XYZ\",\n",
    "    \"revision\": 1,\n",
    "    \"year\": 2020,\n",
    "    \"license\": \"CC-BY-SA\",\n",
    "    \"metaData\": {\"owner\": \"someone\", \"access-key\": \"123xyz\"}\n",
    "}\n",
    "\n",
    "gospel_books_data = [\n",
    "        {\"USFM\":\"\\\\id mat\\n\\\\c 1\\n\\\\p\\n\\\\v 1 अब्राहम की सन्तान, दाऊद की सन्तान, यीशु मसीह की वंशावली ।\"+\n",
    "         \"\\\\v 2 अब्राहम से इसहाक उत्पन्न हुआ, इसहाक से याकूब उत्पन्न हुआ, और याकूब से यहूदा और उसके भाई उत्पन्न हुए।\"+\n",
    "         \"\\\\v 3 यहूदा और तामार से पेरेस व जेरह उत्पन्न हुए, और पेरेस से हेस्रोन उत्पन्न हुआ, और हेस्रोन से एराम उत्पन्न हुआ।\"+\n",
    "         \"\\\\v 4 एराम से अम्मीनादाब उत्पन्न हुआ, और अम्मीनादाब से नहशोन, और नहशोन से सलमोन उत्पन्न हुआ। \"+\n",
    "         \"\\\\v 5 सलमोन और राहाब से बोअज उत्पन्न हुआ, और बोअज और रूत से ओबेद उत्पन्न हुआ, और ओबेद से यिशै उत्पन्न हुआ।\"+\n",
    "         \"\\\\v 6 और यिशै से दाऊद राजा उत्पन्न हुआ। और दाऊद से सुलैमान उस स्त्री से उत्पन्न हुआ जो पहले ऊरिय्याह की पत्नी थी।\"+\n",
    "         \"\\\\v 7 सुलैमान से रहबाम उत्पन्न हुआ, और रहबाम से अबिय्याह उत्पन्न हुआ, और अबिय्याह से आसा उत्पन्न हुआ।\"+\n",
    "         \"\\\\v 8 आसा से यहोशाफात उत्पन्न हुआ, और यहोशाफात से योराम उत्पन्न हुआ, और योराम से उज्जियाह उत्पन्न हुआ।\"+\n",
    "         \"\\\\v 9 उज्जियाह से योताम उत्पन्न हुआ, योताम से आहाज उत्पन्न हुआ, और आहाज से हिजकिय्याह उत्पन्न हुआ।\"+\n",
    "         \"\\\\v 10 हिजकिय्याह से मनश्शे उत्पन्न हुआ, मनश्शे से आमोन उत्पन्न हुआ, और आमोन से योशिय्याह उत्पन्न हुआ।\"},\n",
    "        {\"USFM\": \"\\\\id mrk\\n\\\\c 1\\n\\\\p\\n\\\\v 1 परमेश्वर के पुत्र यीशु मसीह के सुसमाचार का आरम्भ।\"+\n",
    "         \"\\\\v 2 जैसे यशायाह भविष्यद्वक्ता की पुस्तक में लिखा है: “देख, मैं अपने दूत को तेरे आगे भेजता हूँ, जो तेरे लिये मार्ग सुधारेगा।\"+\n",
    "         \"\\\\v 3 जंगल में एक पुकारनेवाले का शब्द हो रहा है कि प्रभु का मार्ग तैयार करो, और उसकी सड़कें सीधी करो।”\"+\n",
    "         \"\\\\v 4 यूहन्ना आया, जो जंगल में बपतिस्मा देता, और पापों की क्षमा के लिये मन फिराव के बपतिस्मा का प्रचार करता था।\"+\n",
    "         \"\\\\v 5 सारे यहूदिया के, और यरूशलेम के सब रहनेवाले निकलकर उसके पास गए, और अपने पापों को मानकर यरदन नदी में उससे बपतिस्मा लिया।\"+\n",
    "         \"\\\\v 6 यूहन्ना ऊँट के रोम का वस्त्र पहने और अपनी कमर में चमड़े का कमरबन्द बाँधे रहता था और टिड्डियाँ और वनमधु खाया करता था।\"+\n",
    "         \"\\\\v 7 और यह प्रचार करता था, “मेरे बाद वह आनेवाला है, जो मुझसे शक्तिशाली है; मैं इस योग्य नहीं कि झुककर उसके जूतों का फीता खोलूँ।\"+\n",
    "         \"\\\\v 8 मैंने तो तुम्हें पानी से बपतिस्मा दिया है पर वह तुम्हें पवित्र आत्मा से बपतिस्मा देगा।”\"},\n",
    "        {\"USFM\":\"\\\\id luk\\n\\\\c 1\\n\\\\p\\n\\\\v 1 बहुतों ने उन बातों का जो हमारे बीच में बीती हैं, इतिहास लिखने में हाथ लगाया है।\"+\n",
    "         \"\\\\v 2 जैसा कि उन्होंने जो पहले ही से इन बातों के देखनेवाले और वचन के सेवक थे हम तक पहुँचाया।\"+\n",
    "         \"\\\\v 3 इसलिए हे श्रीमान थियुफिलुस मुझे भी यह उचित मालूम हुआ कि उन सब बातों का सम्पूर्ण हाल आरम्भ से ठीक-ठीक जाँच करके उन्हें तेरे लिये क्रमानुसार लिखूँ,\"+\n",
    "         \"\\\\v 4 कि तू यह जान ले, कि वे बातें जिनकी तूने शिक्षा पाई है, कैसी अटल हैं।\"},\n",
    "        {\"USFM\": \"\\\\id jhn\\n\\\\c 1\\n\\\\p\\n\\\\v 1 आदि में वचन था, और वचन परमेश्वर के साथ था, और वचन परमेश्वर था।\"+\n",
    "         \"\\\\v 2 यही आदि में परमेश्वर के साथ था।\"+\n",
    "         \"\\\\v 3 सब कुछ उसी के द्वारा उत्पन्न हुआ और जो कुछ उत्पन्न हुआ है, उसमें से कोई भी वस्तु उसके बिना उत्पन्न न हुई।\"+\n",
    "         \"\\\\v 4 उसमें जीवन था; और वह जीवन मनुष्यों की ज्योति था।\"}\n",
    "]"
   ]
  },
  {
   "cell_type": "code",
   "execution_count": 6,
   "id": "32fe3633",
   "metadata": {
    "hidden": true
   },
   "outputs": [
    {
     "ename": "NameError",
     "evalue": "name 'ver_data' is not defined",
     "output_type": "error",
     "traceback": [
      "\u001b[0;31m---------------------------------------------------------------------------\u001b[0m",
      "\u001b[0;31mNameError\u001b[0m                                 Traceback (most recent call last)",
      "\u001b[0;32m/tmp/ipykernel_24773/1460479255.py\u001b[0m in \u001b[0;36m<module>\u001b[0;34m\u001b[0m\n\u001b[0;32m----> 1\u001b[0;31m \u001b[0mresp\u001b[0m \u001b[0;34m=\u001b[0m \u001b[0mrequests\u001b[0m\u001b[0;34m.\u001b[0m\u001b[0mpost\u001b[0m\u001b[0;34m(\u001b[0m\u001b[0mBASE_URL\u001b[0m\u001b[0;34m+\u001b[0m\u001b[0;34m\"versions\"\u001b[0m\u001b[0;34m,\u001b[0m \u001b[0mheaders\u001b[0m\u001b[0;34m=\u001b[0m\u001b[0mheaders\u001b[0m\u001b[0;34m,\u001b[0m \u001b[0mjson\u001b[0m\u001b[0;34m=\u001b[0m\u001b[0mver_data\u001b[0m\u001b[0;34m)\u001b[0m\u001b[0;34m\u001b[0m\u001b[0;34m\u001b[0m\u001b[0m\n\u001b[0m\u001b[1;32m      2\u001b[0m \u001b[0mprint\u001b[0m\u001b[0;34m(\u001b[0m\u001b[0mresp\u001b[0m\u001b[0;34m.\u001b[0m\u001b[0mjson\u001b[0m\u001b[0;34m(\u001b[0m\u001b[0;34m)\u001b[0m\u001b[0;34m[\u001b[0m\u001b[0;34m'message'\u001b[0m\u001b[0;34m]\u001b[0m\u001b[0;34m)\u001b[0m\u001b[0;34m\u001b[0m\u001b[0;34m\u001b[0m\u001b[0m\n\u001b[1;32m      3\u001b[0m \u001b[0;34m\u001b[0m\u001b[0m\n\u001b[1;32m      4\u001b[0m \u001b[0mresp\u001b[0m \u001b[0;34m=\u001b[0m \u001b[0mrequests\u001b[0m\u001b[0;34m.\u001b[0m\u001b[0mpost\u001b[0m\u001b[0;34m(\u001b[0m\u001b[0mBASE_URL\u001b[0m\u001b[0;34m+\u001b[0m\u001b[0;34m\"sources\"\u001b[0m\u001b[0;34m,\u001b[0m \u001b[0mheaders\u001b[0m\u001b[0;34m=\u001b[0m\u001b[0mheaders\u001b[0m\u001b[0;34m,\u001b[0m \u001b[0mjson\u001b[0m\u001b[0;34m=\u001b[0m\u001b[0msrc_data\u001b[0m\u001b[0;34m)\u001b[0m\u001b[0;34m\u001b[0m\u001b[0;34m\u001b[0m\u001b[0m\n\u001b[1;32m      5\u001b[0m \u001b[0mprint\u001b[0m\u001b[0;34m(\u001b[0m\u001b[0mresp\u001b[0m\u001b[0;34m.\u001b[0m\u001b[0mjson\u001b[0m\u001b[0;34m(\u001b[0m\u001b[0;34m)\u001b[0m\u001b[0;34m[\u001b[0m\u001b[0;34m'message'\u001b[0m\u001b[0;34m]\u001b[0m\u001b[0;34m)\u001b[0m\u001b[0;34m\u001b[0m\u001b[0;34m\u001b[0m\u001b[0m\n",
      "\u001b[0;31mNameError\u001b[0m: name 'ver_data' is not defined"
     ]
    }
   ],
   "source": [
    "resp = requests.post(BASE_URL+\"versions\", headers=headers, json=ver_data)\n",
    "print(resp.json()['message'])\n",
    "\n",
    "resp = requests.post(BASE_URL+\"sources\", headers=headers, json=src_data)\n",
    "print(resp.json()['message'])\n",
    "source_name = resp.json()['data']['sourceName']\n",
    "\n",
    "resp = requests.post(BASE_URL+\"bibles/\"+source_name+\"/books\", headers=headers,\n",
    "json=gospel_books_data)\n",
    "print(resp.json()['message'])\n"
   ]
  },
  {
   "cell_type": "markdown",
   "id": "c1b925b8",
   "metadata": {
    "heading_collapsed": true,
    "hidden": true
   },
   "source": [
    "## A Translation Project"
   ]
  },
  {
   "cell_type": "code",
   "execution_count": 3,
   "id": "09e76a6e",
   "metadata": {
    "hidden": true
   },
   "outputs": [
    {
     "name": "stdout",
     "output_type": "stream",
     "text": [
      "Project created successfully\n"
     ]
    }
   ],
   "source": [
    "project_post_data = {\n",
    "    \"projectName\": \"Hindi-Malayalam Demo Project\",\n",
    "    \"sourceLanguageCode\": \"hi\",\n",
    "    \"targetLanguageCode\": \"ml\"\n",
    "}\n",
    "\n",
    "prj_creation_resp = requests.post(BASE_URL+\"autographa/projects\", headers=headers, json=project_post_data)\n",
    "print(prj_creation_resp.json()[\"message\"])\n",
    "project_id = prj_creation_resp.json()['data']['projectId']\n",
    "\n"
   ]
  },
  {
   "cell_type": "code",
   "execution_count": 4,
   "id": "23c130cc",
   "metadata": {
    "hidden": true
   },
   "outputs": [
    {
     "name": "stdout",
     "output_type": "stream",
     "text": [
      "100049\n",
      "[]\n"
     ]
    }
   ],
   "source": [
    "print(project_id)\n",
    "print(prj_creation_resp.json()[\"data\"][\"metaData\"][\"books\"])"
   ]
  },
  {
   "cell_type": "code",
   "execution_count": 8,
   "id": "0fa956d6",
   "metadata": {
    "hidden": true
   },
   "outputs": [],
   "source": [
    "bible_books = {\n",
    "    \"mat\":  \"\\\\id MAT\\n\\\\c 1\\n\\\\p\\n\\\\v 1 इब्राहीम के वंशज दाऊद के पुत्र यीशु मसीह की वंशावली इस \"+\n",
    "            \"प्रकार है:\\n\\\\v 2 इब्राहीम का पुत्र था इसहाक और इसहाक का पुत्र हुआ याकूब। फिर याकूब \"+\n",
    "            \"से यहूदा और उसके भाई उत्पन्न हुए।\\n\\\\v 3 यहूदा के बेटे थे फिरिस और जोरह। (उनकी माँ \"+\n",
    "            \"का नाम तामार था।) फिरिस, हिस्रोन का पिता था। हिस्रोन राम का पिता था।\",\n",
    "    \"mrk\":    \"\\\\id MRK\\n\\\\c 1\\n\\\\p\\n\\\\v 1 यह परमेश्वर के पुत्र यीशु मसीह के शुभ संदेश का प्रारम्भ\"+\n",
    "            \" है।\\n\\\\v 2 भविष्यवक्ता यशायाह की पुस्तक में लिखा है कि: “सुन! मैं अपने दूत को तुझसे\"+\n",
    "            \" पहले भेज रहा हूँ। वह तेरे लिये मार्ग तैयार करेगा।”\\n\\\\v 3 “जंगल में किसी पुकारने \"+\n",
    "            \"वाले का शब्द सुनाई दे रहा है: ‘प्रभु के लिये मार्ग तैयार करो। और उसके लिये राहें \"+\n",
    "            \"सीधी बनाओ।’”\\n\\\\v 4 यूहन्ना लोगों को जंगल में बपतिस्मा देते आया था। उसने लोगों से\"+\n",
    "            \" पापों की क्षमा के लिए मन फिराव का बपतिस्मा लेने को कहा।\\n\\\\v 5 फिर समूचे यहूदिया\"+\n",
    "            \" देश के और यरूशलेम के लोग उसके पास गये और उस ने यर्दन नदी में उन्हें बपतिस्मा दिया\"+\n",
    "            \"। क्योंकि उन्होंने अपने पाप मान लिये थे।\"\n",
    "}\n",
    "\n",
    "source_name = \"hi_XYZ_1_bible\"\n",
    "\n",
    "project_update_data = {\n",
    "\t\"projectId\":project_id,\n",
    "    \"uploadedBooks\":[bible_books['mat'], bible_books['mrk']],\n",
    "    \"selectedBooks\":{\"bible\": source_name,\n",
    "    \t\t\t\t \"books\": ['luk', 'jhn']}\n",
    "\n",
    "}\n"
   ]
  },
  {
   "cell_type": "code",
   "execution_count": 9,
   "id": "3aa51b93",
   "metadata": {
    "hidden": true
   },
   "outputs": [
    {
     "name": "stdout",
     "output_type": "stream",
     "text": [
      "Project updated successfully\n",
      "['luk', 'jhn', 'mat', 'mrk']\n"
     ]
    }
   ],
   "source": [
    "project_update_resp = requests.put(BASE_URL+\"autographa/projects\", headers=headers, json=project_update_data)\n",
    "print(project_update_resp.json()['message'])\n",
    "print(project_update_resp.json()['data']['metaData']['books'])"
   ]
  },
  {
   "cell_type": "code",
   "execution_count": 10,
   "id": "f29609c8",
   "metadata": {
    "hidden": true
   },
   "outputs": [
    {
     "name": "stdout",
     "output_type": "stream",
     "text": [
      "mat 1:1 इब्राहीम के वंशज दाऊद के पुत्र यीशु मसीह की वंशावली इस प्रकार है:\n",
      "mat 1:2 इब्राहीम का पुत्र था इसहाक और इसहाक का पुत्र हुआ याकूब। फिर याकूब से यहूदा और उसके भाई उत्पन्न हुए।\n",
      "mat 1:3 यहूदा के बेटे थे फिरिस और जोरह। (उनकी माँ का नाम तामार था।) फिरिस, हिस्रोन का पिता था। हिस्रोन राम का पिता था।\n",
      "mrk 1:1 यह परमेश्वर के पुत्र यीशु मसीह के शुभ संदेश का प्रारम्भ है।\n",
      "mrk 1:2 भविष्यवक्ता यशायाह की पुस्तक में लिखा है कि: “सुन! मैं अपने दूत को तुझसे पहले भेज रहा हूँ। वह तेरे लिये मार्ग तैयार करेगा।”\n",
      "mrk 1:3 “जंगल में किसी पुकारने वाले का शब्द सुनाई दे रहा है: ‘प्रभु के लिये मार्ग तैयार करो। और उसके लिये राहें सीधी बनाओ।’”\n",
      "mrk 1:4 यूहन्ना लोगों को जंगल में बपतिस्मा देते आया था। उसने लोगों से पापों की क्षमा के लिए मन फिराव का बपतिस्मा लेने को कहा।\n",
      "mrk 1:5 फिर समूचे यहूदिया देश के और यरूशलेम के लोग उसके पास गये और उस ने यर्दन नदी में उन्हें बपतिस्मा दिया। क्योंकि उन्होंने अपने पाप मान लिये थे।\n",
      "luk 1:1 बहुतों ने उन बातों का जो हमारे बीच में बीती हैं, इतिहास लिखने में हाथ लगाया है।\n",
      "luk 1:2 जैसा कि उन्होंने जो पहले ही से इन बातों के देखनेवाले और वचन के सेवक थे हम तक पहुँचाया।\n",
      "luk 1:3 इसलिए हे श्रीमान थियुफिलुस मुझे भी यह उचित मालूम हुआ कि उन सब बातों का सम्पूर्ण हाल आरम्भ से ठीक-ठीक जाँच करके उन्हें तेरे लिये क्रमानुसार लिखूँ,\n",
      "luk 1:4 कि तू यह जान ले, कि वे बातें जिनकी तूने शिक्षा पाई है, कैसी अटल हैं।\n",
      "jhn 1:1 आदि में वचन था, और वचन परमेश्वर के साथ था, और वचन परमेश्वर था।\n",
      "jhn 1:2 यही आदि में परमेश्वर के साथ था।\n",
      "jhn 1:3 सब कुछ उसी के द्वारा उत्पन्न हुआ और जो कुछ उत्पन्न हुआ है, उसमें से कोई भी वस्तु उसके बिना उत्पन्न न हुई।\n",
      "jhn 1:4 उसमें जीवन था; और वह जीवन मनुष्यों की ज्योति था।\n"
     ]
    }
   ],
   "source": [
    "project_source = requests.get(BASE_URL+\"autographa/project/sentences?project_id=\"+str(project_id), headers=headers)\n",
    "for item in project_source.json():\n",
    "    print(item['surrogateId'], item['sentence'])"
   ]
  },
  {
   "cell_type": "markdown",
   "id": "8ae491d2",
   "metadata": {
    "heading_collapsed": true,
    "hidden": true
   },
   "source": [
    "## Tokenization"
   ]
  },
  {
   "cell_type": "code",
   "execution_count": 11,
   "id": "de260cbf",
   "metadata": {
    "hidden": true
   },
   "outputs": [],
   "source": [
    "def pretty_print_tokens(tokens):\n",
    "    for token in tokens:\n",
    "        print(token['token'],end=\"\\t\\t\")\n",
    "        print(\"occurrences:\",[(item['sentenceId'], item['offset']) for item in token['occurrences']], end=\"\\t\")\n",
    "        print(\"translation-suggestions:\", [key for key in token['translations']])"
   ]
  },
  {
   "cell_type": "code",
   "execution_count": 12,
   "id": "4b1d1f0f",
   "metadata": {
    "code_folding": [],
    "hidden": true
   },
   "outputs": [
    {
     "name": "stdout",
     "output_type": "stream",
     "text": [
      "{'token': 'इब्राहीम', 'occurrences': [{'sentenceId': 41001001, 'offset': [0, 8]}, {'sentenceId': 41001002, 'offset': [0, 8]}], 'translations': {'അബ്രഹാം': 4.0}, 'metaData': None}\n"
     ]
    }
   ],
   "source": [
    "# default\n",
    "default_tokens_resp = requests.get(BASE_URL+\"autographa/project/tokens?project_id=\"+str(project_id))\n",
    "print(default_tokens_resp.json()[0])\n"
   ]
  },
  {
   "cell_type": "code",
   "execution_count": 13,
   "id": "2e2dff57",
   "metadata": {
    "hidden": true
   },
   "outputs": [
    {
     "name": "stdout",
     "output_type": "stream",
     "text": [
      "इब्राहीम\t\toccurrences: [(41001001, [0, 8]), (41001002, [0, 8])]\ttranslation-suggestions: ['അബ്രഹാം']\n",
      "वंशज\t\toccurrences: [(41001001, [12, 16])]\ttranslation-suggestions: []\n",
      "दाऊद के\t\toccurrences: [(41001001, [17, 24])]\ttranslation-suggestions: []\n",
      "पुत्र\t\toccurrences: [(41001001, [25, 30]), (41001002, [12, 17]), (41001002, [39, 44]), (42001001, [15, 20])]\ttranslation-suggestions: ['പുത്രന്\\u200d']\n",
      "यीशु मसीह\t\toccurrences: [(41001001, [31, 40]), (42001001, [21, 30])]\ttranslation-suggestions: ['യേശു ക്രിസ്തു']\n",
      "वंशावली\t\toccurrences: [(41001001, [44, 51])]\ttranslation-suggestions: []\n",
      "इस प्रकार है\t\toccurrences: [(41001001, [52, 64])]\ttranslation-suggestions: []\n",
      "इसहाक और\t\toccurrences: [(41001002, [21, 29])]\ttranslation-suggestions: []\n",
      "इसहाक का\t\toccurrences: [(41001002, [30, 38])]\ttranslation-suggestions: []\n",
      "याकूब\t\toccurrences: [(41001002, [49, 54])]\ttranslation-suggestions: []\n",
      "फिर\t\toccurrences: [(41001002, [56, 59]), (42001005, [0, 3])]\ttranslation-suggestions: []\n",
      "याकूब से\t\toccurrences: [(41001002, [60, 68])]\ttranslation-suggestions: []\n",
      "यहूदा और\t\toccurrences: [(41001002, [69, 77])]\ttranslation-suggestions: []\n",
      "उसके\t\toccurrences: [(41001002, [78, 82]), (42001005, [43, 47]), (44001003, [81, 85])]\ttranslation-suggestions: []\n",
      "भाई\t\toccurrences: [(41001002, [83, 86])]\ttranslation-suggestions: []\n",
      "उत्पन्न हुए\t\toccurrences: [(41001002, [87, 98])]\ttranslation-suggestions: []\n",
      "यहूदा के\t\toccurrences: [(41001003, [0, 8])]\ttranslation-suggestions: []\n",
      "बेटे थे\t\toccurrences: [(41001003, [9, 16])]\ttranslation-suggestions: []\n",
      "फिरिस और\t\toccurrences: [(41001003, [17, 25])]\ttranslation-suggestions: []\n",
      "जोरह\t\toccurrences: [(41001003, [26, 30])]\ttranslation-suggestions: []\n",
      "उनकी\t\toccurrences: [(41001003, [33, 37])]\ttranslation-suggestions: []\n",
      "माँ का\t\toccurrences: [(41001003, [38, 44])]\ttranslation-suggestions: []\n",
      "नाम\t\toccurrences: [(41001003, [45, 48])]\ttranslation-suggestions: []\n",
      "तामार था\t\toccurrences: [(41001003, [49, 57])]\ttranslation-suggestions: []\n",
      "फिरिस\t\toccurrences: [(41001003, [60, 65])]\ttranslation-suggestions: []\n",
      "हिस्रोन का\t\toccurrences: [(41001003, [67, 77])]\ttranslation-suggestions: []\n",
      "पिता था\t\toccurrences: [(41001003, [78, 85]), (41001003, [102, 109])]\ttranslation-suggestions: []\n",
      "हिस्रोन\t\toccurrences: [(41001003, [87, 94])]\ttranslation-suggestions: []\n",
      "राम का\t\toccurrences: [(41001003, [95, 101])]\ttranslation-suggestions: []\n",
      "यह परमेश्वर के\t\toccurrences: [(42001001, [0, 14])]\ttranslation-suggestions: []\n",
      "शुभ\t\toccurrences: [(42001001, [34, 37])]\ttranslation-suggestions: []\n",
      "संदेश का\t\toccurrences: [(42001001, [38, 46])]\ttranslation-suggestions: []\n",
      "प्रारम्भ है\t\toccurrences: [(42001001, [47, 58])]\ttranslation-suggestions: []\n",
      "भविष्यवक्ता\t\toccurrences: [(42001002, [0, 11])]\ttranslation-suggestions: []\n",
      "यशायाह की\t\toccurrences: [(42001002, [12, 21])]\ttranslation-suggestions: []\n",
      "पुस्तक में\t\toccurrences: [(42001002, [22, 32])]\ttranslation-suggestions: []\n",
      "लिखा है कि\t\toccurrences: [(42001002, [33, 43])]\ttranslation-suggestions: []\n",
      "सुन\t\toccurrences: [(42001002, [46, 49])]\ttranslation-suggestions: []\n",
      "मैं\t\toccurrences: [(42001002, [51, 54])]\ttranslation-suggestions: []\n",
      "अपने\t\toccurrences: [(42001002, [55, 59]), (42001005, [118, 122])]\ttranslation-suggestions: []\n",
      "दूत को\t\toccurrences: [(42001002, [60, 66])]\ttranslation-suggestions: []\n",
      "तुझसे\t\toccurrences: [(42001002, [67, 72])]\ttranslation-suggestions: []\n",
      "पहले\t\toccurrences: [(42001002, [73, 77])]\ttranslation-suggestions: []\n",
      "भेज रहा\t\toccurrences: [(42001002, [78, 85])]\ttranslation-suggestions: []\n",
      "हूँ\t\toccurrences: [(42001002, [86, 89])]\ttranslation-suggestions: []\n",
      "वह\t\toccurrences: [(42001002, [91, 93]), (44001004, [18, 20])]\ttranslation-suggestions: []\n",
      "तेरे लिये\t\toccurrences: [(42001002, [94, 103]), (43001003, [118, 127])]\ttranslation-suggestions: []\n",
      "मार्ग\t\toccurrences: [(42001002, [104, 109]), (42001003, [68, 73])]\ttranslation-suggestions: []\n",
      "तैयार\t\toccurrences: [(42001002, [110, 115]), (42001003, [74, 79])]\ttranslation-suggestions: []\n",
      "करेगा\t\toccurrences: [(42001002, [116, 121])]\ttranslation-suggestions: []\n",
      "जंगल में\t\toccurrences: [(42001003, [1, 9]), (42001004, [17, 25])]\ttranslation-suggestions: []\n",
      "किसी पुकारने वाले का\t\toccurrences: [(42001003, [10, 30])]\ttranslation-suggestions: []\n",
      "शब्द\t\toccurrences: [(42001003, [31, 35])]\ttranslation-suggestions: []\n",
      "सुनाई\t\toccurrences: [(42001003, [36, 41])]\ttranslation-suggestions: []\n",
      "दे रहा है\t\toccurrences: [(42001003, [42, 51])]\ttranslation-suggestions: []\n",
      "प्रभु के लिये\t\toccurrences: [(42001003, [54, 67])]\ttranslation-suggestions: []\n",
      "करो\t\toccurrences: [(42001003, [80, 83])]\ttranslation-suggestions: []\n",
      "उसके लिये\t\toccurrences: [(42001003, [88, 97])]\ttranslation-suggestions: []\n",
      "राहें\t\toccurrences: [(42001003, [98, 103])]\ttranslation-suggestions: []\n",
      "सीधी\t\toccurrences: [(42001003, [104, 108])]\ttranslation-suggestions: []\n",
      "बनाओ\t\toccurrences: [(42001003, [109, 113])]\ttranslation-suggestions: []\n",
      "यूहन्ना\t\toccurrences: [(42001004, [0, 7])]\ttranslation-suggestions: []\n",
      "लोगों को\t\toccurrences: [(42001004, [8, 16])]\ttranslation-suggestions: []\n",
      "बपतिस्मा\t\toccurrences: [(42001004, [26, 34]), (42001004, [96, 104])]\ttranslation-suggestions: []\n",
      "देते\t\toccurrences: [(42001004, [35, 39])]\ttranslation-suggestions: []\n",
      "आया था\t\toccurrences: [(42001004, [40, 46])]\ttranslation-suggestions: []\n",
      "उसने\t\toccurrences: [(42001004, [48, 52])]\ttranslation-suggestions: []\n",
      "लोगों से\t\toccurrences: [(42001004, [53, 61])]\ttranslation-suggestions: []\n",
      "पापों की\t\toccurrences: [(42001004, [62, 70])]\ttranslation-suggestions: []\n",
      "क्षमा के लिए\t\toccurrences: [(42001004, [71, 83])]\ttranslation-suggestions: []\n",
      "मन\t\toccurrences: [(42001004, [84, 86])]\ttranslation-suggestions: []\n",
      "फिराव का\t\toccurrences: [(42001004, [87, 95])]\ttranslation-suggestions: []\n",
      "लेने को\t\toccurrences: [(42001004, [105, 112])]\ttranslation-suggestions: []\n",
      "कहा\t\toccurrences: [(42001004, [113, 116])]\ttranslation-suggestions: []\n",
      "समूचे\t\toccurrences: [(42001005, [4, 9])]\ttranslation-suggestions: []\n",
      "यहूदिया\t\toccurrences: [(42001005, [10, 17])]\ttranslation-suggestions: []\n",
      "देश के और\t\toccurrences: [(42001005, [18, 27])]\ttranslation-suggestions: []\n",
      "यरूशलेम के\t\toccurrences: [(42001005, [28, 38])]\ttranslation-suggestions: []\n",
      "लोग\t\toccurrences: [(42001005, [39, 42])]\ttranslation-suggestions: []\n",
      "पास\t\toccurrences: [(42001005, [48, 51])]\ttranslation-suggestions: []\n",
      "गये और\t\toccurrences: [(42001005, [52, 58])]\ttranslation-suggestions: []\n",
      "उस ने\t\toccurrences: [(42001005, [59, 64])]\ttranslation-suggestions: []\n",
      "यर्दन\t\toccurrences: [(42001005, [65, 70])]\ttranslation-suggestions: []\n",
      "नदी में\t\toccurrences: [(42001005, [71, 78])]\ttranslation-suggestions: []\n",
      "उन्हें\t\toccurrences: [(42001005, [79, 85]), (43001003, [111, 117])]\ttranslation-suggestions: []\n",
      "बपतिस्मा दिया\t\toccurrences: [(42001005, [86, 99])]\ttranslation-suggestions: []\n",
      "क्योंकि\t\toccurrences: [(42001005, [101, 108])]\ttranslation-suggestions: []\n",
      "उन्होंने\t\toccurrences: [(42001005, [109, 117])]\ttranslation-suggestions: []\n",
      "पाप\t\toccurrences: [(42001005, [123, 126])]\ttranslation-suggestions: []\n",
      "मान लिये थे\t\toccurrences: [(42001005, [127, 138])]\ttranslation-suggestions: []\n",
      "बहुतों ने\t\toccurrences: [(43001001, [0, 9])]\ttranslation-suggestions: []\n",
      "उन\t\toccurrences: [(43001001, [10, 12]), (43001003, [56, 58])]\ttranslation-suggestions: []\n",
      "बातों का जो\t\toccurrences: [(43001001, [13, 24])]\ttranslation-suggestions: []\n",
      "हमारे\t\toccurrences: [(43001001, [25, 30])]\ttranslation-suggestions: []\n",
      "बीच में\t\toccurrences: [(43001001, [31, 38])]\ttranslation-suggestions: []\n",
      "बीती हैं\t\toccurrences: [(43001001, [39, 47])]\ttranslation-suggestions: []\n",
      "इतिहास\t\toccurrences: [(43001001, [49, 55])]\ttranslation-suggestions: []\n",
      "लिखने में\t\toccurrences: [(43001001, [56, 65])]\ttranslation-suggestions: []\n",
      "हाथ\t\toccurrences: [(43001001, [66, 69])]\ttranslation-suggestions: []\n",
      "लगाया है\t\toccurrences: [(43001001, [70, 78])]\ttranslation-suggestions: []\n",
      "जैसा कि\t\toccurrences: [(43001002, [0, 7])]\ttranslation-suggestions: []\n",
      "उन्होंने जो\t\toccurrences: [(43001002, [8, 19])]\ttranslation-suggestions: []\n",
      "पहले ही से\t\toccurrences: [(43001002, [20, 30])]\ttranslation-suggestions: []\n",
      "इन\t\toccurrences: [(43001002, [31, 33])]\ttranslation-suggestions: []\n",
      "बातों के\t\toccurrences: [(43001002, [34, 42])]\ttranslation-suggestions: []\n",
      "देखनेवाले और\t\toccurrences: [(43001002, [43, 55])]\ttranslation-suggestions: []\n",
      "वचन के\t\toccurrences: [(43001002, [56, 62])]\ttranslation-suggestions: []\n",
      "सेवक थे\t\toccurrences: [(43001002, [63, 70])]\ttranslation-suggestions: []\n",
      "हम तक\t\toccurrences: [(43001002, [71, 76])]\ttranslation-suggestions: []\n",
      "पहुँचाया\t\toccurrences: [(43001002, [77, 85])]\ttranslation-suggestions: []\n",
      "इसलिए\t\toccurrences: [(43001003, [0, 5])]\ttranslation-suggestions: []\n",
      "हे\t\toccurrences: [(43001003, [6, 8])]\ttranslation-suggestions: []\n",
      "श्रीमान\t\toccurrences: [(43001003, [9, 16])]\ttranslation-suggestions: []\n",
      "थियुफिलुस\t\toccurrences: [(43001003, [17, 26])]\ttranslation-suggestions: []\n",
      "मुझे\t\toccurrences: [(43001003, [27, 31])]\ttranslation-suggestions: []\n",
      "भी\t\toccurrences: [(43001003, [32, 34])]\ttranslation-suggestions: []\n",
      "यह उचित\t\toccurrences: [(43001003, [35, 42])]\ttranslation-suggestions: []\n",
      "मालूम हुआ कि\t\toccurrences: [(43001003, [43, 55])]\ttranslation-suggestions: []\n",
      "सब\t\toccurrences: [(43001003, [59, 61]), (44001003, [0, 2])]\ttranslation-suggestions: []\n",
      "बातों का\t\toccurrences: [(43001003, [62, 70])]\ttranslation-suggestions: []\n",
      "सम्पूर्ण\t\toccurrences: [(43001003, [71, 79])]\ttranslation-suggestions: []\n",
      "हाल\t\toccurrences: [(43001003, [80, 83])]\ttranslation-suggestions: []\n",
      "आरम्भ से\t\toccurrences: [(43001003, [84, 92])]\ttranslation-suggestions: []\n",
      "ठीक-ठीक\t\toccurrences: [(43001003, [93, 100])]\ttranslation-suggestions: []\n",
      "जाँच\t\toccurrences: [(43001003, [101, 105])]\ttranslation-suggestions: []\n",
      "करके\t\toccurrences: [(43001003, [106, 110])]\ttranslation-suggestions: []\n",
      "क्रमानुसार\t\toccurrences: [(43001003, [128, 138])]\ttranslation-suggestions: []\n",
      "लिखूँ\t\toccurrences: [(43001003, [139, 144])]\ttranslation-suggestions: []\n",
      "तू\t\toccurrences: [(43001004, [3, 5])]\ttranslation-suggestions: []\n",
      "यह जान\t\toccurrences: [(43001004, [6, 12])]\ttranslation-suggestions: []\n",
      "ले\t\toccurrences: [(43001004, [13, 15])]\ttranslation-suggestions: []\n",
      "कि वे\t\toccurrences: [(43001004, [17, 22])]\ttranslation-suggestions: []\n",
      "बातें\t\toccurrences: [(43001004, [23, 28])]\ttranslation-suggestions: []\n",
      "जिनकी\t\toccurrences: [(43001004, [29, 34])]\ttranslation-suggestions: []\n",
      "तूने\t\toccurrences: [(43001004, [35, 39])]\ttranslation-suggestions: []\n",
      "शिक्षा\t\toccurrences: [(43001004, [40, 46])]\ttranslation-suggestions: []\n",
      "पाई है\t\toccurrences: [(43001004, [47, 53])]\ttranslation-suggestions: []\n",
      "कैसी\t\toccurrences: [(43001004, [55, 59])]\ttranslation-suggestions: []\n",
      "अटल हैं\t\toccurrences: [(43001004, [60, 67])]\ttranslation-suggestions: []\n",
      "आदि में\t\toccurrences: [(44001001, [0, 7]), (44001002, [4, 11])]\ttranslation-suggestions: []\n",
      "वचन था\t\toccurrences: [(44001001, [8, 14])]\ttranslation-suggestions: []\n",
      "वचन\t\toccurrences: [(44001001, [19, 22]), (44001001, [46, 49])]\ttranslation-suggestions: []\n",
      "परमेश्वर के साथ था\t\toccurrences: [(44001001, [23, 41]), (44001002, [12, 30])]\ttranslation-suggestions: []\n",
      "परमेश्वर था\t\toccurrences: [(44001001, [50, 61])]\ttranslation-suggestions: []\n",
      "यही\t\toccurrences: [(44001002, [0, 3])]\ttranslation-suggestions: []\n",
      "कुछ उसी के\t\toccurrences: [(44001003, [3, 13])]\ttranslation-suggestions: []\n",
      "द्वारा\t\toccurrences: [(44001003, [14, 20])]\ttranslation-suggestions: []\n",
      "उत्पन्न हुआ और जो\t\toccurrences: [(44001003, [21, 38])]\ttranslation-suggestions: []\n",
      "कुछ उत्पन्न हुआ है\t\toccurrences: [(44001003, [39, 57])]\ttranslation-suggestions: []\n",
      "उसमें से\t\toccurrences: [(44001003, [59, 67])]\ttranslation-suggestions: []\n",
      "कोई भी\t\toccurrences: [(44001003, [68, 74])]\ttranslation-suggestions: []\n",
      "वस्तु\t\toccurrences: [(44001003, [75, 80])]\ttranslation-suggestions: []\n",
      "बिना\t\toccurrences: [(44001003, [86, 90])]\ttranslation-suggestions: []\n",
      "उत्पन्न\t\toccurrences: [(44001003, [91, 98])]\ttranslation-suggestions: []\n",
      "न हुई\t\toccurrences: [(44001003, [99, 104])]\ttranslation-suggestions: []\n",
      "उसमें\t\toccurrences: [(44001004, [0, 5])]\ttranslation-suggestions: []\n",
      "जीवन था\t\toccurrences: [(44001004, [6, 13])]\ttranslation-suggestions: []\n",
      "जीवन\t\toccurrences: [(44001004, [21, 25])]\ttranslation-suggestions: []\n",
      "मनुष्यों की\t\toccurrences: [(44001004, [26, 37])]\ttranslation-suggestions: []\n",
      "ज्योति था\t\toccurrences: [(44001004, [38, 47])]\ttranslation-suggestions: []\n"
     ]
    }
   ],
   "source": [
    "pretty_print_tokens(default_tokens_resp.json())"
   ]
  },
  {
   "cell_type": "code",
   "execution_count": 14,
   "id": "a694eac3",
   "metadata": {
    "hidden": true
   },
   "outputs": [
    {
     "name": "stdout",
     "output_type": "stream",
     "text": [
      "यह परमेश्वर के\t\toccurrences: [(42001001, [0, 14])]\ttranslation-suggestions: []\n",
      "पुत्र\t\toccurrences: [(42001001, [15, 20])]\ttranslation-suggestions: ['പുത്രന്\\u200d']\n",
      "यीशु मसीह\t\toccurrences: [(42001001, [21, 30])]\ttranslation-suggestions: ['യേശു ക്രിസ്തു']\n",
      "शुभ\t\toccurrences: [(42001001, [34, 37])]\ttranslation-suggestions: []\n",
      "संदेश का\t\toccurrences: [(42001001, [38, 46])]\ttranslation-suggestions: []\n",
      "प्रारम्भ है\t\toccurrences: [(42001001, [47, 58])]\ttranslation-suggestions: []\n"
     ]
    }
   ],
   "source": [
    "# for a portion of the source\n",
    "\n",
    "# some_token_resp = requests.get(BASE_URL+\"autographa/project/tokens?project_id=\"+str(project_id)+\"&books=luk\")\n",
    "\n",
    "# some_token_resp = requests.get(BASE_URL+\"autographa/project/tokens?project_id=\"+str(project_id)\n",
    "#                                +\"&books=luk&books=jhn\")\n",
    "\n",
    "\n",
    "# some_token_resp = requests.get(BASE_URL+\"autographa/project/tokens?project_id=\"+str(project_id)+\n",
    "#                                \"&sentence_id_range=42001000&sentence_id_range=42001999\")\n",
    "\n",
    "some_token_resp = requests.get(BASE_URL+\"autographa/project/tokens?project_id=\"+str(project_id)+\n",
    "                               \"&sentence_id_list=42001001\")\n",
    "\n",
    "\n",
    "# some_token_resp = requests.get(BASE_URL+\"autographa/project/tokens?project_id=\"+str(project_id)+\n",
    "#                                \"&sentence_id_list=42001001&sentence_id_list=43001001\")\n",
    "\n",
    "\n",
    "pretty_print_tokens(some_token_resp.json())\n",
    "\n"
   ]
  },
  {
   "cell_type": "code",
   "execution_count": 45,
   "id": "2d9d2686",
   "metadata": {
    "hidden": true
   },
   "outputs": [
    {
     "name": "stdout",
     "output_type": "stream",
     "text": [
      "यह\t\toccurrences: [(42001001, [0, 2])]\ttranslation-suggestions: []\n",
      "परमेश्वर के\t\toccurrences: [(42001001, [3, 14])]\ttranslation-suggestions: ['ദൈവം']\n",
      "पुत्र\t\toccurrences: [(42001001, [15, 20])]\ttranslation-suggestions: ['പുത്രന്\\u200d']\n",
      "यीशु मसीह\t\toccurrences: [(42001001, [21, 30])]\ttranslation-suggestions: ['യേശു ക്രിസ്തു']\n",
      "के\t\toccurrences: [(42001001, [31, 33])]\ttranslation-suggestions: []\n",
      "शुभ\t\toccurrences: [(42001001, [34, 37])]\ttranslation-suggestions: []\n",
      "संदेश का\t\toccurrences: [(42001001, [38, 46])]\ttranslation-suggestions: []\n",
      "प्रारम्भ है\t\toccurrences: [(42001001, [47, 58])]\ttranslation-suggestions: []\n"
     ]
    }
   ],
   "source": [
    "# For different kinds of tokens\n",
    "\n",
    "# token_resp = requests.get(BASE_URL+\"autographa/project/tokens?project_id=\"+str(project_id)+\"&sentence_id_list=42001001\"\n",
    "#                          +\"&include_phrases=False\")\n",
    "\n",
    "token_resp = requests.get(BASE_URL+\"autographa/project/tokens?project_id=\"+str(project_id)+\"&sentence_id_list=42001001\"\n",
    "                         +\"&include_phrases=True&include_stopwords=True\")\n",
    "\n",
    "pretty_print_tokens(token_resp.json())\n"
   ]
  },
  {
   "cell_type": "markdown",
   "id": "51ce2fb0",
   "metadata": {
    "heading_collapsed": true,
    "hidden": true
   },
   "source": [
    "## Tweek the Tokenization\n",
    "\n",
    "We can control how the tokenization algorithm works by defining our own set of stopwords or puctuations to be used in the project"
   ]
  },
  {
   "cell_type": "code",
   "execution_count": 37,
   "id": "94afa151",
   "metadata": {
    "hidden": true
   },
   "outputs": [],
   "source": [
    "hi_sws =  {\n",
    "    \"prepositions\": [\n",
    "      \"कोई\",\n",
    "#      \"यह\",\n",
    "      \"इस\",\n",
    "      \"इसे\",\n",
    "      \"उस\",\n",
    "      \"कई\",\n",
    "      \"इसी\",\n",
    "      \"अभी\",\n",
    "      \"जैसे\"\n",
    "    ],\n",
    "    \"postpositions\": [\n",
    "      \"के\",\n",
    "      \"का\",\n",
    "      \"की\",\n",
    "      \"में\",\n",
    "      \"है\",\n",
    "      \"और\",\n",
    "      \"से\",\n",
    "      \"हैं\",\n",
    "      \"को\",\n",
    "      \"पर\"\n",
    "    ]\n",
    "  }"
   ]
  },
  {
   "cell_type": "code",
   "execution_count": 38,
   "id": "f3528bd3",
   "metadata": {
    "hidden": true
   },
   "outputs": [
    {
     "name": "stdout",
     "output_type": "stream",
     "text": [
      "Project updated successfully\n"
     ]
    }
   ],
   "source": [
    "project_edit_data = {\n",
    "\t\"projectId\":project_id,\n",
    "    \"stopwords\":hi_sws\n",
    "}\n",
    "project_edit_resp = requests.put(BASE_URL+\"autographa/projects\", headers=headers, json=project_edit_data)\n",
    "print(project_edit_resp.json()['message'])\n"
   ]
  },
  {
   "cell_type": "code",
   "execution_count": null,
   "id": "0d526dc6",
   "metadata": {
    "hidden": true
   },
   "outputs": [],
   "source": [
    "token_resp = requests.get(BASE_URL+\"autographa/project/tokens?project_id=\"+str(project_id)+\"&sentence_id_list=42001001\"\n",
    "                         +\"&include_phrases=True&include_stopwords=False\")\n",
    "pretty_print_tokens(token_resp.json())"
   ]
  },
  {
   "cell_type": "code",
   "execution_count": null,
   "id": "7b2937cc",
   "metadata": {
    "hidden": true
   },
   "outputs": [],
   "source": [
    "puncts = [',', '\"', '!', '.', ':', ';', '\\n', '\\\\','“','”',\n",
    "        '“','*',\n",
    "#           '।',\n",
    "          '?',';',\"'\",\"’\",\"(\",\")\",\"‘\",\"—\"]"
   ]
  },
  {
   "cell_type": "code",
   "execution_count": null,
   "id": "9ac942d7",
   "metadata": {
    "hidden": true
   },
   "outputs": [],
   "source": [
    "project_edit_data = {\n",
    "\t\"projectId\":project_id,\n",
    "    \"punctuations\":puncts\n",
    "}\n",
    "project_edit_resp = requests.put(BASE_URL+\"autographa/projects\", headers=headers, json=project_edit_data)\n",
    "print(project_edit_resp.json()['message'])\n"
   ]
  },
  {
   "cell_type": "code",
   "execution_count": null,
   "id": "e7ab6688",
   "metadata": {
    "hidden": true
   },
   "outputs": [],
   "source": [
    "token_resp = requests.get(BASE_URL+\"autographa/project/tokens?project_id=\"+str(project_id)+\"&sentence_id_list=42001001\")\n",
    "\n",
    "pretty_print_tokens(token_resp.json())"
   ]
  },
  {
   "cell_type": "markdown",
   "id": "697895ee",
   "metadata": {
    "heading_collapsed": true,
    "hidden": true
   },
   "source": [
    "## Translate"
   ]
  },
  {
   "cell_type": "code",
   "execution_count": 16,
   "id": "1049c944",
   "metadata": {
    "hidden": true
   },
   "outputs": [],
   "source": [
    "\n",
    "def pretty_print_draft(sents):\n",
    "    for item in sents:\n",
    "        print(item['surrogateId'], item['sentence'])\n",
    "        print(item['surrogateId'], item['draft'])\n",
    "        print()"
   ]
  },
  {
   "cell_type": "code",
   "execution_count": 17,
   "id": "8ec4a8ff",
   "metadata": {
    "hidden": true
   },
   "outputs": [
    {
     "name": "stdout",
     "output_type": "stream",
     "text": [
      "इब्राहीम\t\toccurrences: [(41001001, [0, 8])]\ttranslation-suggestions: ['അബ്രഹാം']\n",
      "वंशज\t\toccurrences: [(41001001, [12, 16])]\ttranslation-suggestions: []\n",
      "दाऊद के\t\toccurrences: [(41001001, [17, 24])]\ttranslation-suggestions: []\n",
      "पुत्र\t\toccurrences: [(41001001, [25, 30])]\ttranslation-suggestions: ['പുത്രന്\\u200d']\n",
      "यीशु मसीह\t\toccurrences: [(41001001, [31, 40])]\ttranslation-suggestions: ['യേശു ക്രിസ്തു']\n",
      "वंशावली\t\toccurrences: [(41001001, [44, 51])]\ttranslation-suggestions: []\n",
      "इस प्रकार है\t\toccurrences: [(41001001, [52, 64])]\ttranslation-suggestions: []\n"
     ]
    }
   ],
   "source": [
    "token_resp = requests.get(BASE_URL+\"autographa/project/tokens?project_id=\"+str(project_id)+\"&sentence_id_list=41001001\")\n",
    "\n",
    "pretty_print_tokens(token_resp.json())"
   ]
  },
  {
   "cell_type": "markdown",
   "id": "20240ca0",
   "metadata": {
    "hidden": true
   },
   "source": [
    "In the previous version we used a list of unique tokens to be translated by user. Then applied this token translation blindly across all occurences without having the provision of using multiple senses for a token in different contexts. Here, we allow the user to choose where to apply a specific translation by asking him to provide the occurance(sentenceId and offset)."
   ]
  },
  {
   "cell_type": "code",
   "execution_count": 18,
   "id": "deef2d73",
   "metadata": {
    "hidden": true
   },
   "outputs": [
    {
     "name": "stdout",
     "output_type": "stream",
     "text": [
      "Token translations saved\n",
      "mat 1:1 इब्राहीम के वंशज दाऊद के पुत्र यीशु मसीह की वंशावली इस प्रकार है:\n",
      "mat 1:1 इब्राहीम के वंशज दाऊद के പുത്രന്‍ यीशु मसीह की वंशावली इस प्रकार है:\n",
      "\n",
      "mat 1:2 इब्राहीम का पुत्र था इसहाक और इसहाक का पुत्र हुआ याकूब। फिर याकूब से यहूदा और उसके भाई उत्पन्न हुए।\n",
      "mat 1:2 അബ്രഹാം का पुत्र था इसहाक और इसहाक का पुत्र हुआ याकूब। फिर याकूब से यहूदा और उसके भाई उत्पन्न हुए।\n",
      "\n"
     ]
    }
   ],
   "source": [
    "token_update_data = [\n",
    "\t{\n",
    "\t\t\"token\":\"पुत्र\",\n",
    "\t\t\"occurrences\":[\n",
    "\t\t\t{\"sentenceId\":41001001, \"offset\":[25,30]}],\n",
    "\t\t\"translation\":\"പുത്രന്‍\"\n",
    "\t},\n",
    "\t{\n",
    "\t\t\"token\":\"इब्राहीम\",\n",
    "\t\t\"occurrences\":[\n",
    "\t\t\t{\"sentenceId\":41001002, \"offset\":[0, 8]}],\n",
    "\t\t\"translation\":\"അബ്രഹാം\"\n",
    "\t}\n",
    "]\n",
    "resp = requests.put(BASE_URL+\"autographa/project/tokens?project_id=\"+str(project_id),\n",
    "\theaders=headers, json=token_update_data)\n",
    "print(resp.json()['message'])\n",
    "source_sent = requests.get(BASE_URL+\"autographa/project/sentences?project_id=\"+str(project_id)+\n",
    "                           \"&sentence_id_list=41001001&sentence_id_list=41001002&with_draft=True\")\n",
    "\n",
    "pretty_print_draft(source_sent.json())"
   ]
  },
  {
   "cell_type": "markdown",
   "id": "c85ea8e9",
   "metadata": {
    "hidden": true
   },
   "source": [
    "As seen in the above example, we can make use of the token's occurence we get from the tokenization response to specify our token translation. This method suits our token based translation approach we use in the previous systems. But it is not mandatory that we stick to that method alone. User can be given the freedom to select any word or phrase from the source via the GUI and translate it. This gives the user the flexibility to define the tokens as suited most for his need as well as the target language's nature. In turn, this would allow the system to learn and improve its tokenization and suggestion via translation memory"
   ]
  },
  {
   "cell_type": "code",
   "execution_count": 19,
   "id": "0e9e89f0",
   "metadata": {
    "hidden": true
   },
   "outputs": [
    {
     "name": "stdout",
     "output_type": "stream",
     "text": [
      "Token translations saved\n",
      "mat 1:1 इब्राहीम के वंशज दाऊद के पुत्र यीशु मसीह की वंशावली इस प्रकार है:\n",
      "mat 1:1 इब्राहीम के वंशज दाऊद के പുത്രന്‍ യേശു ക്രിസ്തു की वंशावली इस प्रकार है:\n",
      "\n",
      "mat 1:2 इब्राहीम का पुत्र था इसहाक और इसहाक का पुत्र हुआ याकूब। फिर याकूब से यहूदा और उसके भाई उत्पन्न हुए।\n",
      "mat 1:2 അബ്രഹാം का पुत्र था इसहाक और इसहाक का पुत्र हुआ याकूब। फिर याकूब से यहूदा और उसके भाई उत्पन्न हुए।\n",
      "\n"
     ]
    }
   ],
   "source": [
    "token_update_data = [\n",
    "\t{\n",
    "\t\t\"token\":\"यीशु मसीह\",\n",
    "\t\t\"occurrences\":[\n",
    "\t\t\t{\"sentenceId\":41001001, \"offset\":[31, 40]}],\n",
    "\t\t\"translation\":\"യേശു ക്രിസ്തു\"\n",
    "\t}\n",
    "]\n",
    "resp = requests.put(BASE_URL+\"autographa/project/tokens?project_id=\"+str(project_id),\n",
    "\theaders=headers, json=token_update_data)\n",
    "print(resp.json()['message'])\n",
    "source_sent = requests.get(BASE_URL+\"autographa/project/sentences?project_id=\"+str(project_id)+\n",
    "                           \"&sentence_id_list=41001001&sentence_id_list=41001002&with_draft=True\")\n",
    "\n",
    "pretty_print_draft(source_sent.json())"
   ]
  },
  {
   "cell_type": "markdown",
   "id": "1e57d1b9",
   "metadata": {
    "heading_collapsed": true,
    "hidden": true
   },
   "source": [
    "## Suggestion"
   ]
  },
  {
   "cell_type": "code",
   "execution_count": 23,
   "id": "87df1167",
   "metadata": {
    "hidden": true
   },
   "outputs": [
    {
     "name": "stdout",
     "output_type": "stream",
     "text": [
      "यह परमेश्वर के\t\toccurrences: [(42001001, [0, 14])]\ttranslation-suggestions: []\n",
      "पुत्र\t\toccurrences: [(42001001, [15, 20])]\ttranslation-suggestions: ['പുത്രന്\\u200d']\n",
      "यीशु मसीह\t\toccurrences: [(42001001, [21, 30])]\ttranslation-suggestions: ['യേശു ക്രിസ്തു']\n",
      "शुभ\t\toccurrences: [(42001001, [34, 37])]\ttranslation-suggestions: []\n",
      "संदेश का\t\toccurrences: [(42001001, [38, 46])]\ttranslation-suggestions: []\n",
      "प्रारम्भ है\t\toccurrences: [(42001001, [47, 58])]\ttranslation-suggestions: []\n",
      "भविष्यवक्ता\t\toccurrences: [(42001002, [0, 11])]\ttranslation-suggestions: []\n",
      "यशायाह की\t\toccurrences: [(42001002, [12, 21])]\ttranslation-suggestions: []\n",
      "पुस्तक में\t\toccurrences: [(42001002, [22, 32])]\ttranslation-suggestions: []\n",
      "लिखा है कि\t\toccurrences: [(42001002, [33, 43])]\ttranslation-suggestions: []\n",
      "सुन\t\toccurrences: [(42001002, [46, 49])]\ttranslation-suggestions: []\n",
      "मैं\t\toccurrences: [(42001002, [51, 54])]\ttranslation-suggestions: []\n",
      "अपने\t\toccurrences: [(42001002, [55, 59]), (42001005, [118, 122])]\ttranslation-suggestions: []\n",
      "दूत को\t\toccurrences: [(42001002, [60, 66])]\ttranslation-suggestions: []\n",
      "तुझसे\t\toccurrences: [(42001002, [67, 72])]\ttranslation-suggestions: []\n",
      "पहले\t\toccurrences: [(42001002, [73, 77])]\ttranslation-suggestions: []\n",
      "भेज रहा\t\toccurrences: [(42001002, [78, 85])]\ttranslation-suggestions: []\n",
      "हूँ\t\toccurrences: [(42001002, [86, 89])]\ttranslation-suggestions: []\n",
      "वह\t\toccurrences: [(42001002, [91, 93])]\ttranslation-suggestions: []\n",
      "तेरे लिये\t\toccurrences: [(42001002, [94, 103])]\ttranslation-suggestions: []\n",
      "मार्ग\t\toccurrences: [(42001002, [104, 109]), (42001003, [68, 73])]\ttranslation-suggestions: []\n",
      "तैयार\t\toccurrences: [(42001002, [110, 115]), (42001003, [74, 79])]\ttranslation-suggestions: []\n",
      "करेगा\t\toccurrences: [(42001002, [116, 121])]\ttranslation-suggestions: []\n",
      "जंगल में\t\toccurrences: [(42001003, [1, 9]), (42001004, [17, 25])]\ttranslation-suggestions: []\n",
      "किसी पुकारने वाले का\t\toccurrences: [(42001003, [10, 30])]\ttranslation-suggestions: []\n",
      "शब्द\t\toccurrences: [(42001003, [31, 35])]\ttranslation-suggestions: []\n",
      "सुनाई\t\toccurrences: [(42001003, [36, 41])]\ttranslation-suggestions: []\n",
      "दे रहा है\t\toccurrences: [(42001003, [42, 51])]\ttranslation-suggestions: []\n",
      "प्रभु के लिये\t\toccurrences: [(42001003, [54, 67])]\ttranslation-suggestions: []\n",
      "करो\t\toccurrences: [(42001003, [80, 83])]\ttranslation-suggestions: []\n",
      "उसके लिये\t\toccurrences: [(42001003, [88, 97])]\ttranslation-suggestions: []\n",
      "राहें\t\toccurrences: [(42001003, [98, 103])]\ttranslation-suggestions: []\n",
      "सीधी\t\toccurrences: [(42001003, [104, 108])]\ttranslation-suggestions: []\n",
      "बनाओ\t\toccurrences: [(42001003, [109, 113])]\ttranslation-suggestions: []\n",
      "यूहन्ना\t\toccurrences: [(42001004, [0, 7])]\ttranslation-suggestions: []\n",
      "लोगों को\t\toccurrences: [(42001004, [8, 16])]\ttranslation-suggestions: []\n",
      "बपतिस्मा\t\toccurrences: [(42001004, [26, 34]), (42001004, [96, 104])]\ttranslation-suggestions: []\n",
      "देते\t\toccurrences: [(42001004, [35, 39])]\ttranslation-suggestions: []\n",
      "आया था\t\toccurrences: [(42001004, [40, 46])]\ttranslation-suggestions: []\n",
      "उसने\t\toccurrences: [(42001004, [48, 52])]\ttranslation-suggestions: []\n",
      "लोगों से\t\toccurrences: [(42001004, [53, 61])]\ttranslation-suggestions: []\n",
      "पापों की\t\toccurrences: [(42001004, [62, 70])]\ttranslation-suggestions: []\n",
      "क्षमा के लिए\t\toccurrences: [(42001004, [71, 83])]\ttranslation-suggestions: []\n",
      "मन\t\toccurrences: [(42001004, [84, 86])]\ttranslation-suggestions: []\n",
      "फिराव का\t\toccurrences: [(42001004, [87, 95])]\ttranslation-suggestions: []\n",
      "लेने को\t\toccurrences: [(42001004, [105, 112])]\ttranslation-suggestions: []\n",
      "कहा\t\toccurrences: [(42001004, [113, 116])]\ttranslation-suggestions: []\n",
      "फिर\t\toccurrences: [(42001005, [0, 3])]\ttranslation-suggestions: []\n",
      "समूचे\t\toccurrences: [(42001005, [4, 9])]\ttranslation-suggestions: []\n",
      "यहूदिया\t\toccurrences: [(42001005, [10, 17])]\ttranslation-suggestions: []\n",
      "देश के और\t\toccurrences: [(42001005, [18, 27])]\ttranslation-suggestions: []\n",
      "यरूशलेम के\t\toccurrences: [(42001005, [28, 38])]\ttranslation-suggestions: []\n",
      "लोग\t\toccurrences: [(42001005, [39, 42])]\ttranslation-suggestions: []\n",
      "उसके\t\toccurrences: [(42001005, [43, 47])]\ttranslation-suggestions: []\n",
      "पास\t\toccurrences: [(42001005, [48, 51])]\ttranslation-suggestions: []\n",
      "गये और\t\toccurrences: [(42001005, [52, 58])]\ttranslation-suggestions: []\n",
      "उस ने\t\toccurrences: [(42001005, [59, 64])]\ttranslation-suggestions: []\n",
      "यर्दन\t\toccurrences: [(42001005, [65, 70])]\ttranslation-suggestions: []\n",
      "नदी में\t\toccurrences: [(42001005, [71, 78])]\ttranslation-suggestions: []\n",
      "उन्हें\t\toccurrences: [(42001005, [79, 85])]\ttranslation-suggestions: []\n",
      "बपतिस्मा दिया\t\toccurrences: [(42001005, [86, 99])]\ttranslation-suggestions: []\n",
      "क्योंकि\t\toccurrences: [(42001005, [101, 108])]\ttranslation-suggestions: []\n",
      "उन्होंने\t\toccurrences: [(42001005, [109, 117])]\ttranslation-suggestions: []\n",
      "पाप\t\toccurrences: [(42001005, [123, 126])]\ttranslation-suggestions: []\n",
      "मान लिये थे\t\toccurrences: [(42001005, [127, 138])]\ttranslation-suggestions: []\n"
     ]
    }
   ],
   "source": [
    "# tokenizing with the above knowledge of tokens and translations in the system\n",
    "\n",
    "token_resp = requests.get(BASE_URL+\"autographa/project/tokens?project_id=\"+str(project_id)+\"&books=mrk\")\n",
    "\n",
    "pretty_print_tokens(token_resp.json())"
   ]
  },
  {
   "cell_type": "code",
   "execution_count": 26,
   "id": "e1b27703",
   "metadata": {
    "hidden": true
   },
   "outputs": [
    {
     "name": "stdout",
     "output_type": "stream",
     "text": [
      "mat 1:1 इब्राहीम के वंशज दाऊद के पुत्र यीशु मसीह की वंशावली इस प्रकार है:\n",
      "mat 1:1 അബ്രഹാം के वंशज दाऊद के പുത്രന്‍ യേശു ക്രിസ്തു की वंशावली इस प्रकार है:\n",
      "\n",
      "mat 1:2 इब्राहीम का पुत्र था इसहाक और इसहाक का पुत्र हुआ याकूब। फिर याकूब से यहूदा और उसके भाई उत्पन्न हुए।\n",
      "mat 1:2 അബ്രഹാം का പുത്രന്‍ था इसहाक और इसहाक का പുത്രന്‍ हुआ याकूब। फिर याकूब से यहूदा और उसके भाई उत्पन्न हुए।\n",
      "\n",
      "mat 1:3 यहूदा के बेटे थे फिरिस और जोरह। (उनकी माँ का नाम तामार था।) फिरिस, हिस्रोन का पिता था। हिस्रोन राम का पिता था।\n",
      "mat 1:3 यहूदा के बेटे थे फिरिस और जोरह। (उनकी माँ का नाम तामार था।) फिरिस, हिस्रोन का पिता था। हिस्रोन राम का पिता था।\n",
      "\n",
      "mrk 1:1 यह परमेश्वर के पुत्र यीशु मसीह के शुभ संदेश का प्रारम्भ है।\n",
      "mrk 1:1 यह परमेश्वर के പുത്രന്‍ യേശു ക്രിസ്തു के शुभ संदेश का प्रारम्भ है।\n",
      "\n",
      "mrk 1:2 भविष्यवक्ता यशायाह की पुस्तक में लिखा है कि: “सुन! मैं अपने दूत को तुझसे पहले भेज रहा हूँ। वह तेरे लिये मार्ग तैयार करेगा।”\n",
      "mrk 1:2 भविष्यवक्ता यशायाह की पुस्तक में लिखा है कि: “सुन! मैं अपने दूत को तुझसे पहले भेज रहा हूँ। वह तेरे लिये मार्ग तैयार करेगा।”\n",
      "\n",
      "mrk 1:3 “जंगल में किसी पुकारने वाले का शब्द सुनाई दे रहा है: ‘प्रभु के लिये मार्ग तैयार करो। और उसके लिये राहें सीधी बनाओ।’”\n",
      "mrk 1:3 “जंगल में किसी पुकारने वाले का शब्द सुनाई दे रहा है: ‘प्रभु के लिये मार्ग तैयार करो। और उसके लिये राहें सीधी बनाओ।’”\n",
      "\n",
      "mrk 1:4 यूहन्ना लोगों को जंगल में बपतिस्मा देते आया था। उसने लोगों से पापों की क्षमा के लिए मन फिराव का बपतिस्मा लेने को कहा।\n",
      "mrk 1:4 यूहन्ना लोगों को जंगल में बपतिस्मा देते आया था। उसने लोगों से पापों की क्षमा के लिए मन फिराव का बपतिस्मा लेने को कहा।\n",
      "\n",
      "mrk 1:5 फिर समूचे यहूदिया देश के और यरूशलेम के लोग उसके पास गये और उस ने यर्दन नदी में उन्हें बपतिस्मा दिया। क्योंकि उन्होंने अपने पाप मान लिये थे।\n",
      "mrk 1:5 फिर समूचे यहूदिया देश के और यरूशलेम के लोग उसके पास गये और उस ने यर्दन नदी में उन्हें बपतिस्मा दिया। क्योंकि उन्होंने अपने पाप मान लिये थे।\n",
      "\n"
     ]
    }
   ],
   "source": [
    "# asking translation suggestion for sentences\n",
    "resp = requests.put(BASE_URL+\"autographa/project/suggestions?project_id=\"+str(project_id)+\"&books=mat&books=mrk\",\n",
    "\theaders=headers)\n",
    "pretty_print_draft(resp.json())"
   ]
  },
  {
   "cell_type": "markdown",
   "id": "17e45db8",
   "metadata": {
    "hidden": true
   },
   "source": [
    "### Adding knowledge from Outside"
   ]
  },
  {
   "cell_type": "code",
   "execution_count": 27,
   "id": "1d1c6164",
   "metadata": {
    "hidden": true
   },
   "outputs": [],
   "source": [
    "ALIGNMENT_SRC = \"hi\"\n",
    "ALIGNMENT_TRG = \"ml\"\n",
    "alignment_data = [\n",
    "{\n",
    "    \"sourceTokenList\": [\n",
    "      \"क्योंकि\",\"परमेश्वर\",\"ने\",\"जगत\",\"से\",\"ऐसा\",\"प्रेम\",\"रखा\",\"कि\",\"उसने\",\n",
    "      \"अपना\",\"एकलौता\",\"पुत्र\",\"दे\",\"दिया\",\"ताकि\",\"जो\",\"कोई\",\"उस\",\"पर\",\"विश्वास\",\"करे\",\n",
    "      \"वह\",\"नाश\",\"न\",\"हो\",\"परन्तु\",\"अनन्त\",\"जीवन\",\"पाए\"\n",
    "    ],\n",
    "    \"targetTokenList\": [\n",
    "      \"തന്റെ\",\n",
    "      \"ഏകജാതനായ\",\"പുത്രനിൽ\",\n",
    "      \"വിശ്വസിക്കുന്ന\",\"ഏവനും\",\"നശിച്ചുപോകാതെ\",\"നിത്യജീവൻ\",\n",
    "      \"പ്രാപിക്കേണ്ടതിന്\",\"ദൈവം\",\"അവനെ\",\"നല്കുവാൻ\",\"തക്കവണ്ണം\",\n",
    "      \"ലോകത്തെ\",\"സ്നേഹിച്ചു\"\n",
    "    ],\n",
    "    \"alignedTokens\": [\n",
    "      {\n",
    "        \"sourceTokenIndex\": 1,\n",
    "        \"targetTokenIndex\": 8\n",
    "      },\n",
    "      {\n",
    "        \"sourceTokenIndex\": 2,\n",
    "        \"targetTokenIndex\": 8\n",
    "      },\n",
    "      {\n",
    "        \"sourceTokenIndex\": 3,\n",
    "        \"targetTokenIndex\": 12\n",
    "      },\n",
    "      {\n",
    "        \"sourceTokenIndex\": 4,\n",
    "        \"targetTokenIndex\": 12\n",
    "      },\n",
    "      {\n",
    "        \"sourceTokenIndex\": 5,\n",
    "        \"targetTokenIndex\": 11\n",
    "      },\n",
    "      {\n",
    "        \"sourceTokenIndex\": 6,\n",
    "        \"targetTokenIndex\": 13\n",
    "      },\n",
    "      {\n",
    "        \"sourceTokenIndex\": 7,\n",
    "        \"targetTokenIndex\": 13\n",
    "      },\n",
    "      {\n",
    "        \"sourceTokenIndex\": 8,\n",
    "        \"targetTokenIndex\": 13\n",
    "      },\n",
    "      {\n",
    "        \"sourceTokenIndex\": 9,\n",
    "        \"targetTokenIndex\": 0\n",
    "      },\n",
    "      {\n",
    "        \"sourceTokenIndex\": 10,\n",
    "        \"targetTokenIndex\": 0\n",
    "      },\n",
    "      {\n",
    "        \"sourceTokenIndex\": 11,\n",
    "        \"targetTokenIndex\": 1\n",
    "      },\n",
    "      {\n",
    "        \"sourceTokenIndex\": 12,\n",
    "        \"targetTokenIndex\": 1\n",
    "      },\n",
    "      {\n",
    "        \"sourceTokenIndex\": 11,\n",
    "        \"targetTokenIndex\": 2\n",
    "      },\n",
    "      {\n",
    "        \"sourceTokenIndex\": 12,\n",
    "        \"targetTokenIndex\": 2\n",
    "      },\n",
    "      {\n",
    "        \"sourceTokenIndex\": 13,\n",
    "        \"targetTokenIndex\": 10\n",
    "      },\n",
    "      {\n",
    "        \"sourceTokenIndex\": 14,\n",
    "        \"targetTokenIndex\": 10\n",
    "      },\n",
    "      {\n",
    "        \"sourceTokenIndex\": 20,\n",
    "        \"targetTokenIndex\": 3\n",
    "      },\n",
    "      {\n",
    "        \"sourceTokenIndex\": 21,\n",
    "        \"targetTokenIndex\": 3\n",
    "      },\n",
    "      {\n",
    "        \"sourceTokenIndex\": 18,\n",
    "        \"targetTokenIndex\": 4\n",
    "      },\n",
    "      {\n",
    "        \"sourceTokenIndex\": 19,\n",
    "        \"targetTokenIndex\": 4\n",
    "      },\n",
    "\n",
    "      {\n",
    "        \"sourceTokenIndex\": 23,\n",
    "        \"targetTokenIndex\": 5\n",
    "      },\n",
    "      {\n",
    "        \"sourceTokenIndex\": 24,\n",
    "        \"targetTokenIndex\": 5\n",
    "      },\n",
    "      {\n",
    "        \"sourceTokenIndex\": 25,\n",
    "        \"targetTokenIndex\": 5\n",
    "      },\n",
    "      {\n",
    "        \"sourceTokenIndex\": 27,\n",
    "        \"targetTokenIndex\": 6\n",
    "      },\n",
    "      {\n",
    "        \"sourceTokenIndex\": 28,\n",
    "        \"targetTokenIndex\": 6\n",
    "      },\n",
    "      {\n",
    "        \"sourceTokenIndex\": 29,\n",
    "        \"targetTokenIndex\": 7\n",
    "      }\n",
    "\t]\n",
    "}\n",
    "]\n"
   ]
  },
  {
   "cell_type": "code",
   "execution_count": 31,
   "id": "9f19d365",
   "metadata": {
    "hidden": true
   },
   "outputs": [
    {
     "name": "stdout",
     "output_type": "stream",
     "text": [
      "Alignments used for learning\n"
     ]
    }
   ],
   "source": [
    "resp = requests.post(BASE_URL+\"translation/learn/alignment?source_language=\"+ALIGNMENT_SRC+\n",
    "\t\"&target_language=\"+ALIGNMENT_TRG, headers=headers, json=alignment_data)\n",
    "print(resp.json()['message'])"
   ]
  },
  {
   "cell_type": "code",
   "execution_count": 34,
   "id": "a3eadde4",
   "metadata": {
    "hidden": true
   },
   "outputs": [
    {
     "name": "stdout",
     "output_type": "stream",
     "text": [
      "इब्राहीम\t\toccurrences: [(41001001, [0, 8]), (41001002, [0, 8])]\ttranslation-suggestions: ['അബ്രഹാം']\n",
      "वंशज\t\toccurrences: [(41001001, [12, 16])]\ttranslation-suggestions: []\n",
      "दाऊद के\t\toccurrences: [(41001001, [17, 24])]\ttranslation-suggestions: []\n",
      "पुत्र\t\toccurrences: [(41001001, [25, 30]), (41001002, [12, 17]), (41001002, [39, 44]), (42001001, [15, 20])]\ttranslation-suggestions: ['പുത്രന്\\u200d']\n",
      "यीशु मसीह\t\toccurrences: [(41001001, [31, 40]), (42001001, [21, 30])]\ttranslation-suggestions: ['യേശു ക്രിസ്തു']\n",
      "वंशावली\t\toccurrences: [(41001001, [44, 51])]\ttranslation-suggestions: []\n",
      "इस प्रकार है\t\toccurrences: [(41001001, [52, 64])]\ttranslation-suggestions: []\n",
      "इसहाक और\t\toccurrences: [(41001002, [21, 29])]\ttranslation-suggestions: []\n",
      "इसहाक का\t\toccurrences: [(41001002, [30, 38])]\ttranslation-suggestions: []\n",
      "याकूब\t\toccurrences: [(41001002, [49, 54])]\ttranslation-suggestions: []\n",
      "फिर\t\toccurrences: [(41001002, [56, 59]), (42001005, [0, 3])]\ttranslation-suggestions: []\n",
      "याकूब से\t\toccurrences: [(41001002, [60, 68])]\ttranslation-suggestions: []\n",
      "यहूदा और\t\toccurrences: [(41001002, [69, 77])]\ttranslation-suggestions: []\n",
      "उसके\t\toccurrences: [(41001002, [78, 82]), (42001005, [43, 47]), (44001003, [81, 85])]\ttranslation-suggestions: []\n",
      "भाई\t\toccurrences: [(41001002, [83, 86])]\ttranslation-suggestions: []\n",
      "उत्पन्न हुए\t\toccurrences: [(41001002, [87, 98])]\ttranslation-suggestions: []\n",
      "यहूदा के\t\toccurrences: [(41001003, [0, 8])]\ttranslation-suggestions: []\n",
      "बेटे थे\t\toccurrences: [(41001003, [9, 16])]\ttranslation-suggestions: []\n",
      "फिरिस और\t\toccurrences: [(41001003, [17, 25])]\ttranslation-suggestions: []\n",
      "जोरह\t\toccurrences: [(41001003, [26, 30])]\ttranslation-suggestions: []\n",
      "उनकी\t\toccurrences: [(41001003, [33, 37])]\ttranslation-suggestions: []\n",
      "माँ का\t\toccurrences: [(41001003, [38, 44])]\ttranslation-suggestions: []\n",
      "नाम\t\toccurrences: [(41001003, [45, 48])]\ttranslation-suggestions: []\n",
      "तामार था\t\toccurrences: [(41001003, [49, 57])]\ttranslation-suggestions: []\n",
      "फिरिस\t\toccurrences: [(41001003, [60, 65])]\ttranslation-suggestions: []\n",
      "हिस्रोन का\t\toccurrences: [(41001003, [67, 77])]\ttranslation-suggestions: []\n",
      "पिता था\t\toccurrences: [(41001003, [78, 85]), (41001003, [102, 109])]\ttranslation-suggestions: []\n",
      "हिस्रोन\t\toccurrences: [(41001003, [87, 94])]\ttranslation-suggestions: []\n",
      "राम का\t\toccurrences: [(41001003, [95, 101])]\ttranslation-suggestions: []\n",
      "यह परमेश्वर के\t\toccurrences: [(42001001, [0, 14])]\ttranslation-suggestions: []\n",
      "शुभ\t\toccurrences: [(42001001, [34, 37])]\ttranslation-suggestions: []\n",
      "संदेश का\t\toccurrences: [(42001001, [38, 46])]\ttranslation-suggestions: []\n",
      "प्रारम्भ है\t\toccurrences: [(42001001, [47, 58])]\ttranslation-suggestions: []\n",
      "भविष्यवक्ता\t\toccurrences: [(42001002, [0, 11])]\ttranslation-suggestions: []\n",
      "यशायाह की\t\toccurrences: [(42001002, [12, 21])]\ttranslation-suggestions: []\n",
      "पुस्तक में\t\toccurrences: [(42001002, [22, 32])]\ttranslation-suggestions: []\n",
      "लिखा है कि\t\toccurrences: [(42001002, [33, 43])]\ttranslation-suggestions: []\n",
      "सुन\t\toccurrences: [(42001002, [46, 49])]\ttranslation-suggestions: []\n",
      "मैं\t\toccurrences: [(42001002, [51, 54])]\ttranslation-suggestions: []\n",
      "अपने\t\toccurrences: [(42001002, [55, 59]), (42001005, [118, 122])]\ttranslation-suggestions: []\n",
      "दूत को\t\toccurrences: [(42001002, [60, 66])]\ttranslation-suggestions: []\n",
      "तुझसे\t\toccurrences: [(42001002, [67, 72])]\ttranslation-suggestions: []\n",
      "पहले\t\toccurrences: [(42001002, [73, 77])]\ttranslation-suggestions: []\n",
      "भेज रहा\t\toccurrences: [(42001002, [78, 85])]\ttranslation-suggestions: []\n",
      "हूँ\t\toccurrences: [(42001002, [86, 89])]\ttranslation-suggestions: []\n",
      "वह\t\toccurrences: [(42001002, [91, 93]), (44001004, [18, 20])]\ttranslation-suggestions: []\n",
      "तेरे लिये\t\toccurrences: [(42001002, [94, 103]), (43001003, [118, 127])]\ttranslation-suggestions: []\n",
      "मार्ग\t\toccurrences: [(42001002, [104, 109]), (42001003, [68, 73])]\ttranslation-suggestions: []\n",
      "तैयार\t\toccurrences: [(42001002, [110, 115]), (42001003, [74, 79])]\ttranslation-suggestions: []\n",
      "करेगा\t\toccurrences: [(42001002, [116, 121])]\ttranslation-suggestions: []\n",
      "जंगल में\t\toccurrences: [(42001003, [1, 9]), (42001004, [17, 25])]\ttranslation-suggestions: []\n",
      "किसी पुकारने वाले का\t\toccurrences: [(42001003, [10, 30])]\ttranslation-suggestions: []\n",
      "शब्द\t\toccurrences: [(42001003, [31, 35])]\ttranslation-suggestions: []\n",
      "सुनाई\t\toccurrences: [(42001003, [36, 41])]\ttranslation-suggestions: []\n",
      "दे रहा है\t\toccurrences: [(42001003, [42, 51])]\ttranslation-suggestions: []\n",
      "प्रभु के लिये\t\toccurrences: [(42001003, [54, 67])]\ttranslation-suggestions: []\n",
      "करो\t\toccurrences: [(42001003, [80, 83])]\ttranslation-suggestions: []\n",
      "उसके लिये\t\toccurrences: [(42001003, [88, 97])]\ttranslation-suggestions: []\n",
      "राहें\t\toccurrences: [(42001003, [98, 103])]\ttranslation-suggestions: []\n",
      "सीधी\t\toccurrences: [(42001003, [104, 108])]\ttranslation-suggestions: []\n",
      "बनाओ\t\toccurrences: [(42001003, [109, 113])]\ttranslation-suggestions: []\n",
      "यूहन्ना\t\toccurrences: [(42001004, [0, 7])]\ttranslation-suggestions: []\n",
      "लोगों को\t\toccurrences: [(42001004, [8, 16])]\ttranslation-suggestions: []\n",
      "बपतिस्मा\t\toccurrences: [(42001004, [26, 34]), (42001004, [96, 104])]\ttranslation-suggestions: []\n",
      "देते\t\toccurrences: [(42001004, [35, 39])]\ttranslation-suggestions: []\n",
      "आया था\t\toccurrences: [(42001004, [40, 46])]\ttranslation-suggestions: []\n",
      "उसने\t\toccurrences: [(42001004, [48, 52])]\ttranslation-suggestions: []\n",
      "लोगों से\t\toccurrences: [(42001004, [53, 61])]\ttranslation-suggestions: []\n",
      "पापों की\t\toccurrences: [(42001004, [62, 70])]\ttranslation-suggestions: []\n",
      "क्षमा के लिए\t\toccurrences: [(42001004, [71, 83])]\ttranslation-suggestions: []\n",
      "मन\t\toccurrences: [(42001004, [84, 86])]\ttranslation-suggestions: []\n",
      "फिराव का\t\toccurrences: [(42001004, [87, 95])]\ttranslation-suggestions: []\n",
      "लेने को\t\toccurrences: [(42001004, [105, 112])]\ttranslation-suggestions: []\n",
      "कहा\t\toccurrences: [(42001004, [113, 116])]\ttranslation-suggestions: []\n",
      "समूचे\t\toccurrences: [(42001005, [4, 9])]\ttranslation-suggestions: []\n",
      "यहूदिया\t\toccurrences: [(42001005, [10, 17])]\ttranslation-suggestions: []\n",
      "देश के और\t\toccurrences: [(42001005, [18, 27])]\ttranslation-suggestions: []\n",
      "यरूशलेम के\t\toccurrences: [(42001005, [28, 38])]\ttranslation-suggestions: []\n",
      "लोग\t\toccurrences: [(42001005, [39, 42])]\ttranslation-suggestions: []\n",
      "पास\t\toccurrences: [(42001005, [48, 51])]\ttranslation-suggestions: []\n",
      "गये और\t\toccurrences: [(42001005, [52, 58])]\ttranslation-suggestions: []\n",
      "उस ने\t\toccurrences: [(42001005, [59, 64])]\ttranslation-suggestions: []\n",
      "यर्दन\t\toccurrences: [(42001005, [65, 70])]\ttranslation-suggestions: []\n",
      "नदी में\t\toccurrences: [(42001005, [71, 78])]\ttranslation-suggestions: []\n",
      "उन्हें\t\toccurrences: [(42001005, [79, 85]), (43001003, [111, 117])]\ttranslation-suggestions: []\n",
      "बपतिस्मा दिया\t\toccurrences: [(42001005, [86, 99])]\ttranslation-suggestions: []\n",
      "क्योंकि\t\toccurrences: [(42001005, [101, 108])]\ttranslation-suggestions: []\n",
      "उन्होंने\t\toccurrences: [(42001005, [109, 117])]\ttranslation-suggestions: []\n",
      "पाप\t\toccurrences: [(42001005, [123, 126])]\ttranslation-suggestions: []\n",
      "मान लिये थे\t\toccurrences: [(42001005, [127, 138])]\ttranslation-suggestions: []\n",
      "बहुतों ने\t\toccurrences: [(43001001, [0, 9])]\ttranslation-suggestions: []\n",
      "उन\t\toccurrences: [(43001001, [10, 12]), (43001003, [56, 58])]\ttranslation-suggestions: []\n",
      "बातों का जो\t\toccurrences: [(43001001, [13, 24])]\ttranslation-suggestions: []\n",
      "हमारे\t\toccurrences: [(43001001, [25, 30])]\ttranslation-suggestions: []\n",
      "बीच में\t\toccurrences: [(43001001, [31, 38])]\ttranslation-suggestions: []\n",
      "बीती हैं\t\toccurrences: [(43001001, [39, 47])]\ttranslation-suggestions: []\n",
      "इतिहास\t\toccurrences: [(43001001, [49, 55])]\ttranslation-suggestions: []\n",
      "लिखने में\t\toccurrences: [(43001001, [56, 65])]\ttranslation-suggestions: []\n",
      "हाथ\t\toccurrences: [(43001001, [66, 69])]\ttranslation-suggestions: []\n",
      "लगाया है\t\toccurrences: [(43001001, [70, 78])]\ttranslation-suggestions: []\n",
      "जैसा कि\t\toccurrences: [(43001002, [0, 7])]\ttranslation-suggestions: []\n",
      "उन्होंने जो\t\toccurrences: [(43001002, [8, 19])]\ttranslation-suggestions: []\n",
      "पहले ही से\t\toccurrences: [(43001002, [20, 30])]\ttranslation-suggestions: []\n",
      "इन\t\toccurrences: [(43001002, [31, 33])]\ttranslation-suggestions: []\n",
      "बातों के\t\toccurrences: [(43001002, [34, 42])]\ttranslation-suggestions: []\n",
      "देखनेवाले और\t\toccurrences: [(43001002, [43, 55])]\ttranslation-suggestions: []\n",
      "वचन के\t\toccurrences: [(43001002, [56, 62])]\ttranslation-suggestions: []\n",
      "सेवक थे\t\toccurrences: [(43001002, [63, 70])]\ttranslation-suggestions: []\n",
      "हम तक\t\toccurrences: [(43001002, [71, 76])]\ttranslation-suggestions: []\n",
      "पहुँचाया\t\toccurrences: [(43001002, [77, 85])]\ttranslation-suggestions: []\n",
      "इसलिए\t\toccurrences: [(43001003, [0, 5])]\ttranslation-suggestions: []\n",
      "हे\t\toccurrences: [(43001003, [6, 8])]\ttranslation-suggestions: []\n",
      "श्रीमान\t\toccurrences: [(43001003, [9, 16])]\ttranslation-suggestions: []\n",
      "थियुफिलुस\t\toccurrences: [(43001003, [17, 26])]\ttranslation-suggestions: []\n",
      "मुझे\t\toccurrences: [(43001003, [27, 31])]\ttranslation-suggestions: []\n",
      "भी\t\toccurrences: [(43001003, [32, 34])]\ttranslation-suggestions: []\n",
      "यह उचित\t\toccurrences: [(43001003, [35, 42])]\ttranslation-suggestions: []\n",
      "मालूम हुआ कि\t\toccurrences: [(43001003, [43, 55])]\ttranslation-suggestions: []\n",
      "सब\t\toccurrences: [(43001003, [59, 61]), (44001003, [0, 2])]\ttranslation-suggestions: []\n",
      "बातों का\t\toccurrences: [(43001003, [62, 70])]\ttranslation-suggestions: []\n",
      "सम्पूर्ण\t\toccurrences: [(43001003, [71, 79])]\ttranslation-suggestions: []\n",
      "हाल\t\toccurrences: [(43001003, [80, 83])]\ttranslation-suggestions: []\n",
      "आरम्भ से\t\toccurrences: [(43001003, [84, 92])]\ttranslation-suggestions: []\n",
      "ठीक-ठीक\t\toccurrences: [(43001003, [93, 100])]\ttranslation-suggestions: []\n",
      "जाँच\t\toccurrences: [(43001003, [101, 105])]\ttranslation-suggestions: []\n",
      "करके\t\toccurrences: [(43001003, [106, 110])]\ttranslation-suggestions: []\n",
      "क्रमानुसार\t\toccurrences: [(43001003, [128, 138])]\ttranslation-suggestions: []\n",
      "लिखूँ\t\toccurrences: [(43001003, [139, 144])]\ttranslation-suggestions: []\n",
      "तू\t\toccurrences: [(43001004, [3, 5])]\ttranslation-suggestions: []\n",
      "यह जान\t\toccurrences: [(43001004, [6, 12])]\ttranslation-suggestions: []\n",
      "ले\t\toccurrences: [(43001004, [13, 15])]\ttranslation-suggestions: []\n",
      "कि वे\t\toccurrences: [(43001004, [17, 22])]\ttranslation-suggestions: []\n",
      "बातें\t\toccurrences: [(43001004, [23, 28])]\ttranslation-suggestions: []\n",
      "जिनकी\t\toccurrences: [(43001004, [29, 34])]\ttranslation-suggestions: []\n",
      "तूने\t\toccurrences: [(43001004, [35, 39])]\ttranslation-suggestions: []\n",
      "शिक्षा\t\toccurrences: [(43001004, [40, 46])]\ttranslation-suggestions: []\n",
      "पाई है\t\toccurrences: [(43001004, [47, 53])]\ttranslation-suggestions: []\n",
      "कैसी\t\toccurrences: [(43001004, [55, 59])]\ttranslation-suggestions: []\n",
      "अटल हैं\t\toccurrences: [(43001004, [60, 67])]\ttranslation-suggestions: []\n",
      "आदि में\t\toccurrences: [(44001001, [0, 7]), (44001002, [4, 11])]\ttranslation-suggestions: []\n",
      "वचन था\t\toccurrences: [(44001001, [8, 14])]\ttranslation-suggestions: []\n",
      "वचन\t\toccurrences: [(44001001, [19, 22]), (44001001, [46, 49])]\ttranslation-suggestions: []\n",
      "परमेश्वर के साथ था\t\toccurrences: [(44001001, [23, 41]), (44001002, [12, 30])]\ttranslation-suggestions: []\n",
      "परमेश्वर था\t\toccurrences: [(44001001, [50, 61])]\ttranslation-suggestions: ['ദൈവം']\n",
      "यही\t\toccurrences: [(44001002, [0, 3])]\ttranslation-suggestions: []\n",
      "कुछ उसी के\t\toccurrences: [(44001003, [3, 13])]\ttranslation-suggestions: []\n",
      "द्वारा\t\toccurrences: [(44001003, [14, 20])]\ttranslation-suggestions: []\n",
      "उत्पन्न हुआ और जो\t\toccurrences: [(44001003, [21, 38])]\ttranslation-suggestions: []\n",
      "कुछ उत्पन्न हुआ है\t\toccurrences: [(44001003, [39, 57])]\ttranslation-suggestions: []\n",
      "उसमें से\t\toccurrences: [(44001003, [59, 67])]\ttranslation-suggestions: []\n",
      "कोई भी\t\toccurrences: [(44001003, [68, 74])]\ttranslation-suggestions: []\n",
      "वस्तु\t\toccurrences: [(44001003, [75, 80])]\ttranslation-suggestions: []\n",
      "बिना\t\toccurrences: [(44001003, [86, 90])]\ttranslation-suggestions: []\n",
      "उत्पन्न\t\toccurrences: [(44001003, [91, 98])]\ttranslation-suggestions: []\n",
      "न हुई\t\toccurrences: [(44001003, [99, 104])]\ttranslation-suggestions: []\n",
      "उसमें\t\toccurrences: [(44001004, [0, 5])]\ttranslation-suggestions: []\n",
      "जीवन था\t\toccurrences: [(44001004, [6, 13])]\ttranslation-suggestions: []\n",
      "जीवन\t\toccurrences: [(44001004, [21, 25])]\ttranslation-suggestions: []\n",
      "मनुष्यों की\t\toccurrences: [(44001004, [26, 37])]\ttranslation-suggestions: []\n",
      "ज्योति था\t\toccurrences: [(44001004, [38, 47])]\ttranslation-suggestions: []\n"
     ]
    }
   ],
   "source": [
    "# tokenizing with the above knowledge of tokens and translations in the system\n",
    "\n",
    "token_resp = requests.get(BASE_URL+\"autographa/project/tokens?project_id=\"+str(project_id)+\"\")\n",
    "\n",
    "pretty_print_tokens(token_resp.json())"
   ]
  },
  {
   "cell_type": "code",
   "execution_count": 42,
   "id": "6771bf5d",
   "metadata": {
    "hidden": true
   },
   "outputs": [
    {
     "name": "stdout",
     "output_type": "stream",
     "text": [
      "mat 1:1 इब्राहीम के वंशज दाऊद के पुत्र यीशु मसीह की वंशावली इस प्रकार है:\n",
      "mat 1:1 അബ്രഹാം के वंशज दाऊद के പുത്രന്‍ യേശു ക്രിസ്തു की वंशावली इस प्रकार है:\n",
      "\n",
      "mat 1:2 इब्राहीम का पुत्र था इसहाक और इसहाक का पुत्र हुआ याकूब। फिर याकूब से यहूदा और उसके भाई उत्पन्न हुए।\n",
      "mat 1:2 അബ്രഹാം का പുത്രന്‍ था इसहाक और इसहाक का പുത്രന്‍ हुआ याकूब। फिर याकूब से यहूदा और उसके भाई उत्पन्न हुए।\n",
      "\n",
      "mat 1:3 यहूदा के बेटे थे फिरिस और जोरह। (उनकी माँ का नाम तामार था।) फिरिस, हिस्रोन का पिता था। हिस्रोन राम का पिता था।\n",
      "mat 1:3 यहूदा के बेटे थे फिरिस और जोरह। (उनकी माँ का नाम तामार था।) फिरिस, हिस्रोन का पिता था। हिस्रोन राम का पिता था।\n",
      "\n",
      "mrk 1:1 यह परमेश्वर के पुत्र यीशु मसीह के शुभ संदेश का प्रारम्भ है।\n",
      "mrk 1:1 यह ദൈവം പുത്രന്‍ യേശു ക്രിസ്തു के शुभ संदेश का प्रारम्भ है।\n",
      "\n",
      "mrk 1:2 भविष्यवक्ता यशायाह की पुस्तक में लिखा है कि: “सुन! मैं अपने दूत को तुझसे पहले भेज रहा हूँ। वह तेरे लिये मार्ग तैयार करेगा।”\n",
      "mrk 1:2 भविष्यवक्ता यशायाह की पुस्तक में लिखा है कि: “सुन! मैं अपने दूत को तुझसे पहले भेज रहा हूँ। वह तेरे लिये मार्ग तैयार करेगा।”\n",
      "\n",
      "mrk 1:3 “जंगल में किसी पुकारने वाले का शब्द सुनाई दे रहा है: ‘प्रभु के लिये मार्ग तैयार करो। और उसके लिये राहें सीधी बनाओ।’”\n",
      "mrk 1:3 “जंगल में किसी पुकारने वाले का शब्द सुनाई दे रहा है: ‘प्रभु के लिये मार्ग तैयार करो। और उसके लिये राहें सीधी बनाओ।’”\n",
      "\n",
      "mrk 1:4 यूहन्ना लोगों को जंगल में बपतिस्मा देते आया था। उसने लोगों से पापों की क्षमा के लिए मन फिराव का बपतिस्मा लेने को कहा।\n",
      "mrk 1:4 यूहन्ना लोगों को जंगल में बपतिस्मा देते आया था। उसने लोगों से पापों की क्षमा के लिए मन फिराव का बपतिस्मा लेने को कहा।\n",
      "\n",
      "mrk 1:5 फिर समूचे यहूदिया देश के और यरूशलेम के लोग उसके पास गये और उस ने यर्दन नदी में उन्हें बपतिस्मा दिया। क्योंकि उन्होंने अपने पाप मान लिये थे।\n",
      "mrk 1:5 फिर समूचे यहूदिया देश के और यरूशलेम के लोग उसके पास गये और उस ने यर्दन नदी में उन्हें बपतिस्मा दिया। क्योंकि उन्होंने अपने पाप मान लिये थे।\n",
      "\n",
      "luk 1:1 बहुतों ने उन बातों का जो हमारे बीच में बीती हैं, इतिहास लिखने में हाथ लगाया है।\n",
      "luk 1:1 बहुतों ने उन बातों का जो हमारे बीच में बीती हैं, इतिहास लिखने में हाथ लगाया है।\n",
      "\n",
      "luk 1:2 जैसा कि उन्होंने जो पहले ही से इन बातों के देखनेवाले और वचन के सेवक थे हम तक पहुँचाया।\n",
      "luk 1:2 जैसा कि उन्होंने जो पहले ही से इन बातों के देखनेवाले और वचन के सेवक थे हम तक पहुँचाया।\n",
      "\n",
      "luk 1:3 इसलिए हे श्रीमान थियुफिलुस मुझे भी यह उचित मालूम हुआ कि उन सब बातों का सम्पूर्ण हाल आरम्भ से ठीक-ठीक जाँच करके उन्हें तेरे लिये क्रमानुसार लिखूँ,\n",
      "luk 1:3 इसलिए हे श्रीमान थियुफिलुस मुझे भी यह उचित मालूम हुआ कि उन सब बातों का सम्पूर्ण हाल आरम्भ से ठीक-ठीक जाँच करके उन्हें तेरे लिये क्रमानुसार लिखूँ,\n",
      "\n",
      "luk 1:4 कि तू यह जान ले, कि वे बातें जिनकी तूने शिक्षा पाई है, कैसी अटल हैं।\n",
      "luk 1:4 कि तू यह जान ले, कि वे बातें जिनकी तूने शिक्षा पाई है, कैसी अटल हैं।\n",
      "\n",
      "jhn 1:1 आदि में वचन था, और वचन परमेश्वर के साथ था, और वचन परमेश्वर था।\n",
      "jhn 1:1 आदि में वचन था, और वचन ദൈവം साथ था, और वचन ദൈവം था।\n",
      "\n",
      "jhn 1:2 यही आदि में परमेश्वर के साथ था।\n",
      "jhn 1:2 यही आदि में ദൈവം साथ था।\n",
      "\n",
      "jhn 1:3 सब कुछ उसी के द्वारा उत्पन्न हुआ और जो कुछ उत्पन्न हुआ है, उसमें से कोई भी वस्तु उसके बिना उत्पन्न न हुई।\n",
      "jhn 1:3 सब कुछ उसी के द्वारा उत्पन्न हुआ और जो कुछ उत्पन्न हुआ है, उसमें से कोई भी वस्तु उसके बिना उत्पन्न न हुई।\n",
      "\n",
      "jhn 1:4 उसमें जीवन था; और वह जीवन मनुष्यों की ज्योति था।\n",
      "jhn 1:4 उसमें जीवन था; और वह जीवन मनुष्यों की ज्योति था।\n",
      "\n"
     ]
    }
   ],
   "source": [
    "# asking translation suggestion for sentences\n",
    "resp = requests.put(BASE_URL+\"autographa/project/suggestions?project_id=\"+str(project_id)+\"\",\n",
    "\theaders=headers)\n",
    "pretty_print_draft(resp.json())"
   ]
  },
  {
   "cell_type": "markdown",
   "id": "1dd68f12",
   "metadata": {
    "heading_collapsed": true,
    "hidden": true
   },
   "source": [
    "## Without a Project on the Cloud"
   ]
  },
  {
   "cell_type": "markdown",
   "id": "9077d8e3",
   "metadata": {
    "hidden": true
   },
   "source": [
    "There is provision for the NLP APIs be used even without creating a project on the server database. This would require larger amount of data to be uploaded and downloaded for each operation. But if there is a need for an app like an editor to work with locally stored data but mamke use of our NLP operations, it is possible through this."
   ]
  },
  {
   "cell_type": "markdown",
   "id": "64e0d75a",
   "metadata": {
    "hidden": true
   },
   "source": [
    "### Tokenization"
   ]
  },
  {
   "cell_type": "code",
   "execution_count": 50,
   "id": "14396263",
   "metadata": {
    "hidden": true
   },
   "outputs": [
    {
     "name": "stdout",
     "output_type": "stream",
     "text": [
      "यह परमेश्वर के\t\toccurrences: [(1, [0, 14])]\ttranslation-suggestions: []\n",
      "पुत्र\t\toccurrences: [(1, [15, 20])]\ttranslation-suggestions: ['പുത്രന്\\u200d']\n",
      "यीशु मसीह\t\toccurrences: [(1, [21, 30])]\ttranslation-suggestions: ['യേശു ക്രിസ്തു']\n",
      "कहानी है\t\toccurrences: [(1, [34, 42])]\ttranslation-suggestions: []\n",
      "एक\t\toccurrences: [(2, [0, 2])]\ttranslation-suggestions: []\n",
      "प्रेम की\t\toccurrences: [(2, [3, 11])]\ttranslation-suggestions: []\n",
      "कहानी\t\toccurrences: [(2, [12, 17])]\ttranslation-suggestions: []\n"
     ]
    }
   ],
   "source": [
    "sentences = [\n",
    "    {\"sentenceId\":1, \"sentence\":\"यह परमेश्वर के पुत्र यीशु मसीह की कहानी है\"},\n",
    "    {\"sentenceId\":2, \"sentence\":\"एक प्रेम की कहानी\"}\n",
    "]\n",
    "put_data = {\"sentence_list\": sentences}\n",
    "resp = requests.put(BASE_URL+\"translation/tokens?source_language=hi&target_language=ml\",json=put_data,\n",
    "\theaders=headers)\n",
    "pretty_print_tokens(resp.json())"
   ]
  },
  {
   "cell_type": "markdown",
   "id": "ee3d8710",
   "metadata": {
    "hidden": true
   },
   "source": [
    "### Translation"
   ]
  },
  {
   "cell_type": "code",
   "execution_count": 54,
   "id": "b0ec06dc",
   "metadata": {
    "hidden": true
   },
   "outputs": [
    {
     "name": "stdout",
     "output_type": "stream",
     "text": [
      "Tokens replaced with translations\n",
      "एक प्रेम की കഥ\n"
     ]
    }
   ],
   "source": [
    "token_update_data = [\n",
    "\t{\n",
    "\t\t\"token\":\"कहानी\",\n",
    "\t\t\"occurrences\":[\n",
    "\t\t\t{\"sentenceId\":2, \"offset\":[12, 17]}],\n",
    "\t\t\"translation\":\"കഥ\"\n",
    "\t}\n",
    "]\n",
    "put_data = {\n",
    "    \"sentence_list\": sentences,\n",
    "    \"token_translations\": token_update_data\n",
    "}\n",
    "resp = requests.put(BASE_URL+\"translation/token-translate?source_language=hi&target_language=ml\",json=put_data,\n",
    "\theaders=headers)\n",
    "print(resp.json()['message'])\n",
    "print(resp.json()['data'][1]['draft'])"
   ]
  },
  {
   "cell_type": "markdown",
   "id": "4a8172c6",
   "metadata": {
    "hidden": true
   },
   "source": [
    "### Translation Suggestion"
   ]
  },
  {
   "cell_type": "code",
   "execution_count": 58,
   "id": "b52d9821",
   "metadata": {
    "hidden": true
   },
   "outputs": [
    {
     "name": "stdout",
     "output_type": "stream",
     "text": [
      "यह ദൈവം के പുത്രന്‍ യേശു ക്രിസ്തു की കഥ है\n",
      "एक प्रेम की കഥ\n"
     ]
    }
   ],
   "source": [
    "put_data = {\n",
    "    \"sentence_list\": sentences\n",
    "}\n",
    "\n",
    "resp = requests.put(BASE_URL+\"translation/suggestions?source_language=hi&target_language=ml\",json=put_data,\n",
    "\theaders=headers)\n",
    "# print(resp.json())\n",
    "print(resp.json()[0]['draft'])\n",
    "print(resp.json()[1]['draft'])"
   ]
  },
  {
   "cell_type": "markdown",
   "id": "300ed152",
   "metadata": {
    "heading_collapsed": true
   },
   "source": [
    "# A Peek Into the Inside Logic"
   ]
  },
  {
   "cell_type": "markdown",
   "id": "f1f7bd5b",
   "metadata": {
    "hidden": true
   },
   "source": [
    "## Database Tables"
   ]
  },
  {
   "cell_type": "markdown",
   "id": "fdf128c7",
   "metadata": {
    "hidden": true
   },
   "source": [
    "## Translation Memory"
   ]
  },
  {
   "cell_type": "markdown",
   "id": "2a189fd9",
   "metadata": {
    "hidden": true
   },
   "source": [
    "## Sentences and Drafts"
   ]
  },
  {
   "cell_type": "markdown",
   "id": "ed377ec2",
   "metadata": {
    "hidden": true
   },
   "source": [
    "## Suggestions"
   ]
  },
  {
   "cell_type": "markdown",
   "id": "57d81894",
   "metadata": {
    "hidden": true
   },
   "source": [
    "### Building Trie"
   ]
  },
  {
   "cell_type": "markdown",
   "id": "eb8fe378",
   "metadata": {
    "hidden": true
   },
   "source": [
    "#### From Translation Projects"
   ]
  },
  {
   "cell_type": "markdown",
   "id": "bd444cdd",
   "metadata": {
    "hidden": true
   },
   "source": [
    "#### From alignments and dictionaries"
   ]
  },
  {
   "cell_type": "markdown",
   "id": "40d2563a",
   "metadata": {
    "hidden": true
   },
   "source": [
    "### Giving Context Based Suggestions"
   ]
  },
  {
   "cell_type": "markdown",
   "id": "c12750f9",
   "metadata": {
    "hidden": true
   },
   "source": [
    "#### Querying trie"
   ]
  },
  {
   "cell_type": "markdown",
   "id": "b99e4da9",
   "metadata": {
    "hidden": true
   },
   "source": [
    "#### Partial Match on Translation Memory"
   ]
  },
  {
   "cell_type": "code",
   "execution_count": null,
   "id": "55e85222",
   "metadata": {
    "hidden": true
   },
   "outputs": [],
   "source": []
  },
  {
   "cell_type": "code",
   "execution_count": null,
   "id": "54cfbc49",
   "metadata": {
    "hidden": true
   },
   "outputs": [],
   "source": []
  },
  {
   "cell_type": "code",
   "execution_count": null,
   "id": "2176ce20",
   "metadata": {
    "hidden": true
   },
   "outputs": [],
   "source": []
  }
 ],
 "metadata": {
  "kernelspec": {
   "display_name": "Python 3 (ipykernel)",
   "language": "python",
   "name": "python3"
  },
  "language_info": {
   "codemirror_mode": {
    "name": "ipython",
    "version": 3
   },
   "file_extension": ".py",
   "mimetype": "text/x-python",
   "name": "python",
   "nbconvert_exporter": "python",
   "pygments_lexer": "ipython3",
   "version": "3.8.10"
  }
 },
 "nbformat": 4,
 "nbformat_minor": 5
}
