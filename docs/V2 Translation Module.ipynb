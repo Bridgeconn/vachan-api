{
 "cells": [
  {
   "cell_type": "markdown",
   "id": "b2b76203",
   "metadata": {
    "heading_collapsed": true
   },
   "source": [
    "# Translation in Vachan-API V2\n",
    "The vachan-api, which is the API server for vachan-engine suite, comes with set of translation APIs that enables token-replacement translation between a Gateway Language and no-resource minority lanuage."
   ]
  },
  {
   "cell_type": "markdown",
   "id": "131a3af2",
   "metadata": {
    "hidden": true,
    "slideshow": {
     "slide_type": "subslide"
    }
   },
   "source": [
    "To be able to run the examples in this notebook\n",
    "- Need to pull the code from https://github.com/Bridgeconn/vachan-api/ version-2 branch\n",
    "- [set up the app locally](https://github.com/Bridgeconn/vachan-api/tree/version-2#how-to-set-up-locally-for-development-and-testing)\n",
    "- Use the apps venv\n",
    "- start the app from the vachan-api/app folder\n",
    "    ```\n",
    "    >>>uvicorn main:app\n",
    "    ```"
   ]
  },
  {
   "cell_type": "markdown",
   "id": "42aaf4a8",
   "metadata": {
    "hidden": true
   },
   "source": [
    "### Main differences between translation in V1 and V2\n",
    "In V1 we were doing a token replacement translation on Bible contents to provide a draft 0 for the human translators to start working with. There we had the following work flow:\n",
    "- Tokenize a bible or a set of books and obtain a unique list of tokens\n",
    "- Get these tokens translated by users\n",
    "- Do a string replacement of tokens on source USFM files to get drat 0\n",
    "\n",
    "In v2 we  continue to follow the token-replacement approach, while bringing major improvemnts in the following aspects:\n",
    "- In v1, only one translation was accepted for one token. Here we allow **multiple senses/translation** for a token and context based application of these translations\n",
    "- We have **Translation Memory** which allows the knowledge we gain from one translation to be used for giving **suggestions** later in the project or even in later projects between the same language pairs\n",
    "- We have capabilities to extend translations outside of just Bible, and allows apps to be built for **other kinds of content translations** like notes, stories, commentaries etc\n",
    "- Allows project **export** in an alignment format\n"
   ]
  },
  {
   "cell_type": "markdown",
   "id": "97e7a5db",
   "metadata": {
    "heading_collapsed": true,
    "slideshow": {
     "slide_type": "slide"
    }
   },
   "source": [
    "# Translation Module Workflow "
   ]
  },
  {
   "cell_type": "markdown",
   "id": "261ef812",
   "metadata": {
    "heading_collapsed": true,
    "hidden": true,
    "slideshow": {
     "slide_type": "slide"
    }
   },
   "source": [
    "### Upload a bible to be used as source/reference"
   ]
  },
  {
   "cell_type": "markdown",
   "id": "c9758ba3",
   "metadata": {
    "hidden": true,
    "slideshow": {
     "slide_type": "subslide"
    }
   },
   "source": [
    "NB: It is not mandatory that the Bible be uploaded like this to the server. If a user of the translation app wants to user a USFM file of his own as source/reference in his project, it is possible. It is demostarted below. This Bible upload is to show that a user can make use of a Bible that is available on the cloud as his source too."
   ]
  },
  {
   "cell_type": "code",
   "execution_count": 1,
   "id": "519283ce",
   "metadata": {
    "hidden": true,
    "slideshow": {
     "slide_type": "subslide"
    }
   },
   "outputs": [],
   "source": [
    "import json\n",
    "import requests\n",
    "\n",
    "BASE_URL = \"http://127.0.0.1:8000/v2/\"\n",
    "headers = {\"contentType\": \"application/json\", \"accept\": \"application/json\"}"
   ]
  },
  {
   "cell_type": "code",
   "execution_count": 3,
   "id": "d3a775e4",
   "metadata": {
    "hidden": true,
    "slideshow": {
     "slide_type": "subslide"
    }
   },
   "outputs": [],
   "source": [
    "ver_data = {\n",
    "    \"versionAbbreviation\": \"XYZ\",\n",
    "    \"versionName\": \"Xyz version to test\",\n",
    "    \"revision\": \"1\",\n",
    "    \"metaData\": {\"owner\": \"someone\", \"access-key\": \"123xyz\"}\n",
    "}\n",
    "\n",
    "src_data = {\n",
    "    \"contentType\": \"bible\",\n",
    "    \"language\": \"hi\",\n",
    "    \"version\": \"XYZ\",\n",
    "    \"revision\": 1,\n",
    "    \"year\": 2020,\n",
    "    \"license\": \"CC-BY-SA\",\n",
    "    \"metaData\": {\"owner\": \"someone\", \"access-key\": \"123xyz\"}\n",
    "}\n",
    "\n",
    "gospel_books_data = [\n",
    "        {\"USFM\":\"\\\\id mat\\n\\\\c 1\\n\\\\p\\n\\\\v 1 अब्राहम की सन्तान, दाऊद की सन्तान, यीशु मसीह की वंशावली ।\"+\n",
    "         \"\\\\v 2 अब्राहम से इसहाक उत्पन्न हुआ, इसहाक से याकूब उत्पन्न हुआ, और याकूब से यहूदा और उसके भाई उत्पन्न हुए।\"+\n",
    "         \"\\\\v 3 यहूदा और तामार से पेरेस व जेरह उत्पन्न हुए, और पेरेस से हेस्रोन उत्पन्न हुआ, और हेस्रोन से एराम उत्पन्न हुआ।\"+\n",
    "         \"\\\\v 4 एराम से अम्मीनादाब उत्पन्न हुआ, और अम्मीनादाब से नहशोन, और नहशोन से सलमोन उत्पन्न हुआ। \"+\n",
    "         \"\\\\v 5 सलमोन और राहाब से बोअज उत्पन्न हुआ, और बोअज और रूत से ओबेद उत्पन्न हुआ, और ओबेद से यिशै उत्पन्न हुआ।\"+\n",
    "         \"\\\\v 6 और यिशै से दाऊद राजा उत्पन्न हुआ। और दाऊद से सुलैमान उस स्त्री से उत्पन्न हुआ जो पहले ऊरिय्याह की पत्नी थी।\"+\n",
    "         \"\\\\v 7 सुलैमान से रहबाम उत्पन्न हुआ, और रहबाम से अबिय्याह उत्पन्न हुआ, और अबिय्याह से आसा उत्पन्न हुआ।\"+\n",
    "         \"\\\\v 8 आसा से यहोशाफात उत्पन्न हुआ, और यहोशाफात से योराम उत्पन्न हुआ, और योराम से उज्जियाह उत्पन्न हुआ।\"+\n",
    "         \"\\\\v 9 उज्जियाह से योताम उत्पन्न हुआ, योताम से आहाज उत्पन्न हुआ, और आहाज से हिजकिय्याह उत्पन्न हुआ।\"+\n",
    "         \"\\\\v 10 हिजकिय्याह से मनश्शे उत्पन्न हुआ, मनश्शे से आमोन उत्पन्न हुआ, और आमोन से योशिय्याह उत्पन्न हुआ।\"},\n",
    "        {\"USFM\": \"\\\\id mrk\\n\\\\c 1\\n\\\\p\\n\\\\v 1 परमेश्वर के पुत्र यीशु मसीह के सुसमाचार का आरम्भ।\"+\n",
    "         \"\\\\v 2 जैसे यशायाह भविष्यद्वक्ता की पुस्तक में लिखा है: “देख, मैं अपने दूत को तेरे आगे भेजता हूँ, जो तेरे लिये मार्ग सुधारेगा।\"+\n",
    "         \"\\\\v 3 जंगल में एक पुकारनेवाले का शब्द हो रहा है कि प्रभु का मार्ग तैयार करो, और उसकी सड़कें सीधी करो।”\"+\n",
    "         \"\\\\v 4 यूहन्ना आया, जो जंगल में बपतिस्मा देता, और पापों की क्षमा के लिये मन फिराव के बपतिस्मा का प्रचार करता था।\"+\n",
    "         \"\\\\v 5 सारे यहूदिया के, और यरूशलेम के सब रहनेवाले निकलकर उसके पास गए, और अपने पापों को मानकर यरदन नदी में उससे बपतिस्मा लिया।\"+\n",
    "         \"\\\\v 6 यूहन्ना ऊँट के रोम का वस्त्र पहने और अपनी कमर में चमड़े का कमरबन्द बाँधे रहता था और टिड्डियाँ और वनमधु खाया करता था।\"+\n",
    "         \"\\\\v 7 और यह प्रचार करता था, “मेरे बाद वह आनेवाला है, जो मुझसे शक्तिशाली है; मैं इस योग्य नहीं कि झुककर उसके जूतों का फीता खोलूँ।\"+\n",
    "         \"\\\\v 8 मैंने तो तुम्हें पानी से बपतिस्मा दिया है पर वह तुम्हें पवित्र आत्मा से बपतिस्मा देगा।”\"},\n",
    "        {\"USFM\":\"\\\\id luk\\n\\\\c 1\\n\\\\p\\n\\\\v 1 बहुतों ने उन बातों का जो हमारे बीच में बीती हैं, इतिहास लिखने में हाथ लगाया है।\"+\n",
    "         \"\\\\v 2 जैसा कि उन्होंने जो पहले ही से इन बातों के देखनेवाले और वचन के सेवक थे हम तक पहुँचाया।\"+\n",
    "         \"\\\\v 3 इसलिए हे श्रीमान थियुफिलुस मुझे भी यह उचित मालूम हुआ कि उन सब बातों का सम्पूर्ण हाल आरम्भ से ठीक-ठीक जाँच करके उन्हें तेरे लिये क्रमानुसार लिखूँ,\"+\n",
    "         \"\\\\v 4 कि तू यह जान ले, कि वे बातें जिनकी तूने शिक्षा पाई है, कैसी अटल हैं।\"},\n",
    "        {\"USFM\": \"\\\\id jhn\\n\\\\c 1\\n\\\\p\\n\\\\v 1 आदि में वचन था, और वचन परमेश्वर के साथ था, और वचन परमेश्वर था।\"+\n",
    "         \"\\\\v 2 यही आदि में परमेश्वर के साथ था।\"+\n",
    "         \"\\\\v 3 सब कुछ उसी के द्वारा उत्पन्न हुआ और जो कुछ उत्पन्न हुआ है, उसमें से कोई भी वस्तु उसके बिना उत्पन्न न हुई।\"+\n",
    "         \"\\\\v 4 उसमें जीवन था; और वह जीवन मनुष्यों की ज्योति था।\"}\n",
    "]"
   ]
  },
  {
   "cell_type": "code",
   "execution_count": 4,
   "id": "32fe3633",
   "metadata": {
    "hidden": true,
    "slideshow": {
     "slide_type": "subslide"
    }
   },
   "outputs": [
    {
     "name": "stdout",
     "output_type": "stream",
     "text": [
      "Version created successfully\n",
      "Source created successfully\n",
      "Bible books uploaded and processed successfully\n"
     ]
    }
   ],
   "source": [
    "resp = requests.post(BASE_URL+\"versions\", headers=headers, json=ver_data)\n",
    "print(resp.json()['message'])\n",
    "\n",
    "resp = requests.post(BASE_URL+\"sources\", headers=headers, json=src_data)\n",
    "print(resp.json()['message'])\n",
    "source_name = resp.json()['data']['sourceName']\n",
    "\n",
    "resp = requests.post(BASE_URL+\"bibles/\"+source_name+\"/books\", headers=headers,\n",
    "json=gospel_books_data)\n",
    "print(resp.json()['message'])\n"
   ]
  },
  {
   "cell_type": "markdown",
   "id": "c1b925b8",
   "metadata": {
    "heading_collapsed": true,
    "hidden": true,
    "slideshow": {
     "slide_type": "slide"
    }
   },
   "source": [
    "## A Translation Project\n",
    "A translation project on vachan-api could correspond to an AutographaMT project. But it doesn't limit to just one app, AutographaMT. If we want separate tranlsation client tools to be built, for example to support translation of other contents like notes, stories etc, the same could be extended on to those apps' projects as well."
   ]
  },
  {
   "cell_type": "code",
   "execution_count": 5,
   "id": "09e76a6e",
   "metadata": {
    "hidden": true
   },
   "outputs": [
    {
     "name": "stdout",
     "output_type": "stream",
     "text": [
      "Project created successfully\n"
     ]
    }
   ],
   "source": [
    "project_post_data = {\n",
    "    \"projectName\": \"Hindi-Malayalam Demo Project\",\n",
    "    \"sourceLanguageCode\": \"hi\",\n",
    "    \"targetLanguageCode\": \"ml\"\n",
    "}\n",
    "\n",
    "prj_creation_resp = requests.post(BASE_URL+\"autographa/projects\", headers=headers, json=project_post_data)\n",
    "print(prj_creation_resp.json()[\"message\"])\n",
    "project_id = prj_creation_resp.json()['data']['projectId']\n",
    "\n"
   ]
  },
  {
   "cell_type": "code",
   "execution_count": 6,
   "id": "23c130cc",
   "metadata": {
    "hidden": true
   },
   "outputs": [
    {
     "name": "stdout",
     "output_type": "stream",
     "text": [
      "100000\n",
      "[]\n"
     ]
    }
   ],
   "source": [
    "print(project_id)\n",
    "print(prj_creation_resp.json()[\"data\"][\"metaData\"][\"books\"])"
   ]
  },
  {
   "cell_type": "code",
   "execution_count": 8,
   "id": "0fa956d6",
   "metadata": {
    "hidden": true
   },
   "outputs": [],
   "source": [
    "bible_books = {\n",
    "    \"mat\":  \"\\\\id MAT\\n\\\\c 1\\n\\\\p\\n\\\\v 1 इब्राहीम के वंशज दाऊद के पुत्र यीशु मसीह की वंशावली इस \"+\n",
    "            \"प्रकार है:\\n\\\\v 2 इब्राहीम का पुत्र था इसहाक और इसहाक का पुत्र हुआ याकूब। फिर याकूब \"+\n",
    "            \"से यहूदा और उसके भाई उत्पन्न हुए।\\n\\\\v 3 यहूदा के बेटे थे फिरिस और जोरह। (उनकी माँ \"+\n",
    "            \"का नाम तामार था।) फिरिस, हिस्रोन का पिता था। हिस्रोन राम का पिता था।\",\n",
    "    \"mrk\":    \"\\\\id MRK\\n\\\\c 1\\n\\\\p\\n\\\\v 1 यह परमेश्वर के पुत्र यीशु मसीह के शुभ संदेश का प्रारम्भ\"+\n",
    "            \" है।\\n\\\\v 2 भविष्यवक्ता यशायाह की पुस्तक में लिखा है कि: “सुन! मैं अपने दूत को तुझसे\"+\n",
    "            \" पहले भेज रहा हूँ। वह तेरे लिये मार्ग तैयार करेगा।”\\n\\\\v 3 “जंगल में किसी पुकारने \"+\n",
    "            \"वाले का शब्द सुनाई दे रहा है: ‘प्रभु के लिये मार्ग तैयार करो। और उसके लिये राहें \"+\n",
    "            \"सीधी बनाओ।’”\\n\\\\v 4 यूहन्ना लोगों को जंगल में बपतिस्मा देते आया था। उसने लोगों से\"+\n",
    "            \" पापों की क्षमा के लिए मन फिराव का बपतिस्मा लेने को कहा।\\n\\\\v 5 फिर समूचे यहूदिया\"+\n",
    "            \" देश के और यरूशलेम के लोग उसके पास गये और उस ने यर्दन नदी में उन्हें बपतिस्मा दिया\"+\n",
    "            \"। क्योंकि उन्होंने अपने पाप मान लिये थे।\"\n",
    "}\n",
    "\n",
    "source_name = \"hi_XYZ_1_bible\"\n",
    "\n",
    "project_update_data = {\n",
    "\t\"projectId\":project_id,\n",
    "    \"uploadedBooks\":[bible_books['mat'], bible_books['mrk']],\n",
    "    \"selectedBooks\":{\"bible\": source_name,\n",
    "    \t\t\t\t \"books\": ['luk', 'jhn']}\n",
    "\n",
    "}\n"
   ]
  },
  {
   "cell_type": "code",
   "execution_count": 9,
   "id": "3aa51b93",
   "metadata": {
    "hidden": true
   },
   "outputs": [
    {
     "name": "stdout",
     "output_type": "stream",
     "text": [
      "Project updated successfully\n",
      "['luk', 'jhn', 'mat', 'mrk']\n"
     ]
    }
   ],
   "source": [
    "project_update_resp = requests.put(BASE_URL+\"autographa/projects\", headers=headers, json=project_update_data)\n",
    "print(project_update_resp.json()['message'])\n",
    "print(project_update_resp.json()['data']['metaData']['books'])"
   ]
  },
  {
   "cell_type": "code",
   "execution_count": 10,
   "id": "f29609c8",
   "metadata": {
    "hidden": true
   },
   "outputs": [
    {
     "name": "stdout",
     "output_type": "stream",
     "text": [
      "mat 1:1 इब्राहीम के वंशज दाऊद के पुत्र यीशु मसीह की वंशावली इस प्रकार है:\n",
      "mat 1:2 इब्राहीम का पुत्र था इसहाक और इसहाक का पुत्र हुआ याकूब। फिर याकूब से यहूदा और उसके भाई उत्पन्न हुए।\n",
      "mat 1:3 यहूदा के बेटे थे फिरिस और जोरह। (उनकी माँ का नाम तामार था।) फिरिस, हिस्रोन का पिता था। हिस्रोन राम का पिता था।\n",
      "mrk 1:1 यह परमेश्वर के पुत्र यीशु मसीह के शुभ संदेश का प्रारम्भ है।\n",
      "mrk 1:2 भविष्यवक्ता यशायाह की पुस्तक में लिखा है कि: “सुन! मैं अपने दूत को तुझसे पहले भेज रहा हूँ। वह तेरे लिये मार्ग तैयार करेगा।”\n",
      "mrk 1:3 “जंगल में किसी पुकारने वाले का शब्द सुनाई दे रहा है: ‘प्रभु के लिये मार्ग तैयार करो। और उसके लिये राहें सीधी बनाओ।’”\n",
      "mrk 1:4 यूहन्ना लोगों को जंगल में बपतिस्मा देते आया था। उसने लोगों से पापों की क्षमा के लिए मन फिराव का बपतिस्मा लेने को कहा।\n",
      "mrk 1:5 फिर समूचे यहूदिया देश के और यरूशलेम के लोग उसके पास गये और उस ने यर्दन नदी में उन्हें बपतिस्मा दिया। क्योंकि उन्होंने अपने पाप मान लिये थे।\n",
      "luk 1:1 बहुतों ने उन बातों का जो हमारे बीच में बीती हैं, इतिहास लिखने में हाथ लगाया है।\n",
      "luk 1:2 जैसा कि उन्होंने जो पहले ही से इन बातों के देखनेवाले और वचन के सेवक थे हम तक पहुँचाया।\n",
      "luk 1:3 इसलिए हे श्रीमान थियुफिलुस मुझे भी यह उचित मालूम हुआ कि उन सब बातों का सम्पूर्ण हाल आरम्भ से ठीक-ठीक जाँच करके उन्हें तेरे लिये क्रमानुसार लिखूँ,\n",
      "luk 1:4 कि तू यह जान ले, कि वे बातें जिनकी तूने शिक्षा पाई है, कैसी अटल हैं।\n",
      "jhn 1:1 आदि में वचन था, और वचन परमेश्वर के साथ था, और वचन परमेश्वर था।\n",
      "jhn 1:2 यही आदि में परमेश्वर के साथ था।\n",
      "jhn 1:3 सब कुछ उसी के द्वारा उत्पन्न हुआ और जो कुछ उत्पन्न हुआ है, उसमें से कोई भी वस्तु उसके बिना उत्पन्न न हुई।\n",
      "jhn 1:4 उसमें जीवन था; और वह जीवन मनुष्यों की ज्योति था।\n"
     ]
    }
   ],
   "source": [
    "project_source = requests.get(BASE_URL+\"autographa/project/sentences?project_id=\"+str(project_id), headers=headers)\n",
    "for item in project_source.json():\n",
    "    print(item['surrogateId'], item['sentence'])"
   ]
  },
  {
   "cell_type": "markdown",
   "id": "8ae491d2",
   "metadata": {
    "heading_collapsed": true,
    "hidden": true,
    "slideshow": {
     "slide_type": "slide"
    }
   },
   "source": [
    "## Tokenization\n",
    "\n",
    "We follow a token replacement translation approach similar to the older version, which is meant to be used between similar languages, for creating a draft 0 which can be used as a starting point for human translators."
   ]
  },
  {
   "cell_type": "code",
   "execution_count": 11,
   "id": "de260cbf",
   "metadata": {
    "hidden": true
   },
   "outputs": [],
   "source": [
    "def pretty_print_tokens(tokens):\n",
    "    for token in tokens:\n",
    "        print(token['token'],end=\"\\t\\t\")\n",
    "        print(\"occurrences:\",[(item['sentenceId'], item['offset']) for item in token['occurrences']], end=\"\\t\")\n",
    "        print(\"translation-suggestions:\", [key for key in token['translations']])"
   ]
  },
  {
   "cell_type": "code",
   "execution_count": 12,
   "id": "4b1d1f0f",
   "metadata": {
    "code_folding": [],
    "hidden": true
   },
   "outputs": [
    {
     "name": "stdout",
     "output_type": "stream",
     "text": [
      "{'token': 'इब्राहीम के', 'occurrences': [{'sentenceId': 41001001, 'offset': [0, 11]}], 'translations': {}}\n"
     ]
    }
   ],
   "source": [
    "# default\n",
    "default_tokens_resp = requests.get(BASE_URL+\"autographa/project/tokens?project_id=\"+str(project_id))\n",
    "print(default_tokens_resp.json()[0])\n"
   ]
  },
  {
   "cell_type": "code",
   "execution_count": 13,
   "id": "2e2dff57",
   "metadata": {
    "hidden": true
   },
   "outputs": [
    {
     "name": "stdout",
     "output_type": "stream",
     "text": [
      "इब्राहीम के\t\toccurrences: [(41001001, [0, 11])]\ttranslation-suggestions: []\n",
      "वंशज\t\toccurrences: [(41001001, [12, 16])]\ttranslation-suggestions: []\n",
      "दाऊद के\t\toccurrences: [(41001001, [17, 24])]\ttranslation-suggestions: []\n",
      "पुत्र\t\toccurrences: [(41001001, [25, 30]), (42001001, [15, 20])]\ttranslation-suggestions: []\n",
      "यीशु\t\toccurrences: [(41001001, [31, 35]), (42001001, [21, 25])]\ttranslation-suggestions: []\n",
      "मसीह की\t\toccurrences: [(41001001, [36, 43])]\ttranslation-suggestions: []\n",
      "वंशावली\t\toccurrences: [(41001001, [44, 51])]\ttranslation-suggestions: []\n",
      "इस प्रकार है\t\toccurrences: [(41001001, [52, 64])]\ttranslation-suggestions: []\n",
      "इब्राहीम का\t\toccurrences: [(41001002, [0, 11])]\ttranslation-suggestions: []\n",
      "पुत्र था\t\toccurrences: [(41001002, [12, 20])]\ttranslation-suggestions: []\n",
      "इसहाक और\t\toccurrences: [(41001002, [21, 29])]\ttranslation-suggestions: []\n",
      "इसहाक का\t\toccurrences: [(41001002, [30, 38])]\ttranslation-suggestions: []\n",
      "पुत्र हुआ\t\toccurrences: [(41001002, [39, 48])]\ttranslation-suggestions: []\n",
      "याकूब\t\toccurrences: [(41001002, [49, 54])]\ttranslation-suggestions: []\n",
      "फिर\t\toccurrences: [(41001002, [56, 59]), (42001005, [0, 3])]\ttranslation-suggestions: []\n",
      "याकूब से\t\toccurrences: [(41001002, [60, 68])]\ttranslation-suggestions: []\n",
      "यहूदा और\t\toccurrences: [(41001002, [69, 77])]\ttranslation-suggestions: []\n",
      "उसके\t\toccurrences: [(41001002, [78, 82]), (42001005, [43, 47]), (44001003, [81, 85])]\ttranslation-suggestions: []\n",
      "भाई\t\toccurrences: [(41001002, [83, 86])]\ttranslation-suggestions: []\n",
      "उत्पन्न हुए\t\toccurrences: [(41001002, [87, 98])]\ttranslation-suggestions: []\n",
      "यहूदा के\t\toccurrences: [(41001003, [0, 8])]\ttranslation-suggestions: []\n",
      "बेटे थे\t\toccurrences: [(41001003, [9, 16])]\ttranslation-suggestions: []\n",
      "फिरिस और\t\toccurrences: [(41001003, [17, 25])]\ttranslation-suggestions: []\n",
      "जोरह\t\toccurrences: [(41001003, [26, 30])]\ttranslation-suggestions: []\n",
      "उनकी\t\toccurrences: [(41001003, [33, 37])]\ttranslation-suggestions: []\n",
      "माँ का\t\toccurrences: [(41001003, [38, 44])]\ttranslation-suggestions: []\n",
      "नाम\t\toccurrences: [(41001003, [45, 48])]\ttranslation-suggestions: []\n",
      "तामार था\t\toccurrences: [(41001003, [49, 57])]\ttranslation-suggestions: []\n",
      "फिरिस\t\toccurrences: [(41001003, [60, 65])]\ttranslation-suggestions: []\n",
      "हिस्रोन का\t\toccurrences: [(41001003, [67, 77])]\ttranslation-suggestions: []\n",
      "पिता था\t\toccurrences: [(41001003, [78, 85]), (41001003, [102, 109])]\ttranslation-suggestions: []\n",
      "हिस्रोन\t\toccurrences: [(41001003, [87, 94])]\ttranslation-suggestions: []\n",
      "राम का\t\toccurrences: [(41001003, [95, 101])]\ttranslation-suggestions: []\n",
      "यह परमेश्वर के\t\toccurrences: [(42001001, [0, 14])]\ttranslation-suggestions: []\n",
      "मसीह के\t\toccurrences: [(42001001, [26, 33])]\ttranslation-suggestions: []\n",
      "शुभ\t\toccurrences: [(42001001, [34, 37])]\ttranslation-suggestions: []\n",
      "संदेश का\t\toccurrences: [(42001001, [38, 46])]\ttranslation-suggestions: []\n",
      "प्रारम्भ है\t\toccurrences: [(42001001, [47, 58])]\ttranslation-suggestions: []\n",
      "भविष्यवक्ता\t\toccurrences: [(42001002, [0, 11])]\ttranslation-suggestions: []\n",
      "यशायाह की\t\toccurrences: [(42001002, [12, 21])]\ttranslation-suggestions: []\n",
      "पुस्तक में\t\toccurrences: [(42001002, [22, 32])]\ttranslation-suggestions: []\n",
      "लिखा है कि\t\toccurrences: [(42001002, [33, 43])]\ttranslation-suggestions: []\n",
      "सुन\t\toccurrences: [(42001002, [46, 49])]\ttranslation-suggestions: []\n",
      "मैं\t\toccurrences: [(42001002, [51, 54])]\ttranslation-suggestions: []\n",
      "अपने\t\toccurrences: [(42001002, [55, 59]), (42001005, [118, 122])]\ttranslation-suggestions: []\n",
      "दूत को\t\toccurrences: [(42001002, [60, 66])]\ttranslation-suggestions: []\n",
      "तुझसे\t\toccurrences: [(42001002, [67, 72])]\ttranslation-suggestions: []\n",
      "पहले\t\toccurrences: [(42001002, [73, 77])]\ttranslation-suggestions: []\n",
      "भेज रहा\t\toccurrences: [(42001002, [78, 85])]\ttranslation-suggestions: []\n",
      "हूँ\t\toccurrences: [(42001002, [86, 89])]\ttranslation-suggestions: []\n",
      "वह\t\toccurrences: [(42001002, [91, 93]), (44001004, [18, 20])]\ttranslation-suggestions: []\n",
      "तेरे लिये\t\toccurrences: [(42001002, [94, 103]), (43001003, [118, 127])]\ttranslation-suggestions: []\n",
      "मार्ग\t\toccurrences: [(42001002, [104, 109]), (42001003, [68, 73])]\ttranslation-suggestions: []\n",
      "तैयार\t\toccurrences: [(42001002, [110, 115]), (42001003, [74, 79])]\ttranslation-suggestions: []\n",
      "करेगा\t\toccurrences: [(42001002, [116, 121])]\ttranslation-suggestions: []\n",
      "जंगल में\t\toccurrences: [(42001003, [1, 9]), (42001004, [17, 25])]\ttranslation-suggestions: []\n",
      "किसी पुकारने वाले का\t\toccurrences: [(42001003, [10, 30])]\ttranslation-suggestions: []\n",
      "शब्द\t\toccurrences: [(42001003, [31, 35])]\ttranslation-suggestions: []\n",
      "सुनाई\t\toccurrences: [(42001003, [36, 41])]\ttranslation-suggestions: []\n",
      "दे रहा है\t\toccurrences: [(42001003, [42, 51])]\ttranslation-suggestions: []\n",
      "प्रभु के लिये\t\toccurrences: [(42001003, [54, 67])]\ttranslation-suggestions: []\n",
      "करो\t\toccurrences: [(42001003, [80, 83])]\ttranslation-suggestions: []\n",
      "उसके लिये\t\toccurrences: [(42001003, [88, 97])]\ttranslation-suggestions: []\n",
      "राहें\t\toccurrences: [(42001003, [98, 103])]\ttranslation-suggestions: []\n",
      "सीधी\t\toccurrences: [(42001003, [104, 108])]\ttranslation-suggestions: []\n",
      "बनाओ\t\toccurrences: [(42001003, [109, 113])]\ttranslation-suggestions: []\n",
      "यूहन्ना\t\toccurrences: [(42001004, [0, 7])]\ttranslation-suggestions: []\n",
      "लोगों को\t\toccurrences: [(42001004, [8, 16])]\ttranslation-suggestions: []\n",
      "बपतिस्मा\t\toccurrences: [(42001004, [26, 34]), (42001004, [96, 104])]\ttranslation-suggestions: []\n",
      "देते\t\toccurrences: [(42001004, [35, 39])]\ttranslation-suggestions: []\n",
      "आया था\t\toccurrences: [(42001004, [40, 46])]\ttranslation-suggestions: []\n",
      "उसने\t\toccurrences: [(42001004, [48, 52])]\ttranslation-suggestions: []\n",
      "लोगों से\t\toccurrences: [(42001004, [53, 61])]\ttranslation-suggestions: []\n",
      "पापों की\t\toccurrences: [(42001004, [62, 70])]\ttranslation-suggestions: []\n",
      "क्षमा के लिए\t\toccurrences: [(42001004, [71, 83])]\ttranslation-suggestions: []\n",
      "मन\t\toccurrences: [(42001004, [84, 86])]\ttranslation-suggestions: []\n",
      "फिराव का\t\toccurrences: [(42001004, [87, 95])]\ttranslation-suggestions: []\n",
      "लेने को\t\toccurrences: [(42001004, [105, 112])]\ttranslation-suggestions: []\n",
      "कहा\t\toccurrences: [(42001004, [113, 116])]\ttranslation-suggestions: []\n",
      "समूचे\t\toccurrences: [(42001005, [4, 9])]\ttranslation-suggestions: []\n",
      "यहूदिया\t\toccurrences: [(42001005, [10, 17])]\ttranslation-suggestions: []\n",
      "देश के और\t\toccurrences: [(42001005, [18, 27])]\ttranslation-suggestions: []\n",
      "यरूशलेम के\t\toccurrences: [(42001005, [28, 38])]\ttranslation-suggestions: []\n",
      "लोग\t\toccurrences: [(42001005, [39, 42])]\ttranslation-suggestions: []\n",
      "पास\t\toccurrences: [(42001005, [48, 51])]\ttranslation-suggestions: []\n",
      "गये और\t\toccurrences: [(42001005, [52, 58])]\ttranslation-suggestions: []\n",
      "उस ने\t\toccurrences: [(42001005, [59, 64])]\ttranslation-suggestions: []\n",
      "यर्दन\t\toccurrences: [(42001005, [65, 70])]\ttranslation-suggestions: []\n",
      "नदी में\t\toccurrences: [(42001005, [71, 78])]\ttranslation-suggestions: []\n",
      "उन्हें\t\toccurrences: [(42001005, [79, 85]), (43001003, [111, 117])]\ttranslation-suggestions: []\n",
      "बपतिस्मा दिया\t\toccurrences: [(42001005, [86, 99])]\ttranslation-suggestions: []\n",
      "क्योंकि\t\toccurrences: [(42001005, [101, 108])]\ttranslation-suggestions: []\n",
      "उन्होंने\t\toccurrences: [(42001005, [109, 117])]\ttranslation-suggestions: []\n",
      "पाप\t\toccurrences: [(42001005, [123, 126])]\ttranslation-suggestions: []\n",
      "मान लिये थे\t\toccurrences: [(42001005, [127, 138])]\ttranslation-suggestions: []\n",
      "बहुतों ने\t\toccurrences: [(43001001, [0, 9])]\ttranslation-suggestions: []\n",
      "उन\t\toccurrences: [(43001001, [10, 12]), (43001003, [56, 58])]\ttranslation-suggestions: []\n",
      "बातों का जो\t\toccurrences: [(43001001, [13, 24])]\ttranslation-suggestions: []\n",
      "हमारे\t\toccurrences: [(43001001, [25, 30])]\ttranslation-suggestions: []\n",
      "बीच में\t\toccurrences: [(43001001, [31, 38])]\ttranslation-suggestions: []\n",
      "बीती हैं\t\toccurrences: [(43001001, [39, 47])]\ttranslation-suggestions: []\n",
      "इतिहास\t\toccurrences: [(43001001, [49, 55])]\ttranslation-suggestions: []\n",
      "लिखने में\t\toccurrences: [(43001001, [56, 65])]\ttranslation-suggestions: []\n",
      "हाथ\t\toccurrences: [(43001001, [66, 69])]\ttranslation-suggestions: []\n",
      "लगाया है\t\toccurrences: [(43001001, [70, 78])]\ttranslation-suggestions: []\n",
      "जैसा कि\t\toccurrences: [(43001002, [0, 7])]\ttranslation-suggestions: []\n",
      "उन्होंने जो\t\toccurrences: [(43001002, [8, 19])]\ttranslation-suggestions: []\n",
      "पहले ही से\t\toccurrences: [(43001002, [20, 30])]\ttranslation-suggestions: []\n",
      "इन\t\toccurrences: [(43001002, [31, 33])]\ttranslation-suggestions: []\n",
      "बातों के\t\toccurrences: [(43001002, [34, 42])]\ttranslation-suggestions: []\n",
      "देखनेवाले और\t\toccurrences: [(43001002, [43, 55])]\ttranslation-suggestions: []\n",
      "वचन के\t\toccurrences: [(43001002, [56, 62])]\ttranslation-suggestions: []\n",
      "सेवक थे\t\toccurrences: [(43001002, [63, 70])]\ttranslation-suggestions: []\n",
      "हम तक\t\toccurrences: [(43001002, [71, 76])]\ttranslation-suggestions: []\n",
      "पहुँचाया\t\toccurrences: [(43001002, [77, 85])]\ttranslation-suggestions: []\n",
      "इसलिए\t\toccurrences: [(43001003, [0, 5])]\ttranslation-suggestions: []\n",
      "हे\t\toccurrences: [(43001003, [6, 8])]\ttranslation-suggestions: []\n",
      "श्रीमान\t\toccurrences: [(43001003, [9, 16])]\ttranslation-suggestions: []\n",
      "थियुफिलुस\t\toccurrences: [(43001003, [17, 26])]\ttranslation-suggestions: []\n",
      "मुझे\t\toccurrences: [(43001003, [27, 31])]\ttranslation-suggestions: []\n",
      "भी\t\toccurrences: [(43001003, [32, 34])]\ttranslation-suggestions: []\n",
      "यह उचित\t\toccurrences: [(43001003, [35, 42])]\ttranslation-suggestions: []\n",
      "मालूम हुआ कि\t\toccurrences: [(43001003, [43, 55])]\ttranslation-suggestions: []\n",
      "सब\t\toccurrences: [(43001003, [59, 61]), (44001003, [0, 2])]\ttranslation-suggestions: []\n",
      "बातों का\t\toccurrences: [(43001003, [62, 70])]\ttranslation-suggestions: []\n",
      "सम्पूर्ण\t\toccurrences: [(43001003, [71, 79])]\ttranslation-suggestions: []\n",
      "हाल\t\toccurrences: [(43001003, [80, 83])]\ttranslation-suggestions: []\n",
      "आरम्भ से\t\toccurrences: [(43001003, [84, 92])]\ttranslation-suggestions: []\n",
      "ठीक-ठीक\t\toccurrences: [(43001003, [93, 100])]\ttranslation-suggestions: []\n",
      "जाँच\t\toccurrences: [(43001003, [101, 105])]\ttranslation-suggestions: []\n",
      "करके\t\toccurrences: [(43001003, [106, 110])]\ttranslation-suggestions: []\n",
      "क्रमानुसार\t\toccurrences: [(43001003, [128, 138])]\ttranslation-suggestions: []\n",
      "लिखूँ\t\toccurrences: [(43001003, [139, 144])]\ttranslation-suggestions: []\n",
      "तू\t\toccurrences: [(43001004, [3, 5])]\ttranslation-suggestions: []\n",
      "यह जान\t\toccurrences: [(43001004, [6, 12])]\ttranslation-suggestions: []\n",
      "ले\t\toccurrences: [(43001004, [13, 15])]\ttranslation-suggestions: []\n",
      "कि वे\t\toccurrences: [(43001004, [17, 22])]\ttranslation-suggestions: []\n",
      "बातें\t\toccurrences: [(43001004, [23, 28])]\ttranslation-suggestions: []\n",
      "जिनकी\t\toccurrences: [(43001004, [29, 34])]\ttranslation-suggestions: []\n",
      "तूने\t\toccurrences: [(43001004, [35, 39])]\ttranslation-suggestions: []\n",
      "शिक्षा\t\toccurrences: [(43001004, [40, 46])]\ttranslation-suggestions: []\n",
      "पाई है\t\toccurrences: [(43001004, [47, 53])]\ttranslation-suggestions: []\n",
      "कैसी\t\toccurrences: [(43001004, [55, 59])]\ttranslation-suggestions: []\n",
      "अटल हैं\t\toccurrences: [(43001004, [60, 67])]\ttranslation-suggestions: []\n",
      "आदि में\t\toccurrences: [(44001001, [0, 7]), (44001002, [4, 11])]\ttranslation-suggestions: []\n",
      "वचन था\t\toccurrences: [(44001001, [8, 14])]\ttranslation-suggestions: []\n",
      "वचन\t\toccurrences: [(44001001, [19, 22]), (44001001, [46, 49])]\ttranslation-suggestions: []\n",
      "परमेश्वर के साथ था\t\toccurrences: [(44001001, [23, 41]), (44001002, [12, 30])]\ttranslation-suggestions: []\n",
      "परमेश्वर था\t\toccurrences: [(44001001, [50, 61])]\ttranslation-suggestions: []\n",
      "यही\t\toccurrences: [(44001002, [0, 3])]\ttranslation-suggestions: []\n",
      "कुछ उसी के\t\toccurrences: [(44001003, [3, 13])]\ttranslation-suggestions: []\n",
      "द्वारा\t\toccurrences: [(44001003, [14, 20])]\ttranslation-suggestions: []\n",
      "उत्पन्न हुआ और जो\t\toccurrences: [(44001003, [21, 38])]\ttranslation-suggestions: []\n",
      "कुछ उत्पन्न हुआ है\t\toccurrences: [(44001003, [39, 57])]\ttranslation-suggestions: []\n",
      "उसमें से\t\toccurrences: [(44001003, [59, 67])]\ttranslation-suggestions: []\n",
      "कोई भी\t\toccurrences: [(44001003, [68, 74])]\ttranslation-suggestions: []\n",
      "वस्तु\t\toccurrences: [(44001003, [75, 80])]\ttranslation-suggestions: []\n",
      "बिना\t\toccurrences: [(44001003, [86, 90])]\ttranslation-suggestions: []\n",
      "उत्पन्न\t\toccurrences: [(44001003, [91, 98])]\ttranslation-suggestions: []\n",
      "न हुई\t\toccurrences: [(44001003, [99, 104])]\ttranslation-suggestions: []\n",
      "उसमें\t\toccurrences: [(44001004, [0, 5])]\ttranslation-suggestions: []\n",
      "जीवन था\t\toccurrences: [(44001004, [6, 13])]\ttranslation-suggestions: []\n",
      "जीवन\t\toccurrences: [(44001004, [21, 25])]\ttranslation-suggestions: []\n",
      "मनुष्यों की\t\toccurrences: [(44001004, [26, 37])]\ttranslation-suggestions: []\n",
      "ज्योति था\t\toccurrences: [(44001004, [38, 47])]\ttranslation-suggestions: []\n"
     ]
    }
   ],
   "source": [
    "pretty_print_tokens(default_tokens_resp.json())"
   ]
  },
  {
   "cell_type": "code",
   "execution_count": 15,
   "id": "a694eac3",
   "metadata": {
    "hidden": true
   },
   "outputs": [
    {
     "name": "stdout",
     "output_type": "stream",
     "text": [
      "यह परमेश्वर के\t\toccurrences: [(42001001, [0, 14])]\ttranslation-suggestions: []\n",
      "पुत्र\t\toccurrences: [(42001001, [15, 20])]\ttranslation-suggestions: []\n",
      "यीशु\t\toccurrences: [(42001001, [21, 25])]\ttranslation-suggestions: []\n",
      "मसीह के\t\toccurrences: [(42001001, [26, 33])]\ttranslation-suggestions: []\n",
      "शुभ\t\toccurrences: [(42001001, [34, 37])]\ttranslation-suggestions: []\n",
      "संदेश का\t\toccurrences: [(42001001, [38, 46])]\ttranslation-suggestions: []\n",
      "प्रारम्भ है\t\toccurrences: [(42001001, [47, 58])]\ttranslation-suggestions: []\n"
     ]
    }
   ],
   "source": [
    "# for a portion of the source\n",
    "\n",
    "# some_token_resp = requests.get(BASE_URL+\"autographa/project/tokens?project_id=\"+str(project_id)+\"&books=luk\")\n",
    "\n",
    "# some_token_resp = requests.get(BASE_URL+\"autographa/project/tokens?project_id=\"+str(project_id)\n",
    "#                                +\"&books=luk&books=jhn\")\n",
    "\n",
    "\n",
    "# some_token_resp = requests.get(BASE_URL+\"autographa/project/tokens?project_id=\"+str(project_id)+\n",
    "#                                \"&sentence_id_range=42001000&sentence_id_range=42001999\")\n",
    "\n",
    "some_token_resp = requests.get(BASE_URL+\"autographa/project/tokens?project_id=\"+str(project_id)+\n",
    "                               \"&sentence_id_list=42001001\")\n",
    "\n",
    "\n",
    "# some_token_resp = requests.get(BASE_URL+\"autographa/project/tokens?project_id=\"+str(project_id)+\n",
    "#                                \"&sentence_id_list=42001001&sentence_id_list=43001001\")\n",
    "\n",
    "\n",
    "pretty_print_tokens(some_token_resp.json())\n",
    "\n"
   ]
  },
  {
   "cell_type": "code",
   "execution_count": 17,
   "id": "2d9d2686",
   "metadata": {
    "hidden": true
   },
   "outputs": [
    {
     "name": "stdout",
     "output_type": "stream",
     "text": [
      "यह\t\toccurrences: [(42001001, [0, 2])]\ttranslation-suggestions: []\n",
      "परमेश्वर\t\toccurrences: [(42001001, [3, 11])]\ttranslation-suggestions: []\n",
      "के\t\toccurrences: [(42001001, [12, 14]), (42001001, [31, 33])]\ttranslation-suggestions: []\n",
      "पुत्र\t\toccurrences: [(42001001, [15, 20])]\ttranslation-suggestions: []\n",
      "यीशु\t\toccurrences: [(42001001, [21, 25])]\ttranslation-suggestions: []\n",
      "मसीह\t\toccurrences: [(42001001, [26, 30])]\ttranslation-suggestions: []\n",
      "शुभ\t\toccurrences: [(42001001, [34, 37])]\ttranslation-suggestions: []\n",
      "संदेश\t\toccurrences: [(42001001, [38, 43])]\ttranslation-suggestions: []\n",
      "का\t\toccurrences: [(42001001, [44, 46])]\ttranslation-suggestions: []\n",
      "प्रारम्भ\t\toccurrences: [(42001001, [47, 55])]\ttranslation-suggestions: []\n",
      "है\t\toccurrences: [(42001001, [56, 58])]\ttranslation-suggestions: []\n"
     ]
    }
   ],
   "source": [
    "# For different kinds of tokens\n",
    "\n",
    "# token_resp = requests.get(BASE_URL+\"autographa/project/tokens?project_id=\"+str(project_id)+\"&sentence_id_list=42001001\"\n",
    "#                          +\"&include_phrases=False\")\n",
    "\n",
    "token_resp = requests.get(BASE_URL+\"autographa/project/tokens?project_id=\"+str(project_id)+\"&sentence_id_list=42001001\"\n",
    "                         +\"&include_phrases=False&include_stopwords=True\")\n",
    "\n",
    "pretty_print_tokens(token_resp.json())\n"
   ]
  },
  {
   "cell_type": "markdown",
   "id": "51ce2fb0",
   "metadata": {
    "heading_collapsed": true,
    "hidden": true,
    "slideshow": {
     "slide_type": "slide"
    }
   },
   "source": [
    "## Tweek the Tokenization\n",
    "\n",
    "We can control how the tokenization algorithm works by defining our own set of stopwords or puctuations to be used in the project. This would allow the user to choose how the tokenization is done, as per the specific needs of his work and language's nature."
   ]
  },
  {
   "cell_type": "code",
   "execution_count": 22,
   "id": "94afa151",
   "metadata": {
    "hidden": true
   },
   "outputs": [],
   "source": [
    "hi_sws =  {\n",
    "    \"prepositions\": [\n",
    "      \"कोई\",\n",
    "#      \"यह\",\n",
    "      \"इस\",\n",
    "      \"इसे\",\n",
    "      \"उस\",\n",
    "      \"कई\",\n",
    "      \"इसी\",\n",
    "      \"अभी\",\n",
    "      \"जैसे\"\n",
    "    ],\n",
    "    \"postpositions\": [\n",
    "#       \"के\",\n",
    "#       \"का\",\n",
    "#       \"की\",\n",
    "      \"में\",\n",
    "      \"है\",\n",
    "      \"और\",\n",
    "      \"से\",\n",
    "      \"हैं\",\n",
    "      \"को\",\n",
    "      \"पर\"\n",
    "    ]\n",
    "  }"
   ]
  },
  {
   "cell_type": "code",
   "execution_count": 23,
   "id": "f3528bd3",
   "metadata": {
    "hidden": true
   },
   "outputs": [
    {
     "name": "stdout",
     "output_type": "stream",
     "text": [
      "Project updated successfully\n"
     ]
    }
   ],
   "source": [
    "project_edit_data = {\n",
    "\t\"projectId\":project_id,\n",
    "    \"stopwords\":hi_sws\n",
    "}\n",
    "project_edit_resp = requests.put(BASE_URL+\"autographa/projects\", headers=headers, json=project_edit_data)\n",
    "print(project_edit_resp.json()['message'])\n"
   ]
  },
  {
   "cell_type": "code",
   "execution_count": 24,
   "id": "0d526dc6",
   "metadata": {
    "hidden": true
   },
   "outputs": [
    {
     "name": "stdout",
     "output_type": "stream",
     "text": [
      "यह\t\toccurrences: [(42001001, [0, 2])]\ttranslation-suggestions: []\n",
      "परमेश्वर\t\toccurrences: [(42001001, [3, 11])]\ttranslation-suggestions: []\n",
      "के\t\toccurrences: [(42001001, [12, 14]), (42001001, [31, 33])]\ttranslation-suggestions: []\n",
      "पुत्र\t\toccurrences: [(42001001, [15, 20])]\ttranslation-suggestions: []\n",
      "यीशु\t\toccurrences: [(42001001, [21, 25])]\ttranslation-suggestions: []\n",
      "मसीह\t\toccurrences: [(42001001, [26, 30])]\ttranslation-suggestions: []\n",
      "शुभ\t\toccurrences: [(42001001, [34, 37])]\ttranslation-suggestions: []\n",
      "संदेश\t\toccurrences: [(42001001, [38, 43])]\ttranslation-suggestions: []\n",
      "का\t\toccurrences: [(42001001, [44, 46])]\ttranslation-suggestions: []\n",
      "प्रारम्भ है\t\toccurrences: [(42001001, [47, 58])]\ttranslation-suggestions: []\n"
     ]
    }
   ],
   "source": [
    "token_resp = requests.get(BASE_URL+\"autographa/project/tokens?project_id=\"+str(project_id)+\"&sentence_id_list=42001001\"\n",
    "                         +\"&include_phrases=True&include_stopwords=False\")\n",
    "pretty_print_tokens(token_resp.json())"
   ]
  },
  {
   "cell_type": "code",
   "execution_count": 26,
   "id": "7b2937cc",
   "metadata": {
    "hidden": true
   },
   "outputs": [],
   "source": [
    "puncts = [',', '\"', '!', '.', ':', ';', '\\n', '\\\\','“','”',\n",
    "        '“','*',\n",
    "#           '।',\n",
    "          '?',';',\"'\",\"’\",\"(\",\")\",\"‘\",\"—\"]"
   ]
  },
  {
   "cell_type": "code",
   "execution_count": 27,
   "id": "9ac942d7",
   "metadata": {
    "hidden": true
   },
   "outputs": [
    {
     "name": "stdout",
     "output_type": "stream",
     "text": [
      "Project updated successfully\n"
     ]
    }
   ],
   "source": [
    "project_edit_data = {\n",
    "\t\"projectId\":project_id,\n",
    "    \"punctuations\":puncts\n",
    "}\n",
    "project_edit_resp = requests.put(BASE_URL+\"autographa/projects\", headers=headers, json=project_edit_data)\n",
    "print(project_edit_resp.json()['message'])\n"
   ]
  },
  {
   "cell_type": "code",
   "execution_count": 28,
   "id": "e7ab6688",
   "metadata": {
    "hidden": true
   },
   "outputs": [
    {
     "name": "stdout",
     "output_type": "stream",
     "text": [
      "यह\t\toccurrences: [(42001001, [0, 2])]\ttranslation-suggestions: []\n",
      "परमेश्वर\t\toccurrences: [(42001001, [3, 11])]\ttranslation-suggestions: []\n",
      "के\t\toccurrences: [(42001001, [12, 14]), (42001001, [31, 33])]\ttranslation-suggestions: []\n",
      "पुत्र\t\toccurrences: [(42001001, [15, 20])]\ttranslation-suggestions: []\n",
      "यीशु\t\toccurrences: [(42001001, [21, 25])]\ttranslation-suggestions: []\n",
      "मसीह\t\toccurrences: [(42001001, [26, 30])]\ttranslation-suggestions: []\n",
      "शुभ\t\toccurrences: [(42001001, [34, 37])]\ttranslation-suggestions: []\n",
      "संदेश\t\toccurrences: [(42001001, [38, 43])]\ttranslation-suggestions: []\n",
      "का\t\toccurrences: [(42001001, [44, 46])]\ttranslation-suggestions: []\n",
      "प्रारम्भ\t\toccurrences: [(42001001, [47, 55])]\ttranslation-suggestions: []\n",
      "है।\t\toccurrences: [(42001001, [56, 59])]\ttranslation-suggestions: []\n"
     ]
    }
   ],
   "source": [
    "token_resp = requests.get(BASE_URL+\"autographa/project/tokens?project_id=\"+str(project_id)+\"&sentence_id_list=42001001\")\n",
    "\n",
    "pretty_print_tokens(token_resp.json())"
   ]
  },
  {
   "cell_type": "markdown",
   "id": "697895ee",
   "metadata": {
    "heading_collapsed": true,
    "hidden": true,
    "slideshow": {
     "slide_type": "slide"
    }
   },
   "source": [
    "## Translate\n",
    "\n",
    "We do context based translation. It allows the same word to have different senses or translations at different occurances. So, user is required to specify to which all occurances of a token, a particular translation is to be applied."
   ]
  },
  {
   "cell_type": "code",
   "execution_count": 29,
   "id": "1049c944",
   "metadata": {
    "hidden": true
   },
   "outputs": [],
   "source": [
    "\n",
    "def pretty_print_draft(sents):\n",
    "    for item in sents:\n",
    "        print(item['surrogateId'], item['sentence'])\n",
    "        print(item['surrogateId'], item['draft'])\n",
    "        print()"
   ]
  },
  {
   "cell_type": "code",
   "execution_count": 30,
   "id": "8ec4a8ff",
   "metadata": {
    "hidden": true,
    "scrolled": true
   },
   "outputs": [
    {
     "name": "stdout",
     "output_type": "stream",
     "text": [
      "इब्राहीम\t\toccurrences: [(41001001, [0, 8])]\ttranslation-suggestions: []\n",
      "के\t\toccurrences: [(41001001, [9, 11]), (41001001, [22, 24])]\ttranslation-suggestions: []\n",
      "वंशज\t\toccurrences: [(41001001, [12, 16])]\ttranslation-suggestions: []\n",
      "दाऊद\t\toccurrences: [(41001001, [17, 21])]\ttranslation-suggestions: []\n",
      "पुत्र\t\toccurrences: [(41001001, [25, 30])]\ttranslation-suggestions: []\n",
      "यीशु\t\toccurrences: [(41001001, [31, 35])]\ttranslation-suggestions: []\n",
      "मसीह\t\toccurrences: [(41001001, [36, 40])]\ttranslation-suggestions: []\n",
      "की\t\toccurrences: [(41001001, [41, 43])]\ttranslation-suggestions: []\n",
      "वंशावली\t\toccurrences: [(41001001, [44, 51])]\ttranslation-suggestions: []\n",
      "इस प्रकार है\t\toccurrences: [(41001001, [52, 64])]\ttranslation-suggestions: []\n"
     ]
    }
   ],
   "source": [
    "token_resp = requests.get(BASE_URL+\"autographa/project/tokens?project_id=\"+str(project_id)+\"&sentence_id_list=41001001\")\n",
    "\n",
    "pretty_print_tokens(token_resp.json())"
   ]
  },
  {
   "cell_type": "markdown",
   "id": "20240ca0",
   "metadata": {
    "hidden": true
   },
   "source": [
    "In the previous version we used a list of unique tokens to be translated by user. Then applied this token translation blindly across all occurences without having the provision of using multiple senses for a token in different contexts. Here, we allow the user to choose where to apply a specific translation by asking him to provide the occurance(sentenceId and offset)."
   ]
  },
  {
   "cell_type": "code",
   "execution_count": 32,
   "id": "deef2d73",
   "metadata": {
    "hidden": true
   },
   "outputs": [
    {
     "name": "stdout",
     "output_type": "stream",
     "text": [
      "Token translations saved\n",
      "mat 1:1 इब्राहीम के वंशज दाऊद के पुत्र यीशु मसीह की वंशावली इस प्रकार है:\n",
      "mat 1:1 इब्राहीम के वंशज दाऊद के പുത്രന്‍ यीशु मसीह की वंशावली इस प्रकार है:\n",
      "\n",
      "mat 1:2 इब्राहीम का पुत्र था इसहाक और इसहाक का पुत्र हुआ याकूब। फिर याकूब से यहूदा और उसके भाई उत्पन्न हुए।\n",
      "mat 1:2 അബ്രഹാം का पुत्र था इसहाक और इसहाक का पुत्र हुआ याकूब। फिर याकूब से यहूदा और उसके भाई उत्पन्न हुए।\n",
      "\n"
     ]
    }
   ],
   "source": [
    "token_update_data = [\n",
    "\t{\n",
    "\t\t\"token\":\"पुत्र\",\n",
    "\t\t\"occurrences\":[\n",
    "\t\t\t{\"sentenceId\":41001001, \"offset\":[25,30]}],\n",
    "\t\t\"translation\":\"പുത്രന്‍\"\n",
    "\t},\n",
    "\t{\n",
    "\t\t\"token\":\"इब्राहीम\",\n",
    "\t\t\"occurrences\":[\n",
    "\t\t\t{\"sentenceId\":41001002, \"offset\":[0, 8]}],\n",
    "\t\t\"translation\":\"അബ്രഹാം\"\n",
    "\t}\n",
    "]\n",
    "resp = requests.put(BASE_URL+\"autographa/project/tokens?project_id=\"+str(project_id),\n",
    "\theaders=headers, json=token_update_data)\n",
    "print(resp.json()['message'])\n",
    "source_sent = requests.get(BASE_URL+\"autographa/project/sentences?project_id=\"+str(project_id)+\n",
    "                           \"&sentence_id_list=41001001&sentence_id_list=41001002&with_draft=True\")\n",
    "\n",
    "pretty_print_draft(source_sent.json())"
   ]
  },
  {
   "cell_type": "markdown",
   "id": "c85ea8e9",
   "metadata": {
    "hidden": true
   },
   "source": [
    "As seen in the above example, we can make use of the token's occurence we get from the tokenization response to specify our token translation. This method suits our token based translation approach we use in the previous systems. But it is not mandatory that we stick to that method alone. User can be given the freedom to **select any word or phrase from the source** via the GUI and translate it. This gives the user the **flexibility** to define the tokens as suited most for his need as well as the target language's nature. In turn, this would allow the system to **learn and improve** its tokenization and suggestion via translation memory"
   ]
  },
  {
   "cell_type": "code",
   "execution_count": 33,
   "id": "0e9e89f0",
   "metadata": {
    "hidden": true
   },
   "outputs": [
    {
     "name": "stdout",
     "output_type": "stream",
     "text": [
      "Token translations saved\n",
      "mat 1:1 इब्राहीम के वंशज दाऊद के पुत्र यीशु मसीह की वंशावली इस प्रकार है:\n",
      "mat 1:1 इब्राहीम के वंशज दाऊद के പുത്രന്‍ യേശു ക്രിസ്തു की वंशावली इस प्रकार है:\n",
      "\n",
      "mat 1:2 इब्राहीम का पुत्र था इसहाक और इसहाक का पुत्र हुआ याकूब। फिर याकूब से यहूदा और उसके भाई उत्पन्न हुए।\n",
      "mat 1:2 അബ്രഹാം का पुत्र था इसहाक और इसहाक का पुत्र हुआ याकूब। फिर याकूब से यहूदा और उसके भाई उत्पन्न हुए।\n",
      "\n"
     ]
    }
   ],
   "source": [
    "token_update_data = [\n",
    "\t{\n",
    "\t\t\"token\":\"यीशु मसीह\",\n",
    "\t\t\"occurrences\":[\n",
    "\t\t\t{\"sentenceId\":41001001, \"offset\":[31, 40]}],\n",
    "\t\t\"translation\":\"യേശു ക്രിസ്തു\"\n",
    "\t}\n",
    "]\n",
    "resp = requests.put(BASE_URL+\"autographa/project/tokens?project_id=\"+str(project_id),\n",
    "\theaders=headers, json=token_update_data)\n",
    "print(resp.json()['message'])\n",
    "source_sent = requests.get(BASE_URL+\"autographa/project/sentences?project_id=\"+str(project_id)+\n",
    "                           \"&sentence_id_list=41001001&sentence_id_list=41001002&with_draft=True\")\n",
    "\n",
    "pretty_print_draft(source_sent.json())"
   ]
  },
  {
   "cell_type": "markdown",
   "id": "1e57d1b9",
   "metadata": {
    "heading_collapsed": true,
    "hidden": true,
    "slideshow": {
     "slide_type": "slide"
    }
   },
   "source": [
    "## Suggestion\n",
    "We can use knowledge from previous projects or other data sources, between a language pair, to give translation suggestions for newer projects or even a later occurance of a token in the same project. These suggestions can be context dependant, as the same token could be translated in different ways when they occur with different surrounding words."
   ]
  },
  {
   "cell_type": "code",
   "execution_count": 34,
   "id": "87df1167",
   "metadata": {
    "hidden": true
   },
   "outputs": [
    {
     "name": "stdout",
     "output_type": "stream",
     "text": [
      "यह\t\toccurrences: [(42001001, [0, 2])]\ttranslation-suggestions: []\n",
      "परमेश्वर\t\toccurrences: [(42001001, [3, 11])]\ttranslation-suggestions: []\n",
      "के\t\toccurrences: [(42001001, [12, 14]), (42001001, [31, 33]), (42001003, [60, 62]), (42001004, [77, 79]), (42001005, [36, 38])]\ttranslation-suggestions: []\n",
      "पुत्र\t\toccurrences: [(42001001, [15, 20])]\ttranslation-suggestions: ['പുത്രന്\\u200d']\n",
      "यीशु मसीह\t\toccurrences: [(42001001, [21, 30])]\ttranslation-suggestions: ['യേശു ക്രിസ്തു']\n",
      "शुभ\t\toccurrences: [(42001001, [34, 37])]\ttranslation-suggestions: []\n",
      "संदेश\t\toccurrences: [(42001001, [38, 43])]\ttranslation-suggestions: []\n",
      "का\t\toccurrences: [(42001001, [44, 46]), (42001003, [28, 30]), (42001004, [93, 95])]\ttranslation-suggestions: []\n",
      "प्रारम्भ\t\toccurrences: [(42001001, [47, 55])]\ttranslation-suggestions: []\n",
      "है।\t\toccurrences: [(42001001, [56, 59])]\ttranslation-suggestions: []\n",
      "भविष्यवक्ता\t\toccurrences: [(42001002, [0, 11])]\ttranslation-suggestions: []\n",
      "यशायाह\t\toccurrences: [(42001002, [12, 18])]\ttranslation-suggestions: []\n",
      "की\t\toccurrences: [(42001002, [19, 21]), (42001004, [68, 70])]\ttranslation-suggestions: []\n",
      "पुस्तक में\t\toccurrences: [(42001002, [22, 32])]\ttranslation-suggestions: []\n",
      "लिखा है\t\toccurrences: [(42001002, [33, 40])]\ttranslation-suggestions: []\n",
      "कि\t\toccurrences: [(42001002, [41, 43])]\ttranslation-suggestions: []\n",
      "सुन\t\toccurrences: [(42001002, [46, 49])]\ttranslation-suggestions: []\n",
      "मैं\t\toccurrences: [(42001002, [51, 54])]\ttranslation-suggestions: []\n",
      "अपने\t\toccurrences: [(42001002, [55, 59]), (42001005, [118, 122])]\ttranslation-suggestions: []\n",
      "दूत को\t\toccurrences: [(42001002, [60, 66])]\ttranslation-suggestions: []\n",
      "तुझसे\t\toccurrences: [(42001002, [67, 72])]\ttranslation-suggestions: []\n",
      "पहले\t\toccurrences: [(42001002, [73, 77])]\ttranslation-suggestions: []\n",
      "भेज\t\toccurrences: [(42001002, [78, 81])]\ttranslation-suggestions: []\n",
      "रहा\t\toccurrences: [(42001002, [82, 85])]\ttranslation-suggestions: []\n",
      "हूँ।\t\toccurrences: [(42001002, [86, 90])]\ttranslation-suggestions: []\n",
      "वह\t\toccurrences: [(42001002, [91, 93])]\ttranslation-suggestions: []\n",
      "तेरे\t\toccurrences: [(42001002, [94, 98])]\ttranslation-suggestions: []\n",
      "लिये\t\toccurrences: [(42001002, [99, 103]), (42001003, [63, 67]), (42001003, [93, 97]), (42001005, [131, 135])]\ttranslation-suggestions: []\n",
      "मार्ग\t\toccurrences: [(42001002, [104, 109]), (42001003, [68, 73])]\ttranslation-suggestions: []\n",
      "तैयार\t\toccurrences: [(42001002, [110, 115]), (42001003, [74, 79])]\ttranslation-suggestions: []\n",
      "करेगा।\t\toccurrences: [(42001002, [116, 122])]\ttranslation-suggestions: []\n",
      "जंगल में\t\toccurrences: [(42001003, [1, 9]), (42001004, [17, 25])]\ttranslation-suggestions: []\n",
      "किसी\t\toccurrences: [(42001003, [10, 14])]\ttranslation-suggestions: []\n",
      "पुकारने\t\toccurrences: [(42001003, [15, 22])]\ttranslation-suggestions: []\n",
      "वाले\t\toccurrences: [(42001003, [23, 27])]\ttranslation-suggestions: []\n",
      "शब्द\t\toccurrences: [(42001003, [31, 35])]\ttranslation-suggestions: []\n",
      "सुनाई\t\toccurrences: [(42001003, [36, 41])]\ttranslation-suggestions: []\n",
      "दे\t\toccurrences: [(42001003, [42, 44])]\ttranslation-suggestions: []\n",
      "रहा है\t\toccurrences: [(42001003, [45, 51])]\ttranslation-suggestions: []\n",
      "प्रभु\t\toccurrences: [(42001003, [54, 59])]\ttranslation-suggestions: []\n",
      "करो। और\t\toccurrences: [(42001003, [80, 87])]\ttranslation-suggestions: []\n",
      "उसके\t\toccurrences: [(42001003, [88, 92]), (42001005, [43, 47])]\ttranslation-suggestions: []\n",
      "राहें\t\toccurrences: [(42001003, [98, 103])]\ttranslation-suggestions: []\n",
      "सीधी\t\toccurrences: [(42001003, [104, 108])]\ttranslation-suggestions: []\n",
      "बनाओ।\t\toccurrences: [(42001003, [109, 114])]\ttranslation-suggestions: []\n",
      "यूहन्ना\t\toccurrences: [(42001004, [0, 7])]\ttranslation-suggestions: []\n",
      "लोगों को\t\toccurrences: [(42001004, [8, 16])]\ttranslation-suggestions: []\n",
      "बपतिस्मा\t\toccurrences: [(42001004, [26, 34]), (42001004, [96, 104]), (42001005, [86, 94])]\ttranslation-suggestions: []\n",
      "देते\t\toccurrences: [(42001004, [35, 39])]\ttranslation-suggestions: []\n",
      "आया\t\toccurrences: [(42001004, [40, 43])]\ttranslation-suggestions: []\n",
      "था।\t\toccurrences: [(42001004, [44, 47])]\ttranslation-suggestions: []\n",
      "उसने\t\toccurrences: [(42001004, [48, 52])]\ttranslation-suggestions: []\n",
      "लोगों से\t\toccurrences: [(42001004, [53, 61])]\ttranslation-suggestions: []\n",
      "पापों\t\toccurrences: [(42001004, [62, 67])]\ttranslation-suggestions: []\n",
      "क्षमा\t\toccurrences: [(42001004, [71, 76])]\ttranslation-suggestions: []\n",
      "लिए\t\toccurrences: [(42001004, [80, 83])]\ttranslation-suggestions: []\n",
      "मन\t\toccurrences: [(42001004, [84, 86])]\ttranslation-suggestions: []\n",
      "फिराव\t\toccurrences: [(42001004, [87, 92])]\ttranslation-suggestions: []\n",
      "लेने को\t\toccurrences: [(42001004, [105, 112])]\ttranslation-suggestions: []\n",
      "कहा।\t\toccurrences: [(42001004, [113, 117])]\ttranslation-suggestions: []\n",
      "फिर\t\toccurrences: [(42001005, [0, 3])]\ttranslation-suggestions: []\n",
      "समूचे\t\toccurrences: [(42001005, [4, 9])]\ttranslation-suggestions: []\n",
      "यहूदिया\t\toccurrences: [(42001005, [10, 17])]\ttranslation-suggestions: []\n",
      "देश\t\toccurrences: [(42001005, [18, 21])]\ttranslation-suggestions: []\n",
      "के और\t\toccurrences: [(42001005, [22, 27])]\ttranslation-suggestions: []\n",
      "यरूशलेम\t\toccurrences: [(42001005, [28, 35])]\ttranslation-suggestions: []\n",
      "लोग\t\toccurrences: [(42001005, [39, 42])]\ttranslation-suggestions: []\n",
      "पास\t\toccurrences: [(42001005, [48, 51])]\ttranslation-suggestions: []\n",
      "गये और\t\toccurrences: [(42001005, [52, 58])]\ttranslation-suggestions: []\n",
      "उस ने\t\toccurrences: [(42001005, [59, 64])]\ttranslation-suggestions: []\n",
      "यर्दन\t\toccurrences: [(42001005, [65, 70])]\ttranslation-suggestions: []\n",
      "नदी में\t\toccurrences: [(42001005, [71, 78])]\ttranslation-suggestions: []\n",
      "उन्हें\t\toccurrences: [(42001005, [79, 85])]\ttranslation-suggestions: []\n",
      "दिया।\t\toccurrences: [(42001005, [95, 100])]\ttranslation-suggestions: []\n",
      "क्योंकि\t\toccurrences: [(42001005, [101, 108])]\ttranslation-suggestions: []\n",
      "उन्होंने\t\toccurrences: [(42001005, [109, 117])]\ttranslation-suggestions: []\n",
      "पाप\t\toccurrences: [(42001005, [123, 126])]\ttranslation-suggestions: []\n",
      "मान\t\toccurrences: [(42001005, [127, 130])]\ttranslation-suggestions: []\n",
      "थे।\t\toccurrences: [(42001005, [136, 139])]\ttranslation-suggestions: []\n"
     ]
    }
   ],
   "source": [
    "# tokenizing with the above knowledge of tokens and translations in the system\n",
    "\n",
    "token_resp = requests.get(BASE_URL+\"autographa/project/tokens?project_id=\"+str(project_id)+\"&books=mrk\")\n",
    "\n",
    "pretty_print_tokens(token_resp.json())"
   ]
  },
  {
   "cell_type": "code",
   "execution_count": 35,
   "id": "a900c8e9",
   "metadata": {
    "hidden": true
   },
   "outputs": [
    {
     "name": "stdout",
     "output_type": "stream",
     "text": [
      "mat 1:1 इब्राहीम के वंशज दाऊद के पुत्र यीशु मसीह की वंशावली इस प्रकार है:\n",
      "mat 1:1 इब्राहीम के वंशज दाऊद के പുത്രന്‍ യേശു ക്രിസ്തു की वंशावली इस प्रकार है:\n",
      "\n",
      "mat 1:2 इब्राहीम का पुत्र था इसहाक और इसहाक का पुत्र हुआ याकूब। फिर याकूब से यहूदा और उसके भाई उत्पन्न हुए।\n",
      "mat 1:2 അബ്രഹാം का पुत्र था इसहाक और इसहाक का पुत्र हुआ याकूब। फिर याकूब से यहूदा और उसके भाई उत्पन्न हुए।\n",
      "\n",
      "mat 1:3 यहूदा के बेटे थे फिरिस और जोरह। (उनकी माँ का नाम तामार था।) फिरिस, हिस्रोन का पिता था। हिस्रोन राम का पिता था।\n",
      "mat 1:3 यहूदा के बेटे थे फिरिस और जोरह। (उनकी माँ का नाम तामार था।) फिरिस, हिस्रोन का पिता था। हिस्रोन राम का पिता था।\n",
      "\n",
      "mrk 1:1 यह परमेश्वर के पुत्र यीशु मसीह के शुभ संदेश का प्रारम्भ है।\n",
      "mrk 1:1 यह परमेश्वर के पुत्र यीशु मसीह के शुभ संदेश का प्रारम्भ है।\n",
      "\n",
      "mrk 1:2 भविष्यवक्ता यशायाह की पुस्तक में लिखा है कि: “सुन! मैं अपने दूत को तुझसे पहले भेज रहा हूँ। वह तेरे लिये मार्ग तैयार करेगा।”\n",
      "mrk 1:2 भविष्यवक्ता यशायाह की पुस्तक में लिखा है कि: “सुन! मैं अपने दूत को तुझसे पहले भेज रहा हूँ। वह तेरे लिये मार्ग तैयार करेगा।”\n",
      "\n",
      "mrk 1:3 “जंगल में किसी पुकारने वाले का शब्द सुनाई दे रहा है: ‘प्रभु के लिये मार्ग तैयार करो। और उसके लिये राहें सीधी बनाओ।’”\n",
      "mrk 1:3 “जंगल में किसी पुकारने वाले का शब्द सुनाई दे रहा है: ‘प्रभु के लिये मार्ग तैयार करो। और उसके लिये राहें सीधी बनाओ।’”\n",
      "\n",
      "mrk 1:4 यूहन्ना लोगों को जंगल में बपतिस्मा देते आया था। उसने लोगों से पापों की क्षमा के लिए मन फिराव का बपतिस्मा लेने को कहा।\n",
      "mrk 1:4 यूहन्ना लोगों को जंगल में बपतिस्मा देते आया था। उसने लोगों से पापों की क्षमा के लिए मन फिराव का बपतिस्मा लेने को कहा।\n",
      "\n",
      "mrk 1:5 फिर समूचे यहूदिया देश के और यरूशलेम के लोग उसके पास गये और उस ने यर्दन नदी में उन्हें बपतिस्मा दिया। क्योंकि उन्होंने अपने पाप मान लिये थे।\n",
      "mrk 1:5 फिर समूचे यहूदिया देश के और यरूशलेम के लोग उसके पास गये और उस ने यर्दन नदी में उन्हें बपतिस्मा दिया। क्योंकि उन्होंने अपने पाप मान लिये थे।\n",
      "\n"
     ]
    }
   ],
   "source": [
    "# drafts before suggestions\n",
    "resp = requests.get(BASE_URL+\"autographa/project/sentences?project_id=\"+str(project_id)+\"&books=mat&books=mrk\"+\n",
    "    \"&with_draft=True\",headers=headers)\n",
    "pretty_print_draft(resp.json())"
   ]
  },
  {
   "cell_type": "code",
   "execution_count": 36,
   "id": "e1b27703",
   "metadata": {
    "hidden": true
   },
   "outputs": [
    {
     "name": "stdout",
     "output_type": "stream",
     "text": [
      "mat 1:1 इब्राहीम के वंशज दाऊद के पुत्र यीशु मसीह की वंशावली इस प्रकार है:\n",
      "mat 1:1 അബ്രഹാം के वंशज दाऊद के പുത്രന്‍ യേശു ക്രിസ്തു की वंशावली इस प्रकार है:\n",
      "\n",
      "mat 1:2 इब्राहीम का पुत्र था इसहाक और इसहाक का पुत्र हुआ याकूब। फिर याकूब से यहूदा और उसके भाई उत्पन्न हुए।\n",
      "mat 1:2 അബ്രഹാം का പുത്രന്‍ था इसहाक और इसहाक का പുത്രന്‍ हुआ याकूब। फिर याकूब से यहूदा और उसके भाई उत्पन्न हुए।\n",
      "\n",
      "mat 1:3 यहूदा के बेटे थे फिरिस और जोरह। (उनकी माँ का नाम तामार था।) फिरिस, हिस्रोन का पिता था। हिस्रोन राम का पिता था।\n",
      "mat 1:3 यहूदा के बेटे थे फिरिस और जोरह। (उनकी माँ का नाम तामार था।) फिरिस, हिस्रोन का पिता था। हिस्रोन राम का पिता था।\n",
      "\n",
      "mrk 1:1 यह परमेश्वर के पुत्र यीशु मसीह के शुभ संदेश का प्रारम्भ है।\n",
      "mrk 1:1 यह परमेश्वर के പുത്രന്‍ യേശു ക്രിസ്തു के शुभ संदेश का प्रारम्भ है।\n",
      "\n",
      "mrk 1:2 भविष्यवक्ता यशायाह की पुस्तक में लिखा है कि: “सुन! मैं अपने दूत को तुझसे पहले भेज रहा हूँ। वह तेरे लिये मार्ग तैयार करेगा।”\n",
      "mrk 1:2 भविष्यवक्ता यशायाह की पुस्तक में लिखा है कि: “सुन! मैं अपने दूत को तुझसे पहले भेज रहा हूँ। वह तेरे लिये मार्ग तैयार करेगा।”\n",
      "\n",
      "mrk 1:3 “जंगल में किसी पुकारने वाले का शब्द सुनाई दे रहा है: ‘प्रभु के लिये मार्ग तैयार करो। और उसके लिये राहें सीधी बनाओ।’”\n",
      "mrk 1:3 “जंगल में किसी पुकारने वाले का शब्द सुनाई दे रहा है: ‘प्रभु के लिये मार्ग तैयार करो। और उसके लिये राहें सीधी बनाओ।’”\n",
      "\n",
      "mrk 1:4 यूहन्ना लोगों को जंगल में बपतिस्मा देते आया था। उसने लोगों से पापों की क्षमा के लिए मन फिराव का बपतिस्मा लेने को कहा।\n",
      "mrk 1:4 यूहन्ना लोगों को जंगल में बपतिस्मा देते आया था। उसने लोगों से पापों की क्षमा के लिए मन फिराव का बपतिस्मा लेने को कहा।\n",
      "\n",
      "mrk 1:5 फिर समूचे यहूदिया देश के और यरूशलेम के लोग उसके पास गये और उस ने यर्दन नदी में उन्हें बपतिस्मा दिया। क्योंकि उन्होंने अपने पाप मान लिये थे।\n",
      "mrk 1:5 फिर समूचे यहूदिया देश के और यरूशलेम के लोग उसके पास गये और उस ने यर्दन नदी में उन्हें बपतिस्मा दिया। क्योंकि उन्होंने अपने पाप मान लिये थे।\n",
      "\n"
     ]
    }
   ],
   "source": [
    "# asking translation suggestion for sentences\n",
    "resp = requests.put(BASE_URL+\"autographa/project/suggestions?project_id=\"+str(project_id)+\"&books=mat&books=mrk\",\n",
    "\theaders=headers)\n",
    "pretty_print_draft(resp.json())"
   ]
  },
  {
   "cell_type": "markdown",
   "id": "17e45db8",
   "metadata": {
    "hidden": true
   },
   "source": [
    "### Adding knowledge from Outside"
   ]
  },
  {
   "cell_type": "code",
   "execution_count": 37,
   "id": "1d1c6164",
   "metadata": {
    "hidden": true
   },
   "outputs": [],
   "source": [
    "ALIGNMENT_SRC = \"hi\"\n",
    "ALIGNMENT_TRG = \"ml\"\n",
    "alignment_data = [\n",
    "{\n",
    "    \"sourceTokenList\": [\n",
    "      \"क्योंकि\",\"परमेश्वर\",\"ने\",\"जगत\",\"से\",\"ऐसा\",\"प्रेम\",\"रखा\",\"कि\",\"उसने\",\n",
    "      \"अपना\",\"एकलौता\",\"पुत्र\",\"दे\",\"दिया\",\"ताकि\",\"जो\",\"कोई\",\"उस\",\"पर\",\"विश्वास\",\"करे\",\n",
    "      \"वह\",\"नाश\",\"न\",\"हो\",\"परन्तु\",\"अनन्त\",\"जीवन\",\"पाए\"\n",
    "    ],\n",
    "    \"targetTokenList\": [\n",
    "      \"തന്റെ\",\n",
    "      \"ഏകജാതനായ\",\"പുത്രനിൽ\",\n",
    "      \"വിശ്വസിക്കുന്ന\",\"ഏവനും\",\"നശിച്ചുപോകാതെ\",\"നിത്യജീവൻ\",\n",
    "      \"പ്രാപിക്കേണ്ടതിന്\",\"ദൈവം\",\"അവനെ\",\"നല്കുവാൻ\",\"തക്കവണ്ണം\",\n",
    "      \"ലോകത്തെ\",\"സ്നേഹിച്ചു\"\n",
    "    ],\n",
    "    \"alignedTokens\": [\n",
    "      {\n",
    "        \"sourceTokenIndex\": 1,\n",
    "        \"targetTokenIndex\": 8\n",
    "      },\n",
    "      {\n",
    "        \"sourceTokenIndex\": 2,\n",
    "        \"targetTokenIndex\": 8\n",
    "      },\n",
    "      {\n",
    "        \"sourceTokenIndex\": 3,\n",
    "        \"targetTokenIndex\": 12\n",
    "      },\n",
    "      {\n",
    "        \"sourceTokenIndex\": 4,\n",
    "        \"targetTokenIndex\": 12\n",
    "      },\n",
    "      {\n",
    "        \"sourceTokenIndex\": 5,\n",
    "        \"targetTokenIndex\": 11\n",
    "      },\n",
    "      {\n",
    "        \"sourceTokenIndex\": 6,\n",
    "        \"targetTokenIndex\": 13\n",
    "      },\n",
    "      {\n",
    "        \"sourceTokenIndex\": 7,\n",
    "        \"targetTokenIndex\": 13\n",
    "      },\n",
    "      {\n",
    "        \"sourceTokenIndex\": 8,\n",
    "        \"targetTokenIndex\": 13\n",
    "      },\n",
    "      {\n",
    "        \"sourceTokenIndex\": 9,\n",
    "        \"targetTokenIndex\": 0\n",
    "      },\n",
    "      {\n",
    "        \"sourceTokenIndex\": 10,\n",
    "        \"targetTokenIndex\": 0\n",
    "      },\n",
    "      {\n",
    "        \"sourceTokenIndex\": 11,\n",
    "        \"targetTokenIndex\": 1\n",
    "      },\n",
    "      {\n",
    "        \"sourceTokenIndex\": 12,\n",
    "        \"targetTokenIndex\": 1\n",
    "      },\n",
    "      {\n",
    "        \"sourceTokenIndex\": 11,\n",
    "        \"targetTokenIndex\": 2\n",
    "      },\n",
    "      {\n",
    "        \"sourceTokenIndex\": 12,\n",
    "        \"targetTokenIndex\": 2\n",
    "      },\n",
    "      {\n",
    "        \"sourceTokenIndex\": 13,\n",
    "        \"targetTokenIndex\": 10\n",
    "      },\n",
    "      {\n",
    "        \"sourceTokenIndex\": 14,\n",
    "        \"targetTokenIndex\": 10\n",
    "      },\n",
    "      {\n",
    "        \"sourceTokenIndex\": 20,\n",
    "        \"targetTokenIndex\": 3\n",
    "      },\n",
    "      {\n",
    "        \"sourceTokenIndex\": 21,\n",
    "        \"targetTokenIndex\": 3\n",
    "      },\n",
    "      {\n",
    "        \"sourceTokenIndex\": 18,\n",
    "        \"targetTokenIndex\": 4\n",
    "      },\n",
    "      {\n",
    "        \"sourceTokenIndex\": 19,\n",
    "        \"targetTokenIndex\": 4\n",
    "      },\n",
    "\n",
    "      {\n",
    "        \"sourceTokenIndex\": 23,\n",
    "        \"targetTokenIndex\": 5\n",
    "      },\n",
    "      {\n",
    "        \"sourceTokenIndex\": 24,\n",
    "        \"targetTokenIndex\": 5\n",
    "      },\n",
    "      {\n",
    "        \"sourceTokenIndex\": 25,\n",
    "        \"targetTokenIndex\": 5\n",
    "      },\n",
    "      {\n",
    "        \"sourceTokenIndex\": 27,\n",
    "        \"targetTokenIndex\": 6\n",
    "      },\n",
    "      {\n",
    "        \"sourceTokenIndex\": 28,\n",
    "        \"targetTokenIndex\": 6\n",
    "      },\n",
    "      {\n",
    "        \"sourceTokenIndex\": 29,\n",
    "        \"targetTokenIndex\": 7\n",
    "      }\n",
    "\t]\n",
    "}\n",
    "]\n"
   ]
  },
  {
   "cell_type": "code",
   "execution_count": 38,
   "id": "9f19d365",
   "metadata": {
    "hidden": true
   },
   "outputs": [
    {
     "name": "stdout",
     "output_type": "stream",
     "text": [
      "Alignments used for learning\n"
     ]
    }
   ],
   "source": [
    "resp = requests.post(BASE_URL+\"translation/learn/alignment?source_language=\"+ALIGNMENT_SRC+\n",
    "\t\"&target_language=\"+ALIGNMENT_TRG, headers=headers, json=alignment_data)\n",
    "print(resp.json()['message'])"
   ]
  },
  {
   "cell_type": "code",
   "execution_count": 39,
   "id": "a3eadde4",
   "metadata": {
    "hidden": true
   },
   "outputs": [
    {
     "name": "stdout",
     "output_type": "stream",
     "text": [
      "इब्राहीम\t\toccurrences: [(41001001, [0, 8]), (41001002, [0, 8])]\ttranslation-suggestions: ['അബ്രഹാം']\n",
      "के\t\toccurrences: [(41001001, [9, 11]), (41001001, [22, 24]), (41001003, [6, 8]), (42001001, [12, 14]), (42001001, [31, 33]), (42001003, [60, 62]), (42001004, [77, 79]), (42001005, [36, 38]), (43001002, [40, 42]), (43001002, [60, 62]), (44001001, [32, 34]), (44001002, [21, 23]), (44001003, [11, 13])]\ttranslation-suggestions: []\n",
      "वंशज\t\toccurrences: [(41001001, [12, 16])]\ttranslation-suggestions: []\n",
      "दाऊद\t\toccurrences: [(41001001, [17, 21])]\ttranslation-suggestions: []\n",
      "पुत्र\t\toccurrences: [(41001001, [25, 30]), (41001002, [12, 17]), (41001002, [39, 44]), (42001001, [15, 20])]\ttranslation-suggestions: ['പുത്രന്\\u200d']\n",
      "यीशु मसीह\t\toccurrences: [(41001001, [31, 40]), (42001001, [21, 30])]\ttranslation-suggestions: ['യേശു ക്രിസ്തു']\n",
      "की\t\toccurrences: [(41001001, [41, 43]), (42001002, [19, 21]), (42001004, [68, 70]), (44001004, [35, 37])]\ttranslation-suggestions: []\n",
      "वंशावली\t\toccurrences: [(41001001, [44, 51])]\ttranslation-suggestions: []\n",
      "इस प्रकार है\t\toccurrences: [(41001001, [52, 64])]\ttranslation-suggestions: []\n",
      "का\t\toccurrences: [(41001002, [9, 11]), (41001002, [36, 38]), (41001003, [42, 44]), (41001003, [75, 77]), (41001003, [99, 101]), (42001001, [44, 46]), (42001003, [28, 30]), (42001004, [93, 95]), (43001001, [19, 21]), (43001003, [68, 70])]\ttranslation-suggestions: []\n",
      "था\t\toccurrences: [(41001002, [18, 20]), (44001001, [12, 14]), (44001001, [39, 41]), (44001004, [11, 13])]\ttranslation-suggestions: []\n",
      "इसहाक और\t\toccurrences: [(41001002, [21, 29])]\ttranslation-suggestions: []\n",
      "इसहाक\t\toccurrences: [(41001002, [30, 35])]\ttranslation-suggestions: []\n",
      "हुआ\t\toccurrences: [(41001002, [45, 48]), (43001003, [49, 52])]\ttranslation-suggestions: []\n",
      "याकूब।\t\toccurrences: [(41001002, [49, 55])]\ttranslation-suggestions: []\n",
      "फिर\t\toccurrences: [(41001002, [56, 59]), (42001005, [0, 3])]\ttranslation-suggestions: []\n",
      "याकूब से\t\toccurrences: [(41001002, [60, 68])]\ttranslation-suggestions: []\n",
      "यहूदा और\t\toccurrences: [(41001002, [69, 77])]\ttranslation-suggestions: []\n",
      "उसके\t\toccurrences: [(41001002, [78, 82]), (42001003, [88, 92]), (42001005, [43, 47]), (44001003, [81, 85])]\ttranslation-suggestions: []\n",
      "भाई\t\toccurrences: [(41001002, [83, 86])]\ttranslation-suggestions: []\n",
      "उत्पन्न\t\toccurrences: [(41001002, [87, 94]), (44001003, [21, 28]), (44001003, [43, 50]), (44001003, [91, 98])]\ttranslation-suggestions: []\n",
      "हुए।\t\toccurrences: [(41001002, [95, 99])]\ttranslation-suggestions: []\n",
      "यहूदा\t\toccurrences: [(41001003, [0, 5])]\ttranslation-suggestions: []\n",
      "बेटे\t\toccurrences: [(41001003, [9, 13])]\ttranslation-suggestions: []\n",
      "थे\t\toccurrences: [(41001003, [14, 16]), (43001002, [68, 70])]\ttranslation-suggestions: []\n",
      "फिरिस और\t\toccurrences: [(41001003, [17, 25])]\ttranslation-suggestions: []\n",
      "जोरह।\t\toccurrences: [(41001003, [26, 31])]\ttranslation-suggestions: []\n",
      "उनकी\t\toccurrences: [(41001003, [33, 37])]\ttranslation-suggestions: []\n",
      "माँ\t\toccurrences: [(41001003, [38, 41])]\ttranslation-suggestions: []\n",
      "नाम\t\toccurrences: [(41001003, [45, 48])]\ttranslation-suggestions: []\n",
      "तामार\t\toccurrences: [(41001003, [49, 54])]\ttranslation-suggestions: []\n",
      "था।\t\toccurrences: [(41001003, [55, 58]), (41001003, [83, 86]), (41001003, [107, 110]), (42001004, [44, 47]), (44001001, [59, 62]), (44001002, [28, 31]), (44001004, [45, 48])]\ttranslation-suggestions: []\n",
      "फिरिस\t\toccurrences: [(41001003, [60, 65])]\ttranslation-suggestions: []\n",
      "हिस्रोन\t\toccurrences: [(41001003, [67, 74]), (41001003, [87, 94])]\ttranslation-suggestions: []\n",
      "पिता\t\toccurrences: [(41001003, [78, 82]), (41001003, [102, 106])]\ttranslation-suggestions: []\n",
      "राम\t\toccurrences: [(41001003, [95, 98])]\ttranslation-suggestions: []\n",
      "यह\t\toccurrences: [(42001001, [0, 2]), (43001003, [35, 37]), (43001004, [6, 8])]\ttranslation-suggestions: []\n",
      "परमेश्वर\t\toccurrences: [(42001001, [3, 11]), (44001001, [23, 31]), (44001001, [50, 58]), (44001002, [12, 20])]\ttranslation-suggestions: ['ദൈവം']\n",
      "शुभ\t\toccurrences: [(42001001, [34, 37])]\ttranslation-suggestions: []\n",
      "संदेश\t\toccurrences: [(42001001, [38, 43])]\ttranslation-suggestions: []\n",
      "प्रारम्भ\t\toccurrences: [(42001001, [47, 55])]\ttranslation-suggestions: []\n",
      "है।\t\toccurrences: [(42001001, [56, 59]), (43001001, [76, 79])]\ttranslation-suggestions: []\n",
      "भविष्यवक्ता\t\toccurrences: [(42001002, [0, 11])]\ttranslation-suggestions: []\n",
      "यशायाह\t\toccurrences: [(42001002, [12, 18])]\ttranslation-suggestions: []\n",
      "पुस्तक में\t\toccurrences: [(42001002, [22, 32])]\ttranslation-suggestions: []\n",
      "लिखा है\t\toccurrences: [(42001002, [33, 40])]\ttranslation-suggestions: []\n",
      "कि\t\toccurrences: [(42001002, [41, 43]), (43001002, [5, 7]), (43001003, [53, 55]), (43001004, [0, 2]), (43001004, [17, 19])]\ttranslation-suggestions: []\n",
      "सुन\t\toccurrences: [(42001002, [46, 49])]\ttranslation-suggestions: []\n",
      "मैं\t\toccurrences: [(42001002, [51, 54])]\ttranslation-suggestions: []\n",
      "अपने\t\toccurrences: [(42001002, [55, 59]), (42001005, [118, 122])]\ttranslation-suggestions: []\n",
      "दूत को\t\toccurrences: [(42001002, [60, 66])]\ttranslation-suggestions: []\n",
      "तुझसे\t\toccurrences: [(42001002, [67, 72])]\ttranslation-suggestions: []\n",
      "पहले\t\toccurrences: [(42001002, [73, 77]), (43001002, [20, 24])]\ttranslation-suggestions: []\n",
      "भेज\t\toccurrences: [(42001002, [78, 81])]\ttranslation-suggestions: []\n",
      "रहा\t\toccurrences: [(42001002, [82, 85])]\ttranslation-suggestions: []\n",
      "हूँ।\t\toccurrences: [(42001002, [86, 90])]\ttranslation-suggestions: []\n",
      "वह\t\toccurrences: [(42001002, [91, 93]), (44001004, [18, 20])]\ttranslation-suggestions: []\n",
      "तेरे\t\toccurrences: [(42001002, [94, 98]), (43001003, [118, 122])]\ttranslation-suggestions: []\n",
      "लिये\t\toccurrences: [(42001002, [99, 103]), (42001003, [63, 67]), (42001003, [93, 97]), (42001005, [131, 135]), (43001003, [123, 127])]\ttranslation-suggestions: []\n",
      "मार्ग\t\toccurrences: [(42001002, [104, 109]), (42001003, [68, 73])]\ttranslation-suggestions: []\n",
      "तैयार\t\toccurrences: [(42001002, [110, 115]), (42001003, [74, 79])]\ttranslation-suggestions: []\n",
      "करेगा।\t\toccurrences: [(42001002, [116, 122])]\ttranslation-suggestions: []\n",
      "जंगल में\t\toccurrences: [(42001003, [1, 9]), (42001004, [17, 25])]\ttranslation-suggestions: []\n",
      "किसी\t\toccurrences: [(42001003, [10, 14])]\ttranslation-suggestions: []\n",
      "पुकारने\t\toccurrences: [(42001003, [15, 22])]\ttranslation-suggestions: []\n",
      "वाले\t\toccurrences: [(42001003, [23, 27])]\ttranslation-suggestions: []\n",
      "शब्द\t\toccurrences: [(42001003, [31, 35])]\ttranslation-suggestions: []\n",
      "सुनाई\t\toccurrences: [(42001003, [36, 41])]\ttranslation-suggestions: []\n",
      "दे\t\toccurrences: [(42001003, [42, 44])]\ttranslation-suggestions: []\n",
      "रहा है\t\toccurrences: [(42001003, [45, 51])]\ttranslation-suggestions: []\n",
      "प्रभु\t\toccurrences: [(42001003, [54, 59])]\ttranslation-suggestions: []\n",
      "करो। और\t\toccurrences: [(42001003, [80, 87])]\ttranslation-suggestions: []\n",
      "राहें\t\toccurrences: [(42001003, [98, 103])]\ttranslation-suggestions: []\n",
      "सीधी\t\toccurrences: [(42001003, [104, 108])]\ttranslation-suggestions: []\n",
      "बनाओ।\t\toccurrences: [(42001003, [109, 114])]\ttranslation-suggestions: []\n",
      "यूहन्ना\t\toccurrences: [(42001004, [0, 7])]\ttranslation-suggestions: []\n",
      "लोगों को\t\toccurrences: [(42001004, [8, 16])]\ttranslation-suggestions: []\n",
      "बपतिस्मा\t\toccurrences: [(42001004, [26, 34]), (42001004, [96, 104]), (42001005, [86, 94])]\ttranslation-suggestions: []\n",
      "देते\t\toccurrences: [(42001004, [35, 39])]\ttranslation-suggestions: []\n",
      "आया\t\toccurrences: [(42001004, [40, 43])]\ttranslation-suggestions: []\n",
      "उसने\t\toccurrences: [(42001004, [48, 52])]\ttranslation-suggestions: []\n",
      "लोगों से\t\toccurrences: [(42001004, [53, 61])]\ttranslation-suggestions: []\n",
      "पापों\t\toccurrences: [(42001004, [62, 67])]\ttranslation-suggestions: []\n",
      "क्षमा\t\toccurrences: [(42001004, [71, 76])]\ttranslation-suggestions: []\n",
      "लिए\t\toccurrences: [(42001004, [80, 83])]\ttranslation-suggestions: []\n",
      "मन\t\toccurrences: [(42001004, [84, 86])]\ttranslation-suggestions: []\n",
      "फिराव\t\toccurrences: [(42001004, [87, 92])]\ttranslation-suggestions: []\n",
      "लेने को\t\toccurrences: [(42001004, [105, 112])]\ttranslation-suggestions: []\n",
      "कहा।\t\toccurrences: [(42001004, [113, 117])]\ttranslation-suggestions: []\n",
      "समूचे\t\toccurrences: [(42001005, [4, 9])]\ttranslation-suggestions: []\n",
      "यहूदिया\t\toccurrences: [(42001005, [10, 17])]\ttranslation-suggestions: []\n",
      "देश\t\toccurrences: [(42001005, [18, 21])]\ttranslation-suggestions: []\n",
      "के और\t\toccurrences: [(42001005, [22, 27])]\ttranslation-suggestions: []\n",
      "यरूशलेम\t\toccurrences: [(42001005, [28, 35])]\ttranslation-suggestions: []\n",
      "लोग\t\toccurrences: [(42001005, [39, 42])]\ttranslation-suggestions: []\n",
      "पास\t\toccurrences: [(42001005, [48, 51])]\ttranslation-suggestions: []\n",
      "गये और\t\toccurrences: [(42001005, [52, 58])]\ttranslation-suggestions: []\n",
      "उस ने\t\toccurrences: [(42001005, [59, 64])]\ttranslation-suggestions: []\n",
      "यर्दन\t\toccurrences: [(42001005, [65, 70])]\ttranslation-suggestions: []\n",
      "नदी में\t\toccurrences: [(42001005, [71, 78])]\ttranslation-suggestions: []\n",
      "उन्हें\t\toccurrences: [(42001005, [79, 85]), (43001003, [111, 117])]\ttranslation-suggestions: []\n",
      "दिया।\t\toccurrences: [(42001005, [95, 100])]\ttranslation-suggestions: []\n",
      "क्योंकि\t\toccurrences: [(42001005, [101, 108])]\ttranslation-suggestions: []\n",
      "उन्होंने\t\toccurrences: [(42001005, [109, 117]), (43001002, [8, 16])]\ttranslation-suggestions: []\n",
      "पाप\t\toccurrences: [(42001005, [123, 126])]\ttranslation-suggestions: []\n",
      "मान\t\toccurrences: [(42001005, [127, 130])]\ttranslation-suggestions: []\n",
      "थे।\t\toccurrences: [(42001005, [136, 139])]\ttranslation-suggestions: []\n",
      "बहुतों\t\toccurrences: [(43001001, [0, 6])]\ttranslation-suggestions: []\n",
      "ने\t\toccurrences: [(43001001, [7, 9])]\ttranslation-suggestions: []\n",
      "उन\t\toccurrences: [(43001001, [10, 12]), (43001003, [56, 58])]\ttranslation-suggestions: []\n",
      "बातों\t\toccurrences: [(43001001, [13, 18]), (43001002, [34, 39]), (43001003, [62, 67])]\ttranslation-suggestions: []\n",
      "जो\t\toccurrences: [(43001001, [22, 24]), (43001002, [17, 19]), (44001003, [36, 38])]\ttranslation-suggestions: []\n",
      "हमारे\t\toccurrences: [(43001001, [25, 30])]\ttranslation-suggestions: []\n",
      "बीच में\t\toccurrences: [(43001001, [31, 38])]\ttranslation-suggestions: []\n",
      "बीती हैं\t\toccurrences: [(43001001, [39, 47])]\ttranslation-suggestions: []\n",
      "इतिहास\t\toccurrences: [(43001001, [49, 55])]\ttranslation-suggestions: []\n",
      "लिखने में\t\toccurrences: [(43001001, [56, 65])]\ttranslation-suggestions: []\n",
      "हाथ\t\toccurrences: [(43001001, [66, 69])]\ttranslation-suggestions: []\n",
      "लगाया\t\toccurrences: [(43001001, [70, 75])]\ttranslation-suggestions: []\n",
      "जैसा\t\toccurrences: [(43001002, [0, 4])]\ttranslation-suggestions: []\n",
      "ही से\t\toccurrences: [(43001002, [25, 30])]\ttranslation-suggestions: []\n",
      "इन\t\toccurrences: [(43001002, [31, 33])]\ttranslation-suggestions: []\n",
      "देखनेवाले और\t\toccurrences: [(43001002, [43, 55])]\ttranslation-suggestions: []\n",
      "वचन\t\toccurrences: [(43001002, [56, 59]), (44001001, [8, 11]), (44001001, [19, 22]), (44001001, [46, 49])]\ttranslation-suggestions: []\n",
      "सेवक\t\toccurrences: [(43001002, [63, 67])]\ttranslation-suggestions: []\n",
      "हम\t\toccurrences: [(43001002, [71, 73])]\ttranslation-suggestions: []\n",
      "तक\t\toccurrences: [(43001002, [74, 76])]\ttranslation-suggestions: []\n",
      "पहुँचाया।\t\toccurrences: [(43001002, [77, 86])]\ttranslation-suggestions: ['പ്രാപിക്കേണ്ടതിന്']\n",
      "इसलिए\t\toccurrences: [(43001003, [0, 5])]\ttranslation-suggestions: []\n",
      "हे\t\toccurrences: [(43001003, [6, 8])]\ttranslation-suggestions: []\n",
      "श्रीमान\t\toccurrences: [(43001003, [9, 16])]\ttranslation-suggestions: []\n",
      "थियुफिलुस\t\toccurrences: [(43001003, [17, 26])]\ttranslation-suggestions: []\n",
      "मुझे\t\toccurrences: [(43001003, [27, 31])]\ttranslation-suggestions: []\n",
      "भी\t\toccurrences: [(43001003, [32, 34])]\ttranslation-suggestions: []\n",
      "उचित\t\toccurrences: [(43001003, [38, 42])]\ttranslation-suggestions: []\n",
      "मालूम\t\toccurrences: [(43001003, [43, 48])]\ttranslation-suggestions: []\n",
      "सब\t\toccurrences: [(43001003, [59, 61]), (44001003, [0, 2])]\ttranslation-suggestions: []\n",
      "सम्पूर्ण\t\toccurrences: [(43001003, [71, 79])]\ttranslation-suggestions: []\n",
      "हाल\t\toccurrences: [(43001003, [80, 83])]\ttranslation-suggestions: []\n",
      "आरम्भ से\t\toccurrences: [(43001003, [84, 92])]\ttranslation-suggestions: []\n",
      "ठीक-ठीक\t\toccurrences: [(43001003, [93, 100])]\ttranslation-suggestions: []\n",
      "जाँच\t\toccurrences: [(43001003, [101, 105])]\ttranslation-suggestions: []\n",
      "करके\t\toccurrences: [(43001003, [106, 110])]\ttranslation-suggestions: []\n",
      "क्रमानुसार\t\toccurrences: [(43001003, [128, 138])]\ttranslation-suggestions: []\n",
      "लिखूँ\t\toccurrences: [(43001003, [139, 144])]\ttranslation-suggestions: []\n",
      "तू\t\toccurrences: [(43001004, [3, 5])]\ttranslation-suggestions: []\n",
      "जान\t\toccurrences: [(43001004, [9, 12])]\ttranslation-suggestions: []\n",
      "ले\t\toccurrences: [(43001004, [13, 15])]\ttranslation-suggestions: []\n",
      "वे\t\toccurrences: [(43001004, [20, 22])]\ttranslation-suggestions: []\n",
      "बातें\t\toccurrences: [(43001004, [23, 28])]\ttranslation-suggestions: []\n",
      "जिनकी\t\toccurrences: [(43001004, [29, 34])]\ttranslation-suggestions: []\n",
      "तूने\t\toccurrences: [(43001004, [35, 39])]\ttranslation-suggestions: []\n",
      "शिक्षा\t\toccurrences: [(43001004, [40, 46])]\ttranslation-suggestions: []\n",
      "पाई है\t\toccurrences: [(43001004, [47, 53])]\ttranslation-suggestions: ['പ്രാപിക്കേണ്ടതിന്']\n",
      "कैसी\t\toccurrences: [(43001004, [55, 59])]\ttranslation-suggestions: []\n",
      "अटल\t\toccurrences: [(43001004, [60, 63])]\ttranslation-suggestions: []\n",
      "हैं।\t\toccurrences: [(43001004, [64, 68])]\ttranslation-suggestions: []\n",
      "आदि में\t\toccurrences: [(44001001, [0, 7]), (44001002, [4, 11])]\ttranslation-suggestions: []\n",
      "साथ\t\toccurrences: [(44001001, [35, 38]), (44001002, [24, 27])]\ttranslation-suggestions: []\n",
      "यही\t\toccurrences: [(44001002, [0, 3])]\ttranslation-suggestions: []\n",
      "कुछ\t\toccurrences: [(44001003, [3, 6]), (44001003, [39, 42])]\ttranslation-suggestions: []\n",
      "उसी\t\toccurrences: [(44001003, [7, 10])]\ttranslation-suggestions: []\n",
      "द्वारा\t\toccurrences: [(44001003, [14, 20])]\ttranslation-suggestions: []\n",
      "हुआ और\t\toccurrences: [(44001003, [29, 35])]\ttranslation-suggestions: []\n",
      "हुआ है\t\toccurrences: [(44001003, [51, 57])]\ttranslation-suggestions: []\n",
      "उसमें से\t\toccurrences: [(44001003, [59, 67])]\ttranslation-suggestions: []\n",
      "कोई भी\t\toccurrences: [(44001003, [68, 74])]\ttranslation-suggestions: []\n",
      "वस्तु\t\toccurrences: [(44001003, [75, 80])]\ttranslation-suggestions: []\n",
      "बिना\t\toccurrences: [(44001003, [86, 90])]\ttranslation-suggestions: []\n",
      "न\t\toccurrences: [(44001003, [99, 100])]\ttranslation-suggestions: []\n",
      "हुई।\t\toccurrences: [(44001003, [101, 105])]\ttranslation-suggestions: []\n",
      "उसमें\t\toccurrences: [(44001004, [0, 5])]\ttranslation-suggestions: []\n",
      "जीवन\t\toccurrences: [(44001004, [6, 10]), (44001004, [21, 25])]\ttranslation-suggestions: []\n",
      "मनुष्यों\t\toccurrences: [(44001004, [26, 34])]\ttranslation-suggestions: []\n",
      "ज्योति\t\toccurrences: [(44001004, [38, 44])]\ttranslation-suggestions: []\n"
     ]
    }
   ],
   "source": [
    "# tokenizing with the above knowledge of tokens and translations in the system\n",
    "\n",
    "token_resp = requests.get(BASE_URL+\"autographa/project/tokens?project_id=\"+str(project_id)+\"\")\n",
    "\n",
    "pretty_print_tokens(token_resp.json())"
   ]
  },
  {
   "cell_type": "code",
   "execution_count": 40,
   "id": "6771bf5d",
   "metadata": {
    "hidden": true
   },
   "outputs": [
    {
     "name": "stdout",
     "output_type": "stream",
     "text": [
      "mat 1:1 इब्राहीम के वंशज दाऊद के पुत्र यीशु मसीह की वंशावली इस प्रकार है:\n",
      "mat 1:1 അബ്രഹാം के वंशज दाऊद के പുത്രന്‍ യേശു ക്രിസ്തു की वंशावली इस प्रकार है:\n",
      "\n",
      "mat 1:2 इब्राहीम का पुत्र था इसहाक और इसहाक का पुत्र हुआ याकूब। फिर याकूब से यहूदा और उसके भाई उत्पन्न हुए।\n",
      "mat 1:2 അബ്രഹാം का പുത്രന്‍ था इसहाक और इसहाक का പുത്രന്‍ हुआ याकूब। फिर याकूब से यहूदा और उसके भाई उत्पन्न हुए।\n",
      "\n",
      "mat 1:3 यहूदा के बेटे थे फिरिस और जोरह। (उनकी माँ का नाम तामार था।) फिरिस, हिस्रोन का पिता था। हिस्रोन राम का पिता था।\n",
      "mat 1:3 यहूदा के बेटे थे फिरिस और जोरह। (उनकी माँ का नाम तामार था।) फिरिस, हिस्रोन का पिता था। हिस्रोन राम का पिता था।\n",
      "\n",
      "mrk 1:1 यह परमेश्वर के पुत्र यीशु मसीह के शुभ संदेश का प्रारम्भ है।\n",
      "mrk 1:1 यह ദൈവം के പുത്രന്‍ യേശു ക്രിസ്തു के शुभ संदेश का प्रारम्भ है।\n",
      "\n",
      "mrk 1:2 भविष्यवक्ता यशायाह की पुस्तक में लिखा है कि: “सुन! मैं अपने दूत को तुझसे पहले भेज रहा हूँ। वह तेरे लिये मार्ग तैयार करेगा।”\n",
      "mrk 1:2 भविष्यवक्ता यशायाह की पुस्तक में लिखा है कि: “सुन! मैं अपने दूत को तुझसे पहले भेज रहा हूँ। वह तेरे लिये मार्ग तैयार करेगा।”\n",
      "\n",
      "mrk 1:3 “जंगल में किसी पुकारने वाले का शब्द सुनाई दे रहा है: ‘प्रभु के लिये मार्ग तैयार करो। और उसके लिये राहें सीधी बनाओ।’”\n",
      "mrk 1:3 “जंगल में किसी पुकारने वाले का शब्द सुनाई दे रहा है: ‘प्रभु के लिये मार्ग तैयार करो। और उसके लिये राहें सीधी बनाओ।’”\n",
      "\n",
      "mrk 1:4 यूहन्ना लोगों को जंगल में बपतिस्मा देते आया था। उसने लोगों से पापों की क्षमा के लिए मन फिराव का बपतिस्मा लेने को कहा।\n",
      "mrk 1:4 यूहन्ना लोगों को जंगल में बपतिस्मा देते आया था। उसने लोगों से पापों की क्षमा के लिए मन फिराव का बपतिस्मा लेने को कहा।\n",
      "\n",
      "mrk 1:5 फिर समूचे यहूदिया देश के और यरूशलेम के लोग उसके पास गये और उस ने यर्दन नदी में उन्हें बपतिस्मा दिया। क्योंकि उन्होंने अपने पाप मान लिये थे।\n",
      "mrk 1:5 फिर समूचे यहूदिया देश के और यरूशलेम के लोग उसके पास गये और उस ने यर्दन नदी में उन्हें बपतिस्मा दिया। क्योंकि उन्होंने अपने पाप मान लिये थे।\n",
      "\n",
      "luk 1:1 बहुतों ने उन बातों का जो हमारे बीच में बीती हैं, इतिहास लिखने में हाथ लगाया है।\n",
      "luk 1:1 बहुतों ने उन बातों का जो हमारे बीच में बीती हैं, इतिहास लिखने में हाथ लगाया है।\n",
      "\n",
      "luk 1:2 जैसा कि उन्होंने जो पहले ही से इन बातों के देखनेवाले और वचन के सेवक थे हम तक पहुँचाया।\n",
      "luk 1:2 जैसा कि उन्होंने जो पहले ही से इन बातों के देखनेवाले और वचन के सेवक थे हम तक പ്രാപിക്കേണ്ടതിന്\n",
      "\n",
      "luk 1:3 इसलिए हे श्रीमान थियुफिलुस मुझे भी यह उचित मालूम हुआ कि उन सब बातों का सम्पूर्ण हाल आरम्भ से ठीक-ठीक जाँच करके उन्हें तेरे लिये क्रमानुसार लिखूँ,\n",
      "luk 1:3 इसलिए हे श्रीमान थियुफिलुस मुझे भी यह उचित मालूम हुआ कि उन सब बातों का सम्पूर्ण हाल आरम्भ से ठीक-ठीक जाँच करके उन्हें तेरे लिये क्रमानुसार लिखूँ,\n",
      "\n",
      "luk 1:4 कि तू यह जान ले, कि वे बातें जिनकी तूने शिक्षा पाई है, कैसी अटल हैं।\n",
      "luk 1:4 कि तू यह जान ले, कि वे बातें जिनकी तूने शिक्षा പ്രാപിക്കേണ്ടതിന് है, कैसी अटल हैं।\n",
      "\n",
      "jhn 1:1 आदि में वचन था, और वचन परमेश्वर के साथ था, और वचन परमेश्वर था।\n",
      "jhn 1:1 आदि में वचन था, और वचन ദൈവം के साथ था, और वचन ദൈവം था।\n",
      "\n",
      "jhn 1:2 यही आदि में परमेश्वर के साथ था।\n",
      "jhn 1:2 यही आदि में ദൈവം के साथ था।\n",
      "\n",
      "jhn 1:3 सब कुछ उसी के द्वारा उत्पन्न हुआ और जो कुछ उत्पन्न हुआ है, उसमें से कोई भी वस्तु उसके बिना उत्पन्न न हुई।\n",
      "jhn 1:3 सब कुछ उसी के द्वारा उत्पन्न हुआ और जो कुछ उत्पन्न हुआ है, उसमें से कोई भी वस्तु उसके बिना उत्पन्न न हुई।\n",
      "\n",
      "jhn 1:4 उसमें जीवन था; और वह जीवन मनुष्यों की ज्योति था।\n",
      "jhn 1:4 उसमें जीवन था; और वह जीवन मनुष्यों की ज्योति था।\n",
      "\n"
     ]
    }
   ],
   "source": [
    "# asking translation suggestion for sentences\n",
    "resp = requests.put(BASE_URL+\"autographa/project/suggestions?project_id=\"+str(project_id)+\"\",\n",
    "\theaders=headers)\n",
    "pretty_print_draft(resp.json())"
   ]
  },
  {
   "cell_type": "markdown",
   "id": "1dd68f12",
   "metadata": {
    "heading_collapsed": true,
    "hidden": true,
    "slideshow": {
     "slide_type": "slide"
    }
   },
   "source": [
    "## Without a Project on the Cloud\n",
    "There is provision for the NLP APIs be used even without creating a project on the server database. This would require larger amount of data to be uploaded and downloaded for each operation. But if there is a need for an app like an editor to work with locally stored data but make use of our NLP operations, it is possible through this."
   ]
  },
  {
   "cell_type": "markdown",
   "id": "64e0d75a",
   "metadata": {
    "hidden": true
   },
   "source": [
    "### Tokenization"
   ]
  },
  {
   "cell_type": "code",
   "execution_count": 41,
   "id": "14396263",
   "metadata": {
    "hidden": true
   },
   "outputs": [
    {
     "name": "stdout",
     "output_type": "stream",
     "text": [
      "यह परमेश्वर के\t\toccurrences: [(1, [0, 14])]\ttranslation-suggestions: []\n",
      "पुत्र\t\toccurrences: [(1, [15, 20])]\ttranslation-suggestions: ['പുത്രന്\\u200d']\n",
      "यीशु मसीह\t\toccurrences: [(1, [21, 30])]\ttranslation-suggestions: ['യേശു ക്രിസ്തു']\n",
      "कहानी है\t\toccurrences: [(1, [34, 42])]\ttranslation-suggestions: []\n",
      "एक\t\toccurrences: [(2, [0, 2])]\ttranslation-suggestions: []\n",
      "प्रेम की\t\toccurrences: [(2, [3, 11])]\ttranslation-suggestions: []\n",
      "कहानी\t\toccurrences: [(2, [12, 17])]\ttranslation-suggestions: []\n"
     ]
    }
   ],
   "source": [
    "sentences = [\n",
    "    {\"sentenceId\":1, \"sentence\":\"यह परमेश्वर के पुत्र यीशु मसीह की कहानी है\"},\n",
    "    {\"sentenceId\":2, \"sentence\":\"एक प्रेम की कहानी\"}\n",
    "]\n",
    "put_data = {\"sentence_list\": sentences}\n",
    "resp = requests.put(BASE_URL+\"translation/tokens?source_language=hi&target_language=ml\",json=put_data,\n",
    "\theaders=headers)\n",
    "pretty_print_tokens(resp.json())"
   ]
  },
  {
   "cell_type": "markdown",
   "id": "ee3d8710",
   "metadata": {
    "heading_collapsed": true,
    "hidden": true
   },
   "source": [
    "### Translation"
   ]
  },
  {
   "cell_type": "code",
   "execution_count": 42,
   "id": "b0ec06dc",
   "metadata": {
    "hidden": true
   },
   "outputs": [
    {
     "name": "stdout",
     "output_type": "stream",
     "text": [
      "Tokens replaced with translations\n",
      "एक प्रेम की കഥ\n"
     ]
    }
   ],
   "source": [
    "token_update_data = [\n",
    "\t{\n",
    "\t\t\"token\":\"कहानी\",\n",
    "\t\t\"occurrences\":[\n",
    "\t\t\t{\"sentenceId\":2, \"offset\":[12, 17]}],\n",
    "\t\t\"translation\":\"കഥ\"\n",
    "\t}\n",
    "]\n",
    "put_data = {\n",
    "    \"sentence_list\": sentences,\n",
    "    \"token_translations\": token_update_data\n",
    "}\n",
    "resp = requests.put(BASE_URL+\"translation/token-translate?source_language=hi&target_language=ml\",json=put_data,\n",
    "\theaders=headers)\n",
    "print(resp.json()['message'])\n",
    "print(resp.json()['data'][1]['draft'])"
   ]
  },
  {
   "cell_type": "markdown",
   "id": "4a8172c6",
   "metadata": {
    "heading_collapsed": true,
    "hidden": true
   },
   "source": [
    "### Translation Suggestion"
   ]
  },
  {
   "cell_type": "code",
   "execution_count": 43,
   "id": "b52d9821",
   "metadata": {
    "hidden": true
   },
   "outputs": [
    {
     "name": "stdout",
     "output_type": "stream",
     "text": [
      "यह ദൈവം के പുത്രന്‍ യേശു ക്രിസ്തു की കഥ है\n",
      "एक प्रेम की കഥ\n"
     ]
    }
   ],
   "source": [
    "put_data = {\n",
    "    \"sentence_list\": sentences\n",
    "}\n",
    "\n",
    "resp = requests.put(BASE_URL+\"translation/suggestions?source_language=hi&target_language=ml\",json=put_data,\n",
    "\theaders=headers)\n",
    "# print(resp.json())\n",
    "print(resp.json()[0]['draft'])\n",
    "print(resp.json()[1]['draft'])"
   ]
  },
  {
   "cell_type": "markdown",
   "id": "300ed152",
   "metadata": {
    "slideshow": {
     "slide_type": "slide"
    }
   },
   "source": [
    "# A Peek Into the Inside Logic"
   ]
  },
  {
   "cell_type": "markdown",
   "id": "f1f7bd5b",
   "metadata": {},
   "source": [
    "## Database Tables"
   ]
  },
  {
   "cell_type": "code",
   "execution_count": 71,
   "id": "9bbabd05",
   "metadata": {},
   "outputs": [],
   "source": [
    "import json\n",
    "import requests\n",
    "\n",
    "BASE_URL = \"http://127.0.0.1:8000/v2/\"\n",
    "headers = {\"contentType\": \"application/json\", \"accept\": \"application/json\"}"
   ]
  },
  {
   "cell_type": "code",
   "execution_count": 72,
   "id": "09e1989e",
   "metadata": {},
   "outputs": [
    {
     "data": {
      "image/png": "[encoded data removed]",
      "text/plain": [
       "<IPython.core.display.Image object>"
      ]
     },
     "execution_count": 72,
     "metadata": {},
     "output_type": "execute_result"
    }
   ],
   "source": [
    "from IPython import display\n",
    "display.Image(\"../db/AgMT tables.png\")"
   ]
  },
  {
   "cell_type": "markdown",
   "id": "fdf128c7",
   "metadata": {
    "heading_collapsed": true
   },
   "source": [
    "## Translation Memory"
   ]
  },
  {
   "cell_type": "markdown",
   "id": "266f3b8e",
   "metadata": {
    "hidden": true
   },
   "source": [
    "Translation memory, as per the name, is the knowledge base of known translations, which we can use to give suggestions when same or similar tokens are encountered in newer projects. This corresponds to the `translation_memory` table in the database.\n",
    "\n",
    "#### What is in Translation Memory?\n",
    "- The token and translation pairs known to us for various source and target languages.\n",
    "- Metadata about the source tokens if known. Example, if we know that the token is a translation word or key term, then some links or descriptions about it or if we know the word-catogory or morphological features of the token those kinds of information could be stored in here\n",
    "\n",
    "\n",
    "#### How do we add to Translation memory?\n",
    "- when users make token replacement on their projects using the API `PUT /v2/autographa/project/tokens` or `/v2/translation/token-translate` and if `useDataForLearning` is `true`.\n",
    "- when we add lexicons or dictionaries via `POST /v2/translation/learn/gloss` API\n",
    "\n",
    "#### How and when is Translation Memory used?\n",
    "For giving translation suggestions for tokens, the suggestions module using trie would be used first and this Translation Memory is used as fall back if trie couldn't give a translation. Here fuzzy string matching is used to account for word inflections and also a reverse search from target to source would also be done to come up with any known translations for the token. The romanized fields of token and translation are used to enable effiecient partial match using soundex.\n",
    "- The API `GET /v2/translation/gloss` can be used to fetch the known translations and other metadata for token providing the token, source and target languages and optionally a context.\n",
    "- When sentences are tokenized with `/v2/autographa/project/tokens` or `/v2/translation/tokens` APIs translation suggestions are returned along with tokens if traget is specified. The Translation Memory is used for this.\n",
    "- When sentences are auto translated using top suggestion via the APIs `/v2/translation/suggestions` and `/v2/autographa/project/suggestions` Translation Memory is used in same way as explianed above to come up with possible replacement for each token in the sentences\n",
    "- When a set of sentences are tokenized, we refer this Translation Memory to include better possible phrases which have known translations or metadata."
   ]
  },
  {
   "cell_type": "markdown",
   "id": "2a189fd9",
   "metadata": {
    "heading_collapsed": true
   },
   "source": [
    "## Sentences and Drafts"
   ]
  },
  {
   "cell_type": "markdown",
   "id": "2ffe338d",
   "metadata": {
    "hidden": true
   },
   "source": [
    "All the source text used in a project or uploaded via APIs for generic tokenization, translation or other operations should be split up as sentences as per the logic of the translation project or app. In AgMT, as we work with bible data, one verse is to be considered as a sentence.\n",
    "\n",
    "For a project on cloud, these sentences and drafts created by token replacement on these sentences are fully stored in the `translation_sentences` table. Whether the source was uploaded as USFM files or was selected from one of the Bibles on the vachan-api cloud, it would be processed and saved as sentences in this table and used from here henceforth."
   ]
  },
  {
   "cell_type": "code",
   "execution_count": 73,
   "id": "e1b99622",
   "metadata": {
    "hidden": true
   },
   "outputs": [
    {
     "data": {
      "text/plain": [
       "{'sentenceId': 41001001,\n",
       " 'surrogateId': 'mat 1:1',\n",
       " 'sentence': 'इब्राहीम के वंशज दाऊद के पुत्र यीशु मसीह की वंशावली इस प्रकार है:',\n",
       " 'draft': 'അബ്രഹാം के वंशज दाऊद के പുത്രന്\\u200d യേശു ക്രിസ്തു की वंशावली इस प्रकार है:',\n",
       " 'draftMeta': [[[0, 8], [0, 7], 'suggestion'],\n",
       "  [[8, 25], [7, 24], 'untranslated'],\n",
       "  [[25, 30], [24, 32], 'suggestion'],\n",
       "  [[30, 31], [32, 33], 'untranslated'],\n",
       "  [[31, 40], [33, 46], 'suggestion'],\n",
       "  [[40, 65], [46, 71], 'untranslated']]}"
      ]
     },
     "execution_count": 73,
     "metadata": {},
     "output_type": "execute_result"
    }
   ],
   "source": [
    "#project_id = 100000\n",
    "resp = requests.put(BASE_URL+\"autographa/project/suggestions?project_id=\"+str(project_id)+\"&books=mat&books=mrk\",\n",
    "\theaders=headers)\n",
    "resp.json()[0]"
   ]
  },
  {
   "cell_type": "markdown",
   "id": "9077d8e3",
   "metadata": {
    "hidden": true
   },
   "source": [
    "The sentence and draft are stored in the format of alignment.\n",
    "\n",
    "Conceptually a sentence is considered as one or more segments and so is draft. Then the `draftMeta` stores info about how each segment of sentence is aligned to each segment in draft. The info about how the sentence and drafts are segmented is contained in the draftMeta as offsets. Also it has information about the status of token translation, whether it was translated or confrimed by user(`confirmed`),whether it was populated automatically using the top scored suggestion(`suggestion`) or it is left untranslated(`untranslated`)."
   ]
  },
  {
   "cell_type": "markdown",
   "id": "73e784ad",
   "metadata": {
    "hidden": true
   },
   "source": [
    "#### Advantages of such a format of alignment\n",
    "\n",
    "* Does not tie the system to Bible content alone.\n",
    "* Easy Export. Keeping our internal format close to an alignment structure was to make it easy to be exported to alignment formats that can be understood and processed by other Apps and usecases.\n",
    "\n",
    "* Flexible tokenization. Not saving project wise tokens and translations separately would allow us to give user the freedom of \n",
    "    - using single-word, multi-word, even morhpeme level token (what ever we can specify with character offset can become a token)\n",
    "    - re-tokenizing in-between translation (Example, if user started with tokens excluding functional words and later thought it better to include functional words)\n",
    "    - altering the auto generated tokens if he finds it appropriate to do so (Example, if the system gave \"Jesus\" and \"christ\" as separate tokens, user can combine them to \"Jesus Christ\" as a single token)"
   ]
  },
  {
   "cell_type": "markdown",
   "id": "ed377ec2",
   "metadata": {},
   "source": [
    "## Suggestions"
   ]
  },
  {
   "cell_type": "markdown",
   "id": "c12e5253",
   "metadata": {},
   "source": [
    "We try to give context based suggestions for translation of a token(a phrase with one or more word).\n",
    "\n",
    "The surrounding words of the token in question is considered as its context. Default window_size=5.\n",
    "\n",
    "\n"
   ]
  },
  {
   "cell_type": "code",
   "execution_count": 74,
   "id": "55e85222",
   "metadata": {},
   "outputs": [],
   "source": [
    "import os\n",
    "notebook_path = os. getcwd()\n",
    "new_path = notebook_path.replace('vachan-api/docs', 'vachan-api/app')\n",
    "os.chdir(new_path)\n",
    "\n",
    "from crud import nlp_crud, utils\n",
    "from dependencies import get_db\n",
    "db_session = next(get_db())\n"
   ]
  },
  {
   "cell_type": "code",
   "execution_count": 75,
   "id": "43f0fb6d",
   "metadata": {},
   "outputs": [
    {
     "name": "stdout",
     "output_type": "stream",
     "text": [
      "1.  {'token': 'happy', 'translations': {'സന്തോഷവാന്\\u200d': 0.5, 'സന്തോഷവാന്\\u200d ആയ': 0.5}}\n",
      "2.  {'token': 'happy', 'translations': {'സന്തോഷവാന്\\u200d': 1.2, 'സന്തോഷവാന്\\u200d ആയ': 0.4}}\n"
     ]
    }
   ],
   "source": [
    "suggestion1 = nlp_crud.get_gloss(db_session, 2, [\"he\", \"is\", \"happy\", \"today\"], 'en', 'ml')\n",
    "suggestion2 = nlp_crud.get_gloss(db_session, 3, [\"he\", \"is\", \"not\", \"happy\", \"today\"], 'en', 'ml')\n",
    "\n",
    "print(\"1. \", suggestion1)\n",
    "print(\"2. \", suggestion2)"
   ]
  },
  {
   "cell_type": "markdown",
   "id": "57d81894",
   "metadata": {},
   "source": [
    "### Building Trie"
   ]
  },
  {
   "cell_type": "markdown",
   "id": "eb5096a7",
   "metadata": {},
   "source": [
    "The data about translation of a token and its context are obtained in the following format. Context in our context is the surrounding words of the token. We use a default `windows_size=5`, which can be changed, if required\n",
    "\n",
    "`(token-index, ['list', 'of', 'context', 'words', 'including', 'token'], translation)`"
   ]
  },
  {
   "cell_type": "code",
   "execution_count": 76,
   "id": "516c1f69",
   "metadata": {},
   "outputs": [
    {
     "name": "stdout",
     "output_type": "stream",
     "text": [
      "\t- duck\t- L:the\t- R:quacks\t- L:Always =>  {'താറാവ്': 0.5}\n",
      "\t- duck\t- R:quacks\t- L:the\t- L:Always =>  {'താറാവ്': 0.5}\n"
     ]
    }
   ],
   "source": [
    "sample_data = [(2, [\"Always\", \"the\", \"duck\", \"quacks\"], \"താറാവ്\")]\n",
    "\n",
    "sample_trie = nlp_crud.build_trie(sample_data)\n",
    "nlp_crud.display_tree(sample_trie)"
   ]
  },
  {
   "cell_type": "code",
   "execution_count": 53,
   "id": "299b8b02",
   "metadata": {},
   "outputs": [
    {
     "name": "stdout",
     "output_type": "stream",
     "text": [
      "\t- duck\t- L:the\t- R:quacks\t- L:Always =>  {'താറാവ്': 0.5}\n",
      "\t- duck\t- R:quacks\t- L:the\t- L:Always =>  {'താറാവ്': 0.5}\n",
      "\t- duck\t- L:we\t- R:down\t- R:on\t- R:warning =>  {'കുനിയും': 0.5}\n",
      "\t- duck\t- R:down\t- L:we\t- R:on\t- R:warning =>  {'കുനിയും': 0.5}\n"
     ]
    }
   ],
   "source": [
    "sample_data.append((1,[\"we\",\"duck\", \"down\", \"on\", \"warning\"], \"കുനിയും\"))\n",
    "sample_trie = nlp_crud.build_trie(sample_data)\n",
    "nlp_crud.display_tree(sample_trie)"
   ]
  },
  {
   "cell_type": "markdown",
   "id": "156be476",
   "metadata": {},
   "source": [
    "The reasons for forming trie in this structure are\n",
    "- matching/searching should start from the token, which might be at the center of the context. Hence me bring token to the root node and add one word per level as we go deep\n",
    "- quering with only right side words, only left side words and both side words should all be successful. Hence adding multiple paths covering all possible sequences"
   ]
  },
  {
   "cell_type": "markdown",
   "id": "215004e0",
   "metadata": {
    "heading_collapsed": true
   },
   "source": [
    "### Querying Trie\n",
    "\n",
    "We have to perform same operartions we did on traning data, to the new input token and context and convert it into a sequence like the trie paths we have. Then querying trie would give us a context based, scored suggestions"
   ]
  },
  {
   "cell_type": "code",
   "execution_count": 55,
   "id": "56dcf398",
   "metadata": {
    "code_folding": [
     0,
     7
    ],
    "hidden": true
   },
   "outputs": [
    {
     "data": {
      "text/plain": [
       "{'താറാവ്': 1.5, 'കുനിയും': 1.0}"
      ]
     },
     "execution_count": 55,
     "metadata": {},
     "output_type": "execute_result"
    }
   ],
   "source": [
    "def convert_context_to_keys(index, context):\n",
    "    word = context[index]\n",
    "    to_left = [context[i] for i in range(index-1, -1, -1)]\n",
    "    to_right = context[index+1:]\n",
    "    keys = nlp_crud.form_trie_keys(word, to_left, to_right, [word], False)\n",
    "    return keys\n",
    "\n",
    "def suggestions(tree, keys):\n",
    "    suggs = {}\n",
    "    for key in keys:\n",
    "        if tree.has_subtrie(key) or tree.has_key(key):\n",
    "            for val in tree.values(key):\n",
    "                trans, score = list(val.items())[0]\n",
    "                if trans not in suggs:\n",
    "                    suggs[trans] = score\n",
    "                else:\n",
    "                    suggs[trans] += score\n",
    "    return suggs\n",
    "    \n",
    "keys = convert_context_to_keys(1, [\"the\", \"duck\", \"tastes\", \"good\"])\n",
    "# print(keys)\n",
    "suggestions(sample_trie, keys)"
   ]
  },
  {
   "cell_type": "code",
   "execution_count": 56,
   "id": "963d01e8",
   "metadata": {
    "hidden": true
   },
   "outputs": [
    {
     "data": {
      "text/plain": [
       "{'താറാവ്': 2.0, 'കുനിയും': 1.0}"
      ]
     },
     "execution_count": 56,
     "metadata": {},
     "output_type": "execute_result"
    }
   ],
   "source": [
    "keys = convert_context_to_keys(2, [\"the\", \"black\", \"duck\", \"quacks\"])\n",
    "suggestions(sample_trie, keys)"
   ]
  },
  {
   "cell_type": "code",
   "execution_count": 57,
   "id": "fe29685b",
   "metadata": {
    "hidden": true
   },
   "outputs": [
    {
     "data": {
      "text/plain": [
       "{'കുനിയും': 1.5, 'താറാവ്': 1.0}"
      ]
     },
     "execution_count": 57,
     "metadata": {},
     "output_type": "execute_result"
    }
   ],
   "source": [
    "keys = convert_context_to_keys(1, [\"we\", \"duck\", \"on\", \"loud\", \"crack\"])\n",
    "suggestions(sample_trie, keys)"
   ]
  },
  {
   "cell_type": "code",
   "execution_count": 58,
   "id": "ce3d73cc",
   "metadata": {
    "hidden": true
   },
   "outputs": [
    {
     "data": {
      "text/plain": [
       "{'കുനിയും': 1.5, 'താറാവ്': 1.0}"
      ]
     },
     "execution_count": 58,
     "metadata": {},
     "output_type": "execute_result"
    }
   ],
   "source": [
    "keys = convert_context_to_keys(0, [\"duck\", \"down\", \"if\", \"you\", \"hear\"])\n",
    "suggestions(sample_trie, keys)"
   ]
  },
  {
   "cell_type": "markdown",
   "id": "736f923d",
   "metadata": {},
   "source": [
    "### Collecting Data for Trie"
   ]
  },
  {
   "cell_type": "markdown",
   "id": "4dce4ff5",
   "metadata": {},
   "source": [
    "This data is obtained from\n",
    "- confirmed translations in the projects on cloud\n",
    "- alignments loaded to the server"
   ]
  },
  {
   "cell_type": "markdown",
   "id": "eb8fe378",
   "metadata": {
    "heading_collapsed": true
   },
   "source": [
    "#### From Translation Projects"
   ]
  },
  {
   "cell_type": "code",
   "execution_count": 77,
   "id": "ec7a7569",
   "metadata": {
    "hidden": true
   },
   "outputs": [],
   "source": [
    "import db_models\n",
    "db_session = next(get_db())\n",
    "resp = requests.put(BASE_URL+\"autographa/project/suggestions?project_id=\"+str(project_id)+\"&confirm_all=true\",\n",
    "\theaders=headers)\n"
   ]
  },
  {
   "cell_type": "code",
   "execution_count": 78,
   "id": "06210071",
   "metadata": {
    "hidden": true
   },
   "outputs": [
    {
     "data": {
      "text/plain": [
       "[(2, ['हम', 'तक', 'पहुँचाया।'], 'പ്രാപിക്കേണ്ടതിന്'),\n",
       " (2, ['आदि', 'में', 'परमेश्वर', 'के', 'साथ', 'था'], 'ദൈവം'),\n",
       " (0, ['इब्राहीम', 'का', 'पुत्र', 'था'], 'അബ്രഹാം'),\n",
       " (2, ['इब्राहीम', 'का', 'पुत्र', 'था', 'इसहाक', 'और'], 'പുത്രന്\\u200d'),\n",
       " (2, ['इसहाक', 'का', 'पुत्र', 'हुआ', 'याकूब', 'फिर'], 'പുത്രന്\\u200d'),\n",
       " (2, ['तूने', 'शिक्षा', 'पाई', 'है', 'कैसी', 'अटल'], 'പ്രാപിക്കേണ്ടതിന്'),\n",
       " (2, ['और', 'वचन', 'परमेश्वर', 'के', 'साथ', 'था'], 'ദൈവം'),\n",
       " (2, ['और', 'वचन', 'परमेश्वर', 'था'], 'ദൈവം'),\n",
       " (1, ['यह', 'परमेश्वर', 'के', 'पुत्र', 'यीशु'], 'ദൈവം'),\n",
       " (2, ['परमेश्वर', 'के', 'पुत्र', 'यीशु', 'मसीह', 'के'], 'പുത്രന്\\u200d'),\n",
       " (2, ['के', 'पुत्र', 'यीशु मसीह', 'के', 'शुभ', 'संदेश'], 'യേശു ക്രിസ്തു'),\n",
       " (0, ['इब्राहीम', 'के', 'वंशज', 'दाऊद'], 'അബ്രഹാം'),\n",
       " (2, ['दाऊद', 'के', 'पुत्र', 'यीशु', 'मसीह', 'की'], 'പുത്രന്\\u200d'),\n",
       " (2, ['के', 'पुत्र', 'यीशु मसीह', 'की', 'वंशावली', 'इस'], 'യേശു ക്രിസ്തു')]"
      ]
     },
     "execution_count": 78,
     "metadata": {},
     "output_type": "execute_result"
    }
   ],
   "source": [
    "sentence_list = db_session.query(db_models.TranslationDraft).filter(\n",
    "        db_models.TranslationDraft.project_id==project_id).all()\n",
    "training_data1 = nlp_crud.get_training_data_from_drafts(sentence_list, window_size=5)\n",
    "training_data1"
   ]
  },
  {
   "cell_type": "code",
   "execution_count": 61,
   "id": "f876e1e9",
   "metadata": {
    "hidden": true
   },
   "outputs": [
    {
     "name": "stdout",
     "output_type": "stream",
     "text": [
      "\t- पहुँचाया।\t- L:तक\t- L:हम =>  {'പ്രാപിക്കേണ്ടതിന്': 1.0}\n",
      "\t- परमेश्वर\t- L:में\t- R:के\t- L:आदि\t- R:साथ\t- R:था =>  {'ദൈവം': 0.25}\n",
      "\t- परमेश्वर\t- L:में\t- R:के\t- R:साथ\t- L:आदि\t- R:था =>  {'ദൈവം': 0.25}\n",
      "\t- परमेश्वर\t- R:के\t- L:में\t- L:आदि\t- R:साथ\t- R:था =>  {'ദൈവം': 0.25}\n",
      "\t- परमेश्वर\t- R:के\t- L:में\t- R:साथ\t- L:आदि\t- R:था =>  {'ദൈവം': 0.25}\n",
      "\t- परमेश्वर\t- R:के\t- L:वचन\t- L:और\t- R:साथ\t- R:था =>  {'ദൈവം': 0.25}\n",
      "\t- परमेश्वर\t- R:के\t- L:वचन\t- R:साथ\t- L:और\t- R:था =>  {'ദൈവം': 0.25}\n",
      "\t- परमेश्वर\t- R:के\t- L:यह\t- R:पुत्र\t- R:यीशु =>  {'ദൈവം': 0.5}\n",
      "\t- परमेश्वर\t- L:वचन\t- R:के\t- L:और\t- R:साथ\t- R:था =>  {'ദൈവം': 0.25}\n",
      "\t- परमेश्वर\t- L:वचन\t- R:के\t- R:साथ\t- L:और\t- R:था =>  {'ദൈവം': 0.25}\n",
      "\t- परमेश्वर\t- L:वचन\t- R:था\t- L:और =>  {'ദൈവം': 0.5}\n",
      "\t- परमेश्वर\t- R:था\t- L:वचन\t- L:और =>  {'ദൈവം': 0.5}\n",
      "\t- परमेश्वर\t- L:यह\t- R:के\t- R:पुत्र\t- R:यीशु =>  {'ദൈവം': 0.5}\n",
      "\t- इब्राहीम\t- R:के\t- R:वंशज\t- R:दाऊद =>  {'അബ്രഹാം': 1.0}\n",
      "\t- इब्राहीम\t- R:का\t- R:पुत्र\t- R:था =>  {'അബ്രഹാം': 1.0}\n",
      "\t- पुत्र\t- L:के\t- R:यीशु\t- L:दाऊद\t- R:मसीह\t- R:की =>  {'പുത്രന്\\u200d': 0.25}\n",
      "\t- पुत्र\t- L:के\t- R:यीशु\t- R:मसीह\t- L:दाऊद\t- R:की =>  {'പുത്രന്\\u200d': 0.25}\n",
      "\t- पुत्र\t- L:के\t- R:यीशु\t- R:मसीह\t- L:परमेश्वर\t- R:के =>  {'പുത്രന്\\u200d': 0.25}\n",
      "\t- पुत्र\t- L:के\t- R:यीशु\t- L:परमेश्वर\t- R:मसीह\t- R:के =>  {'പുത്രന്\\u200d': 0.25}\n",
      "\t- पुत्र\t- R:यीशु\t- L:के\t- L:दाऊद\t- R:मसीह\t- R:की =>  {'പുത്രന്\\u200d': 0.25}\n",
      "\t- पुत्र\t- R:यीशु\t- L:के\t- R:मसीह\t- L:दाऊद\t- R:की =>  {'പുത്രന്\\u200d': 0.25}\n",
      "\t- पुत्र\t- R:यीशु\t- L:के\t- R:मसीह\t- L:परमेश्वर\t- R:के =>  {'പുത്രന്\\u200d': 0.25}\n",
      "\t- पुत्र\t- R:यीशु\t- L:के\t- L:परमेश्वर\t- R:मसीह\t- R:के =>  {'പുത്രന്\\u200d': 0.25}\n",
      "\t- पुत्र\t- L:का\t- R:था\t- L:इब्राहीम\t- R:इसहाक\t- R:और =>  {'പുത്രന്\\u200d': 0.25}\n",
      "\t- पुत्र\t- L:का\t- R:था\t- R:इसहाक\t- L:इब्राहीम\t- R:और =>  {'പുത്രന്\\u200d': 0.25}\n",
      "\t- पुत्र\t- L:का\t- R:हुआ\t- L:इसहाक\t- R:याकूब\t- R:फिर =>  {'പുത്രന്\\u200d': 0.25}\n",
      "\t- पुत्र\t- L:का\t- R:हुआ\t- R:याकूब\t- L:इसहाक\t- R:फिर =>  {'പുത്രന്\\u200d': 0.25}\n",
      "\t- पुत्र\t- R:था\t- L:का\t- L:इब्राहीम\t- R:इसहाक\t- R:और =>  {'പുത്രന്\\u200d': 0.25}\n",
      "\t- पुत्र\t- R:था\t- L:का\t- R:इसहाक\t- L:इब्राहीम\t- R:और =>  {'പുത്രന്\\u200d': 0.25}\n",
      "\t- पुत्र\t- R:हुआ\t- L:का\t- L:इसहाक\t- R:याकूब\t- R:फिर =>  {'പുത്രന്\\u200d': 0.25}\n",
      "\t- पुत्र\t- R:हुआ\t- L:का\t- R:याकूब\t- L:इसहाक\t- R:फिर =>  {'പുത്രന്\\u200d': 0.25}\n",
      "\t- यीशु मसीह\t- L:पुत्र\t- R:की\t- L:के\t- R:वंशावली\t- R:इस =>  {'യേശു ക്രിസ്തു': 0.25}\n",
      "\t- यीशु मसीह\t- L:पुत्र\t- R:की\t- R:वंशावली\t- L:के\t- R:इस =>  {'യേശു ക്രിസ്തു': 0.25}\n",
      "\t- यीशु मसीह\t- L:पुत्र\t- R:के\t- L:के\t- R:शुभ\t- R:संदेश =>  {'യേശു ക്രിസ്തു': 0.25}\n",
      "\t- यीशु मसीह\t- L:पुत्र\t- R:के\t- R:शुभ\t- L:के\t- R:संदेश =>  {'യേശു ക്രിസ്തു': 0.25}\n",
      "\t- यीशु मसीह\t- R:की\t- L:पुत्र\t- L:के\t- R:वंशावली\t- R:इस =>  {'യേശു ക്രിസ്തു': 0.25}\n",
      "\t- यीशु मसीह\t- R:की\t- L:पुत्र\t- R:वंशावली\t- L:के\t- R:इस =>  {'യേശു ക്രിസ്തു': 0.25}\n",
      "\t- यीशु मसीह\t- R:के\t- L:पुत्र\t- L:के\t- R:शुभ\t- R:संदेश =>  {'യേശു ക്രിസ്തു': 0.25}\n",
      "\t- यीशु मसीह\t- R:के\t- L:पुत्र\t- R:शुभ\t- L:के\t- R:संदेश =>  {'യേശു ക്രിസ്തു': 0.25}\n",
      "\t- पाई\t- L:शिक्षा\t- R:है\t- L:तूने\t- R:कैसी\t- R:अटल =>  {'പ്രാപിക്കേണ്ടതിന്': 0.25}\n",
      "\t- पाई\t- L:शिक्षा\t- R:है\t- R:कैसी\t- L:तूने\t- R:अटल =>  {'പ്രാപിക്കേണ്ടതിന്': 0.25}\n",
      "\t- पाई\t- R:है\t- L:शिक्षा\t- L:तूने\t- R:कैसी\t- R:अटल =>  {'പ്രാപിക്കേണ്ടതിന്': 0.25}\n",
      "\t- पाई\t- R:है\t- L:शिक्षा\t- R:कैसी\t- L:तूने\t- R:अटल =>  {'പ്രാപിക്കേണ്ടതിന്': 0.25}\n"
     ]
    }
   ],
   "source": [
    "trie = nlp_crud.build_trie(training_data1)\n",
    "nlp_crud.display_tree(trie)"
   ]
  },
  {
   "cell_type": "markdown",
   "id": "bd444cdd",
   "metadata": {},
   "source": [
    "#### From alignments and dictionaries"
   ]
  },
  {
   "cell_type": "code",
   "execution_count": 62,
   "id": "41ca1671",
   "metadata": {
    "code_folding": [
     3
    ]
   },
   "outputs": [],
   "source": [
    "ALIGNMENT_SRC = \"hi\"\n",
    "ALIGNMENT_TRG = \"ml\"\n",
    "alignment_data = [\n",
    "{\n",
    "    \"sourceTokenList\": [\n",
    "      \"क्योंकि\",\"परमेश्वर\",\"ने\",\"जगत\",\"से\",\"ऐसा\",\"प्रेम\",\"रखा\",\"कि\",\"उसने\",\n",
    "      \"अपना\",\"एकलौता\",\"पुत्र\",\"दे\",\"दिया\",\"ताकि\",\"जो\",\"कोई\",\"उस\",\"पर\",\"विश्वास\",\"करे\",\n",
    "      \"वह\",\"नाश\",\"न\",\"हो\",\"परन्तु\",\"अनन्त\",\"जीवन\",\"पाए\"\n",
    "    ],\n",
    "    \"targetTokenList\": [\n",
    "      \"തന്റെ\",\n",
    "      \"ഏകജാതനായ\",\"പുത്രനിൽ\",\n",
    "      \"വിശ്വസിക്കുന്ന\",\"ഏവനും\",\"നശിച്ചുപോകാതെ\",\"നിത്യജീവൻ\",\n",
    "      \"പ്രാപിക്കേണ്ടതിന്\",\"ദൈവം\",\"അവനെ\",\"നല്കുവാൻ\",\"തക്കവണ്ണം\",\n",
    "      \"ലോകത്തെ\",\"സ്നേഹിച്ചു\"\n",
    "    ],\n",
    "    \"alignedTokens\": [\n",
    "      {\n",
    "        \"sourceTokenIndex\": 1,\n",
    "        \"targetTokenIndex\": 8\n",
    "      },\n",
    "      {\n",
    "        \"sourceTokenIndex\": 2,\n",
    "        \"targetTokenIndex\": 8\n",
    "      },\n",
    "      {\n",
    "        \"sourceTokenIndex\": 3,\n",
    "        \"targetTokenIndex\": 12\n",
    "      },\n",
    "      {\n",
    "        \"sourceTokenIndex\": 4,\n",
    "        \"targetTokenIndex\": 12\n",
    "      },\n",
    "      {\n",
    "        \"sourceTokenIndex\": 5,\n",
    "        \"targetTokenIndex\": 11\n",
    "      },\n",
    "      {\n",
    "        \"sourceTokenIndex\": 6,\n",
    "        \"targetTokenIndex\": 13\n",
    "      },\n",
    "      {\n",
    "        \"sourceTokenIndex\": 7,\n",
    "        \"targetTokenIndex\": 13\n",
    "      },\n",
    "      {\n",
    "        \"sourceTokenIndex\": 8,\n",
    "        \"targetTokenIndex\": 13\n",
    "      },\n",
    "      {\n",
    "        \"sourceTokenIndex\": 9,\n",
    "        \"targetTokenIndex\": 0\n",
    "      },\n",
    "      {\n",
    "        \"sourceTokenIndex\": 10,\n",
    "        \"targetTokenIndex\": 0\n",
    "      },\n",
    "      {\n",
    "        \"sourceTokenIndex\": 11,\n",
    "        \"targetTokenIndex\": 1\n",
    "      },\n",
    "      {\n",
    "        \"sourceTokenIndex\": 12,\n",
    "        \"targetTokenIndex\": 1\n",
    "      },\n",
    "      {\n",
    "        \"sourceTokenIndex\": 11,\n",
    "        \"targetTokenIndex\": 2\n",
    "      },\n",
    "      {\n",
    "        \"sourceTokenIndex\": 12,\n",
    "        \"targetTokenIndex\": 2\n",
    "      },\n",
    "      {\n",
    "        \"sourceTokenIndex\": 13,\n",
    "        \"targetTokenIndex\": 10\n",
    "      },\n",
    "      {\n",
    "        \"sourceTokenIndex\": 14,\n",
    "        \"targetTokenIndex\": 10\n",
    "      },\n",
    "      {\n",
    "        \"sourceTokenIndex\": 20,\n",
    "        \"targetTokenIndex\": 3\n",
    "      },\n",
    "      {\n",
    "        \"sourceTokenIndex\": 21,\n",
    "        \"targetTokenIndex\": 3\n",
    "      },\n",
    "      {\n",
    "        \"sourceTokenIndex\": 18,\n",
    "        \"targetTokenIndex\": 4\n",
    "      },\n",
    "      {\n",
    "        \"sourceTokenIndex\": 19,\n",
    "        \"targetTokenIndex\": 4\n",
    "      },\n",
    "\n",
    "      {\n",
    "        \"sourceTokenIndex\": 23,\n",
    "        \"targetTokenIndex\": 5\n",
    "      },\n",
    "      {\n",
    "        \"sourceTokenIndex\": 24,\n",
    "        \"targetTokenIndex\": 5\n",
    "      },\n",
    "      {\n",
    "        \"sourceTokenIndex\": 25,\n",
    "        \"targetTokenIndex\": 5\n",
    "      },\n",
    "      {\n",
    "        \"sourceTokenIndex\": 27,\n",
    "        \"targetTokenIndex\": 6\n",
    "      },\n",
    "      {\n",
    "        \"sourceTokenIndex\": 28,\n",
    "        \"targetTokenIndex\": 6\n",
    "      },\n",
    "      {\n",
    "        \"sourceTokenIndex\": 29,\n",
    "        \"targetTokenIndex\": 7\n",
    "      }\n",
    "\t]\n",
    "}\n",
    "]"
   ]
  },
  {
   "cell_type": "code",
   "execution_count": 63,
   "id": "47f6d272",
   "metadata": {
    "code_folding": [
     3,
     11
    ]
   },
   "outputs": [
    {
     "data": {
      "text/plain": [
       "[(1, ['क्योंकि', 'परमेश्वर ने', 'जगत', 'से'], 'ദൈവം'),\n",
       " (3, ['क्योंकि', 'परमेश्वर', 'ने', 'जगत से', 'ऐसा', 'प्रेम'], 'ലോകത്തെ'),\n",
       " (3, ['ने', 'जगत', 'से', 'ऐसा', 'प्रेम', 'रखा'], 'തക്കവണ്ണം'),\n",
       " (3, ['जगत', 'से', 'ऐसा', 'प्रेम रखा कि', 'उसने', 'अपना'], 'സ്നേഹിച്ചു'),\n",
       " (3, ['प्रेम', 'रखा', 'कि', 'उसने अपना', 'एकलौता', 'पुत्र'], 'തന്റെ'),\n",
       " (3, ['अपना', 'एकलौता', 'पुत्र', 'दे दिया', 'ताकि', 'जो'], 'നല്കുവാൻ'),\n",
       " (3, ['कोई', 'उस', 'पर', 'विश्वास करे', 'वह', 'नाश'], 'വിശ്വസിക്കുന്ന'),\n",
       " (3, ['ताकि', 'जो', 'कोई', 'उस पर', 'विश्वास', 'करे'], 'ഏവനും'),\n",
       " (3, ['विश्वास', 'करे', 'वह', 'नाश न हो', 'परन्तु', 'अनन्त'], 'നശിച്ചുപോകാതെ'),\n",
       " (3, ['न', 'हो', 'परन्तु', 'अनन्त जीवन', 'पाए'], 'നിത്യജീവൻ'),\n",
       " (3, ['परन्तु', 'अनन्त', 'जीवन', 'पाए', ''], 'പ്രാപിക്കേണ്ടതിന്')]"
      ]
     },
     "execution_count": 63,
     "metadata": {},
     "output_type": "execute_result"
    }
   ],
   "source": [
    "from math import floor, ceil\n",
    "import schemas_nlp\n",
    "\n",
    "def convert_object_type(input_obj, target_class):\n",
    "    '''convert a graphene input object into specified pydantic model'''\n",
    "    kwargs = {}\n",
    "    for key in input_obj:\n",
    "        kwargs[key] = input_obj[key]\n",
    "    new_obj = target_class(**kwargs)\n",
    "    return new_obj\n",
    "\n",
    "def alignments_to_trainingdata(src_lang, trg_lang, alignment_list, window_size=5):\n",
    "    '''Convert alignments to training data for suggestions module and also add to translation_memory\n",
    "    input format: [(<src sent>,<trg_sent>,[(0-0), (1-3),(2-1),..]]\n",
    "    output: <index>\\t<context ayrray>\\t<translation>'''\n",
    "    dict_data = {}\n",
    "    sugg_data = []\n",
    "    for sent in alignment_list:\n",
    "        src_len = len(sent.sourceTokenList)\n",
    "        phrases = nlp_crud.find_pharses_from_alignments(sent.sourceTokenList, sent.targetTokenList,\n",
    "            sent.alignedTokens)\n",
    "        for obj in phrases:\n",
    "            ## prepare data for translation memory/gloss\n",
    "            if obj[\"token\"] in dict_data:\n",
    "                dict_data[obj[\"token\"]]['translations'].append(obj['translation'])\n",
    "            else:\n",
    "                dict_data[obj[\"token\"]] = {\"token\": obj[\"token\"],\n",
    "                \"translations\":[obj['translation']]}\n",
    "            ## prepare data for suggestions trie\n",
    "            end = obj['src_indices'][0]\n",
    "            if end == 0:\n",
    "                pre_context = []\n",
    "            elif end-ceil(window_size/2) >= 0:\n",
    "                start = end-ceil(window_size/2)\n",
    "                pre_context = sent.sourceTokenList[start:end]\n",
    "            else:\n",
    "                pre_context = sent.sourceTokenList[0:end]\n",
    "            start = obj['src_indices'][-1]+1\n",
    "            if start == src_len:\n",
    "                post_context = []\n",
    "            elif start + floor(window_size/2) <= src_len:\n",
    "                end = start + floor(window_size/2)\n",
    "                post_context = sent.sourceTokenList[start:end]\n",
    "            else:\n",
    "                post_context = sent.sourceTokenList[start:]\n",
    "            # split multiword tokens in context\n",
    "            pre_context = ' '.join(pre_context).split(' ')\n",
    "            post_context = ' '.join(post_context).split(' ')\n",
    "\n",
    "            context = pre_context + [obj['token']] + post_context\n",
    "            sugg_data.append((len(pre_context), context, obj['translation']))\n",
    "    return sugg_data\n",
    "\n",
    "alignment_list = [convert_object_type(item, schemas_nlp.Alignment) for item in alignment_data]\n",
    "training_data2 = alignments_to_trainingdata(ALIGNMENT_SRC, ALIGNMENT_TRG, alignment_list)   \n",
    "training_data2"
   ]
  },
  {
   "cell_type": "code",
   "execution_count": 64,
   "id": "ce907d4c",
   "metadata": {},
   "outputs": [
    {
     "name": "stdout",
     "output_type": "stream",
     "text": [
      "\t- परमेश्वर ने\t- L:क्योंकि\t- R:जगत\t- R:से =>  {'ദൈവം': 0.5}\n",
      "\t- परमेश्वर ने\t- R:जगत\t- L:क्योंकि\t- R:से =>  {'ദൈവം': 0.5}\n",
      "\t- जगत से\t- L:ने\t- R:ऐसा\t- L:परमेश्वर\t- R:प्रेम\t- L:क्योंकि =>  {'ലോകത്തെ': 0.25}\n",
      "\t- जगत से\t- L:ने\t- R:ऐसा\t- R:प्रेम\t- L:परमेश्वर\t- L:क्योंकि =>  {'ലോകത്തെ': 0.25}\n",
      "\t- जगत से\t- R:ऐसा\t- L:ने\t- L:परमेश्वर\t- R:प्रेम\t- L:क्योंकि =>  {'ലോകത്തെ': 0.25}\n",
      "\t- जगत से\t- R:ऐसा\t- L:ने\t- R:प्रेम\t- L:परमेश्वर\t- L:क्योंकि =>  {'ലോകത്തെ': 0.25}\n",
      "\t- ऐसा\t- L:से\t- R:प्रेम\t- L:जगत\t- R:रखा\t- L:ने =>  {'തക്കവണ്ണം': 0.25}\n",
      "\t- ऐसा\t- L:से\t- R:प्रेम\t- R:रखा\t- L:जगत\t- L:ने =>  {'തക്കവണ്ണം': 0.25}\n",
      "\t- ऐसा\t- R:प्रेम\t- L:से\t- L:जगत\t- R:रखा\t- L:ने =>  {'തക്കവണ്ണം': 0.25}\n",
      "\t- ऐसा\t- R:प्रेम\t- L:से\t- R:रखा\t- L:जगत\t- L:ने =>  {'തക്കവണ്ണം': 0.25}\n",
      "\t- प्रेम रखा कि\t- L:ऐसा\t- R:उसने\t- L:से\t- R:अपना\t- L:जगत =>  {'സ്നേഹിച്ചു': 0.25}\n",
      "\t- प्रेम रखा कि\t- L:ऐसा\t- R:उसने\t- R:अपना\t- L:से\t- L:जगत =>  {'സ്നേഹിച്ചു': 0.25}\n",
      "\t- प्रेम रखा कि\t- R:उसने\t- L:ऐसा\t- L:से\t- R:अपना\t- L:जगत =>  {'സ്നേഹിച്ചു': 0.25}\n",
      "\t- प्रेम रखा कि\t- R:उसने\t- L:ऐसा\t- R:अपना\t- L:से\t- L:जगत =>  {'സ്നേഹിച്ചു': 0.25}\n",
      "\t- उसने अपना\t- L:कि\t- R:एकलौता\t- L:रखा\t- R:पुत्र\t- L:प्रेम =>  {'തന്റെ': 0.25}\n",
      "\t- उसने अपना\t- L:कि\t- R:एकलौता\t- R:पुत्र\t- L:रखा\t- L:प्रेम =>  {'തന്റെ': 0.25}\n",
      "\t- उसने अपना\t- R:एकलौता\t- L:कि\t- L:रखा\t- R:पुत्र\t- L:प्रेम =>  {'തന്റെ': 0.25}\n",
      "\t- उसने अपना\t- R:एकलौता\t- L:कि\t- R:पुत्र\t- L:रखा\t- L:प्रेम =>  {'തന്റെ': 0.25}\n",
      "\t- दे दिया\t- L:पुत्र\t- R:ताकि\t- L:एकलौता\t- R:जो\t- L:अपना =>  {'നല്കുവാൻ': 0.25}\n",
      "\t- दे दिया\t- L:पुत्र\t- R:ताकि\t- R:जो\t- L:एकलौता\t- L:अपना =>  {'നല്കുവാൻ': 0.25}\n",
      "\t- दे दिया\t- R:ताकि\t- L:पुत्र\t- L:एकलौता\t- R:जो\t- L:अपना =>  {'നല്കുവാൻ': 0.25}\n",
      "\t- दे दिया\t- R:ताकि\t- L:पुत्र\t- R:जो\t- L:एकलौता\t- L:अपना =>  {'നല്കുവാൻ': 0.25}\n",
      "\t- विश्वास करे\t- L:पर\t- R:वह\t- L:उस\t- R:नाश\t- L:कोई =>  {'വിശ്വസിക്കുന്ന': 0.25}\n",
      "\t- विश्वास करे\t- L:पर\t- R:वह\t- R:नाश\t- L:उस\t- L:कोई =>  {'വിശ്വസിക്കുന്ന': 0.25}\n",
      "\t- विश्वास करे\t- R:वह\t- L:पर\t- L:उस\t- R:नाश\t- L:कोई =>  {'വിശ്വസിക്കുന്ന': 0.25}\n",
      "\t- विश्वास करे\t- R:वह\t- L:पर\t- R:नाश\t- L:उस\t- L:कोई =>  {'വിശ്വസിക്കുന്ന': 0.25}\n",
      "\t- उस पर\t- L:कोई\t- R:विश्वास\t- L:जो\t- R:करे\t- L:ताकि =>  {'ഏവനും': 0.25}\n",
      "\t- उस पर\t- L:कोई\t- R:विश्वास\t- R:करे\t- L:जो\t- L:ताकि =>  {'ഏവനും': 0.25}\n",
      "\t- उस पर\t- R:विश्वास\t- L:कोई\t- L:जो\t- R:करे\t- L:ताकि =>  {'ഏവനും': 0.25}\n",
      "\t- उस पर\t- R:विश्वास\t- L:कोई\t- R:करे\t- L:जो\t- L:ताकि =>  {'ഏവനും': 0.25}\n",
      "\t- नाश न हो\t- L:वह\t- R:परन्तु\t- L:करे\t- R:अनन्त\t- L:विश्वास =>  {'നശിച്ചുപോകാതെ': 0.25}\n",
      "\t- नाश न हो\t- L:वह\t- R:परन्तु\t- R:अनन्त\t- L:करे\t- L:विश्वास =>  {'നശിച്ചുപോകാതെ': 0.25}\n",
      "\t- नाश न हो\t- R:परन्तु\t- L:वह\t- L:करे\t- R:अनन्त\t- L:विश्वास =>  {'നശിച്ചുപോകാതെ': 0.25}\n",
      "\t- नाश न हो\t- R:परन्तु\t- L:वह\t- R:अनन्त\t- L:करे\t- L:विश्वास =>  {'നശിച്ചുപോകാതെ': 0.25}\n",
      "\t- अनन्त जीवन\t- L:परन्तु\t- R:पाए\t- L:हो\t- L:न =>  {'നിത്യജീവൻ': 0.5}\n",
      "\t- अनन्त जीवन\t- R:पाए\t- L:परन्तु\t- L:हो\t- L:न =>  {'നിത്യജീവൻ': 0.5}\n",
      "\t- पाए\t- L:जीवन\t- R:\t- L:अनन्त\t- L:परन्तु =>  {'പ്രാപിക്കേണ്ടതിന്': 0.5}\n",
      "\t- पाए\t- R:\t- L:जीवन\t- L:अनन्त\t- L:परन्तु =>  {'പ്രാപിക്കേണ്ടതിന്': 0.5}\n"
     ]
    }
   ],
   "source": [
    "trie = nlp_crud.build_trie(training_data2)\n",
    "nlp_crud.display_tree(trie)"
   ]
  },
  {
   "cell_type": "markdown",
   "id": "b9a9ce23",
   "metadata": {
    "heading_collapsed": true
   },
   "source": [
    "### Saving and Loading Trie"
   ]
  },
  {
   "cell_type": "markdown",
   "id": "9d282c23",
   "metadata": {
    "hidden": true
   },
   "source": [
    "- Saving\n",
    "    * for tries built from uploaded alignment data, we save the model as a JSON can can be easily loaded back when required. Naming of the JSON file is as per the following pattern, `<src_lang>-<trg_lang>-<user_id>--<timestamp>.json` which will allow us to identify and remove data if required which are uploaded separately.\n",
    "    * As data in project draft may always change, tries are built from them dynamically as and when required.\n",
    "    \n",
    "- Loading\n",
    "\n",
    "    We keep all the tries that were used in the App's running time in the memory itself as `suggestion_trie_in_mem[source_lang+\"-\"+target_lang] = trie` \n"
   ]
  },
  {
   "cell_type": "markdown",
   "id": "b99e4da9",
   "metadata": {
    "heading_collapsed": true
   },
   "source": [
    "### Fall back to Translation Memory"
   ]
  },
  {
   "cell_type": "markdown",
   "id": "08e988cc",
   "metadata": {
    "hidden": true
   },
   "source": [
    "Translation Memory table is the fall back, if the trie could not give a suggestion. But these suggestions given by TM are not based on context.\n",
    "\n",
    "What more does Translation Memory offer?\n",
    "- Only data obtained from translation projects on server and alignments loaded on server are available in trie. There are other ways we can get token translations without context, which are stored in TM.\n",
    "    * From dictionaries and lexicons loaded directly to server\n",
    "    * Token translations done on data that are not saved in projects on cloud\n",
    "- Only one directional, source to target, info is available in tries. We can query the TM in the reverse order, if a forward match is not found.\n",
    "- Only exact matching is done on trie's tokens. We can go for a fuzzy match in the absence of exact matching and give useful suggestions when we know translations of slightly different token, thus tackle inflectional changes."
   ]
  },
  {
   "cell_type": "code",
   "execution_count": 65,
   "id": "2176ce20",
   "metadata": {
    "hidden": true
   },
   "outputs": [
    {
     "data": {
      "text/plain": [
       "{'token': 'पुत्र', 'translations': {'പുത്രന്\\u200d': 2.0}, 'metaData': None}"
      ]
     },
     "execution_count": 65,
     "metadata": {},
     "output_type": "execute_result"
    }
   ],
   "source": [
    "import os\n",
    "notebook_path = os. getcwd()\n",
    "new_path = notebook_path.replace('vachan-api/docs', 'vachan-api/app')\n",
    "os.chdir(new_path)\n",
    "\n",
    "from crud import nlp_crud, utils\n",
    "from dependencies import get_db\n",
    "db_session = next(get_db())\n",
    "\n",
    "nlp_crud.glossary(db_session, \"hi\", \"ml\", \"पुत्र\")"
   ]
  },
  {
   "cell_type": "code",
   "execution_count": 66,
   "id": "5404c9ff",
   "metadata": {
    "hidden": true
   },
   "outputs": [
    {
     "data": {
      "text/plain": [
       "{'token': 'പുത്രന്\\u200d', 'translations': {'पुत्र': 2.0}}"
      ]
     },
     "execution_count": 66,
     "metadata": {},
     "output_type": "execute_result"
    }
   ],
   "source": [
    "nlp_crud.glossary(db_session, \"ml\", \"hi\", \"പുത്രന്‍\")"
   ]
  },
  {
   "cell_type": "code",
   "execution_count": 67,
   "id": "ed8ef9f4",
   "metadata": {
    "hidden": true
   },
   "outputs": [
    {
     "data": {
      "text/plain": [
       "{'token': 'പുത്രന്\\u200d', 'translations': {'पुत्र': 0.6666666666666666}}"
      ]
     },
     "execution_count": 67,
     "metadata": {},
     "output_type": "execute_result"
    }
   ],
   "source": [
    "nlp_crud.glossary(db_session, \"ml\", \"hi\", \"പുത്രന്റെ\")"
   ]
  },
  {
   "cell_type": "code",
   "execution_count": 68,
   "id": "09a1160e",
   "metadata": {
    "hidden": true
   },
   "outputs": [
    {
     "data": {
      "text/plain": [
       "{'token': 'പുത്രന്\\u200d', 'translations': {'पुत्र': 0.5}}"
      ]
     },
     "execution_count": 68,
     "metadata": {},
     "output_type": "execute_result"
    }
   ],
   "source": [
    "nlp_crud.glossary(db_session, \"ml\", \"hi\", \"പുത്രന്റെയും\")"
   ]
  },
  {
   "cell_type": "code",
   "execution_count": 69,
   "id": "aab6bddd",
   "metadata": {
    "hidden": true
   },
   "outputs": [
    {
     "data": {
      "text/plain": [
       "{'token': 'कहानी', 'translations': {'കഥ': 1.0}, 'metaData': None}"
      ]
     },
     "execution_count": 69,
     "metadata": {},
     "output_type": "execute_result"
    }
   ],
   "source": [
    "nlp_crud.glossary(db_session, \"hi\",\"ml\", \"कहानी\")"
   ]
  },
  {
   "cell_type": "code",
   "execution_count": 70,
   "id": "d51b92c0",
   "metadata": {
    "hidden": true
   },
   "outputs": [
    {
     "data": {
      "text/plain": [
       "{'token': 'कहानी', 'translations': {'കഥ': 0.3333333333333333}}"
      ]
     },
     "execution_count": 70,
     "metadata": {},
     "output_type": "execute_result"
    }
   ],
   "source": [
    "nlp_crud.glossary(db_session, \"hi\",\"ml\", \"कहानीयों\")"
   ]
  },
  {
   "cell_type": "code",
   "execution_count": null,
   "id": "6955a8d3",
   "metadata": {
    "hidden": true
   },
   "outputs": [],
   "source": []
  },
  {
   "cell_type": "code",
   "execution_count": null,
   "id": "a1e454d8",
   "metadata": {
    "hidden": true
   },
   "outputs": [],
   "source": []
  },
  {
   "cell_type": "code",
   "execution_count": null,
   "id": "82856c32",
   "metadata": {
    "hidden": true
   },
   "outputs": [],
   "source": []
  },
  {
   "cell_type": "code",
   "execution_count": null,
   "id": "7a29897c",
   "metadata": {
    "hidden": true
   },
   "outputs": [],
   "source": []
  },
  {
   "cell_type": "code",
   "execution_count": null,
   "id": "7c3dee48",
   "metadata": {
    "hidden": true
   },
   "outputs": [],
   "source": []
  },
  {
   "cell_type": "code",
   "execution_count": null,
   "id": "2e017182",
   "metadata": {
    "hidden": true
   },
   "outputs": [],
   "source": []
  }
 ],
 "metadata": {
  "kernelspec": {
   "display_name": "vachan-ENV",
   "language": "python",
   "name": "vachan-env"
  },
  "language_info": {
   "codemirror_mode": {
    "name": "ipython",
    "version": 3
   },
   "file_extension": ".py",
   "mimetype": "text/x-python",
   "name": "python",
   "nbconvert_exporter": "python",
   "pygments_lexer": "ipython3",
   "version": "3.8.10"
  }
 },
 "nbformat": 4,
 "nbformat_minor": 5
}
